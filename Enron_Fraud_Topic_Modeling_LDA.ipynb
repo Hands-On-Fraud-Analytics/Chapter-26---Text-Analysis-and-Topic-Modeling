{
  "nbformat": 4,
  "nbformat_minor": 0,
  "metadata": {
    "colab": {
      "provenance": [],
      "authorship_tag": "ABX9TyNyng57frkMet68hXUoU7r4",
      "include_colab_link": true
    },
    "kernelspec": {
      "name": "python3",
      "display_name": "Python 3"
    },
    "language_info": {
      "name": "python"
    },
    "widgets": {
      "application/vnd.jupyter.widget-state+json": {
        "cf783e8052ba4b79891071aada66b62b": {
          "model_module": "@jupyter-widgets/controls",
          "model_name": "HBoxModel",
          "model_module_version": "1.5.0",
          "state": {
            "_dom_classes": [],
            "_model_module": "@jupyter-widgets/controls",
            "_model_module_version": "1.5.0",
            "_model_name": "HBoxModel",
            "_view_count": null,
            "_view_module": "@jupyter-widgets/controls",
            "_view_module_version": "1.5.0",
            "_view_name": "HBoxView",
            "box_style": "",
            "children": [
              "IPY_MODEL_7790b52af8d14f5789ed5f849fa4ac4f",
              "IPY_MODEL_a8af66eb904540d380dabfda9bd587d8",
              "IPY_MODEL_7f9611dd103b494a8f4372123a10d1cc"
            ],
            "layout": "IPY_MODEL_9935dbada6be4dc581ed325c594395f5"
          }
        },
        "7790b52af8d14f5789ed5f849fa4ac4f": {
          "model_module": "@jupyter-widgets/controls",
          "model_name": "HTMLModel",
          "model_module_version": "1.5.0",
          "state": {
            "_dom_classes": [],
            "_model_module": "@jupyter-widgets/controls",
            "_model_module_version": "1.5.0",
            "_model_name": "HTMLModel",
            "_view_count": null,
            "_view_module": "@jupyter-widgets/controls",
            "_view_module_version": "1.5.0",
            "_view_name": "HTMLView",
            "description": "",
            "description_tooltip": null,
            "layout": "IPY_MODEL_0e21bf7b8a50469d96b370a79429ddb4",
            "placeholder": "​",
            "style": "IPY_MODEL_3d28f45f2aa3445292d3c817f8715260",
            "value": "Pandas Apply: 100%"
          }
        },
        "a8af66eb904540d380dabfda9bd587d8": {
          "model_module": "@jupyter-widgets/controls",
          "model_name": "FloatProgressModel",
          "model_module_version": "1.5.0",
          "state": {
            "_dom_classes": [],
            "_model_module": "@jupyter-widgets/controls",
            "_model_module_version": "1.5.0",
            "_model_name": "FloatProgressModel",
            "_view_count": null,
            "_view_module": "@jupyter-widgets/controls",
            "_view_module_version": "1.5.0",
            "_view_name": "ProgressView",
            "bar_style": "success",
            "description": "",
            "description_tooltip": null,
            "layout": "IPY_MODEL_e05a1117956545b09ea87d57f0bbe152",
            "max": 10000,
            "min": 0,
            "orientation": "horizontal",
            "style": "IPY_MODEL_72ed73c106474813995d96ceaba4886c",
            "value": 10000
          }
        },
        "7f9611dd103b494a8f4372123a10d1cc": {
          "model_module": "@jupyter-widgets/controls",
          "model_name": "HTMLModel",
          "model_module_version": "1.5.0",
          "state": {
            "_dom_classes": [],
            "_model_module": "@jupyter-widgets/controls",
            "_model_module_version": "1.5.0",
            "_model_name": "HTMLModel",
            "_view_count": null,
            "_view_module": "@jupyter-widgets/controls",
            "_view_module_version": "1.5.0",
            "_view_name": "HTMLView",
            "description": "",
            "description_tooltip": null,
            "layout": "IPY_MODEL_37e9ee99150f4c15bceff65a1122d117",
            "placeholder": "​",
            "style": "IPY_MODEL_c4b46c54271849c08864324c92e47603",
            "value": " 10000/10000 [01:31&lt;00:00, 123.55it/s]"
          }
        },
        "9935dbada6be4dc581ed325c594395f5": {
          "model_module": "@jupyter-widgets/base",
          "model_name": "LayoutModel",
          "model_module_version": "1.2.0",
          "state": {
            "_model_module": "@jupyter-widgets/base",
            "_model_module_version": "1.2.0",
            "_model_name": "LayoutModel",
            "_view_count": null,
            "_view_module": "@jupyter-widgets/base",
            "_view_module_version": "1.2.0",
            "_view_name": "LayoutView",
            "align_content": null,
            "align_items": null,
            "align_self": null,
            "border": null,
            "bottom": null,
            "display": null,
            "flex": null,
            "flex_flow": null,
            "grid_area": null,
            "grid_auto_columns": null,
            "grid_auto_flow": null,
            "grid_auto_rows": null,
            "grid_column": null,
            "grid_gap": null,
            "grid_row": null,
            "grid_template_areas": null,
            "grid_template_columns": null,
            "grid_template_rows": null,
            "height": null,
            "justify_content": null,
            "justify_items": null,
            "left": null,
            "margin": null,
            "max_height": null,
            "max_width": null,
            "min_height": null,
            "min_width": null,
            "object_fit": null,
            "object_position": null,
            "order": null,
            "overflow": null,
            "overflow_x": null,
            "overflow_y": null,
            "padding": null,
            "right": null,
            "top": null,
            "visibility": null,
            "width": null
          }
        },
        "0e21bf7b8a50469d96b370a79429ddb4": {
          "model_module": "@jupyter-widgets/base",
          "model_name": "LayoutModel",
          "model_module_version": "1.2.0",
          "state": {
            "_model_module": "@jupyter-widgets/base",
            "_model_module_version": "1.2.0",
            "_model_name": "LayoutModel",
            "_view_count": null,
            "_view_module": "@jupyter-widgets/base",
            "_view_module_version": "1.2.0",
            "_view_name": "LayoutView",
            "align_content": null,
            "align_items": null,
            "align_self": null,
            "border": null,
            "bottom": null,
            "display": null,
            "flex": null,
            "flex_flow": null,
            "grid_area": null,
            "grid_auto_columns": null,
            "grid_auto_flow": null,
            "grid_auto_rows": null,
            "grid_column": null,
            "grid_gap": null,
            "grid_row": null,
            "grid_template_areas": null,
            "grid_template_columns": null,
            "grid_template_rows": null,
            "height": null,
            "justify_content": null,
            "justify_items": null,
            "left": null,
            "margin": null,
            "max_height": null,
            "max_width": null,
            "min_height": null,
            "min_width": null,
            "object_fit": null,
            "object_position": null,
            "order": null,
            "overflow": null,
            "overflow_x": null,
            "overflow_y": null,
            "padding": null,
            "right": null,
            "top": null,
            "visibility": null,
            "width": null
          }
        },
        "3d28f45f2aa3445292d3c817f8715260": {
          "model_module": "@jupyter-widgets/controls",
          "model_name": "DescriptionStyleModel",
          "model_module_version": "1.5.0",
          "state": {
            "_model_module": "@jupyter-widgets/controls",
            "_model_module_version": "1.5.0",
            "_model_name": "DescriptionStyleModel",
            "_view_count": null,
            "_view_module": "@jupyter-widgets/base",
            "_view_module_version": "1.2.0",
            "_view_name": "StyleView",
            "description_width": ""
          }
        },
        "e05a1117956545b09ea87d57f0bbe152": {
          "model_module": "@jupyter-widgets/base",
          "model_name": "LayoutModel",
          "model_module_version": "1.2.0",
          "state": {
            "_model_module": "@jupyter-widgets/base",
            "_model_module_version": "1.2.0",
            "_model_name": "LayoutModel",
            "_view_count": null,
            "_view_module": "@jupyter-widgets/base",
            "_view_module_version": "1.2.0",
            "_view_name": "LayoutView",
            "align_content": null,
            "align_items": null,
            "align_self": null,
            "border": null,
            "bottom": null,
            "display": null,
            "flex": null,
            "flex_flow": null,
            "grid_area": null,
            "grid_auto_columns": null,
            "grid_auto_flow": null,
            "grid_auto_rows": null,
            "grid_column": null,
            "grid_gap": null,
            "grid_row": null,
            "grid_template_areas": null,
            "grid_template_columns": null,
            "grid_template_rows": null,
            "height": null,
            "justify_content": null,
            "justify_items": null,
            "left": null,
            "margin": null,
            "max_height": null,
            "max_width": null,
            "min_height": null,
            "min_width": null,
            "object_fit": null,
            "object_position": null,
            "order": null,
            "overflow": null,
            "overflow_x": null,
            "overflow_y": null,
            "padding": null,
            "right": null,
            "top": null,
            "visibility": null,
            "width": null
          }
        },
        "72ed73c106474813995d96ceaba4886c": {
          "model_module": "@jupyter-widgets/controls",
          "model_name": "ProgressStyleModel",
          "model_module_version": "1.5.0",
          "state": {
            "_model_module": "@jupyter-widgets/controls",
            "_model_module_version": "1.5.0",
            "_model_name": "ProgressStyleModel",
            "_view_count": null,
            "_view_module": "@jupyter-widgets/base",
            "_view_module_version": "1.2.0",
            "_view_name": "StyleView",
            "bar_color": null,
            "description_width": ""
          }
        },
        "37e9ee99150f4c15bceff65a1122d117": {
          "model_module": "@jupyter-widgets/base",
          "model_name": "LayoutModel",
          "model_module_version": "1.2.0",
          "state": {
            "_model_module": "@jupyter-widgets/base",
            "_model_module_version": "1.2.0",
            "_model_name": "LayoutModel",
            "_view_count": null,
            "_view_module": "@jupyter-widgets/base",
            "_view_module_version": "1.2.0",
            "_view_name": "LayoutView",
            "align_content": null,
            "align_items": null,
            "align_self": null,
            "border": null,
            "bottom": null,
            "display": null,
            "flex": null,
            "flex_flow": null,
            "grid_area": null,
            "grid_auto_columns": null,
            "grid_auto_flow": null,
            "grid_auto_rows": null,
            "grid_column": null,
            "grid_gap": null,
            "grid_row": null,
            "grid_template_areas": null,
            "grid_template_columns": null,
            "grid_template_rows": null,
            "height": null,
            "justify_content": null,
            "justify_items": null,
            "left": null,
            "margin": null,
            "max_height": null,
            "max_width": null,
            "min_height": null,
            "min_width": null,
            "object_fit": null,
            "object_position": null,
            "order": null,
            "overflow": null,
            "overflow_x": null,
            "overflow_y": null,
            "padding": null,
            "right": null,
            "top": null,
            "visibility": null,
            "width": null
          }
        },
        "c4b46c54271849c08864324c92e47603": {
          "model_module": "@jupyter-widgets/controls",
          "model_name": "DescriptionStyleModel",
          "model_module_version": "1.5.0",
          "state": {
            "_model_module": "@jupyter-widgets/controls",
            "_model_module_version": "1.5.0",
            "_model_name": "DescriptionStyleModel",
            "_view_count": null,
            "_view_module": "@jupyter-widgets/base",
            "_view_module_version": "1.2.0",
            "_view_name": "StyleView",
            "description_width": ""
          }
        }
      }
    }
  },
  "cells": [
    {
      "cell_type": "markdown",
      "metadata": {
        "id": "view-in-github",
        "colab_type": "text"
      },
      "source": [
        "<a href=\"https://colab.research.google.com/github/Hands-On-Fraud-Analytics/Chapter-26---Text-Analysis-and-Topic-Modeling/blob/main/Enron_Fraud_Topic_Modeling_LDA.ipynb\" target=\"_parent\"><img src=\"https://colab.research.google.com/assets/colab-badge.svg\" alt=\"Open In Colab\"/></a>"
      ]
    },
    {
      "cell_type": "markdown",
      "source": [
        "# 📊 Enron Fraud Detection via Topic Modeling (LDA)\n",
        "### Author: ABDELRAHEEM AL AQQAD\n",
        "### Dataset: Enron Email Corpus via Kaggle\n",
        "### Objective: Identify suspicious messages using unsupervised topic modeling and flag those matching fraud-related topics\n"
      ],
      "metadata": {
        "id": "qser3a-J6t0n"
      }
    },
    {
      "cell_type": "markdown",
      "source": [
        "**Step 1: Install Required Packages**"
      ],
      "metadata": {
        "id": "Pn3kmTnu5yd-"
      }
    },
    {
      "cell_type": "markdown",
      "source": [],
      "metadata": {
        "id": "PQjPXvdi7Yk5"
      }
    },
    {
      "cell_type": "code",
      "source": [
        "!pip install kagglehub swifter gensim pyLDAvis"
      ],
      "metadata": {
        "colab": {
          "base_uri": "https://localhost:8080/"
        },
        "id": "lrJ9IgpD4htf",
        "outputId": "22779c63-8dfc-4b94-f8eb-21134a2bd05a"
      },
      "execution_count": 7,
      "outputs": [
        {
          "output_type": "stream",
          "name": "stdout",
          "text": [
            "Requirement already satisfied: kagglehub in /usr/local/lib/python3.11/dist-packages (0.3.11)\n",
            "Requirement already satisfied: swifter in /usr/local/lib/python3.11/dist-packages (1.4.0)\n",
            "Requirement already satisfied: gensim in /usr/local/lib/python3.11/dist-packages (4.3.3)\n",
            "Requirement already satisfied: pyLDAvis in /usr/local/lib/python3.11/dist-packages (3.4.1)\n",
            "Requirement already satisfied: packaging in /usr/local/lib/python3.11/dist-packages (from kagglehub) (24.2)\n",
            "Requirement already satisfied: pyyaml in /usr/local/lib/python3.11/dist-packages (from kagglehub) (6.0.2)\n",
            "Requirement already satisfied: requests in /usr/local/lib/python3.11/dist-packages (from kagglehub) (2.32.3)\n",
            "Requirement already satisfied: tqdm in /usr/local/lib/python3.11/dist-packages (from kagglehub) (4.67.1)\n",
            "Requirement already satisfied: pandas>=1.0.0 in /usr/local/lib/python3.11/dist-packages (from swifter) (2.2.2)\n",
            "Requirement already satisfied: psutil>=5.6.6 in /usr/local/lib/python3.11/dist-packages (from swifter) (5.9.5)\n",
            "Requirement already satisfied: dask>=2.10.0 in /usr/local/lib/python3.11/dist-packages (from dask[dataframe]>=2.10.0->swifter) (2024.12.1)\n",
            "Requirement already satisfied: numpy<2.0,>=1.18.5 in /usr/local/lib/python3.11/dist-packages (from gensim) (1.26.4)\n",
            "Requirement already satisfied: scipy<1.14.0,>=1.7.0 in /usr/local/lib/python3.11/dist-packages (from gensim) (1.13.1)\n",
            "Requirement already satisfied: smart-open>=1.8.1 in /usr/local/lib/python3.11/dist-packages (from gensim) (7.1.0)\n",
            "Requirement already satisfied: joblib>=1.2.0 in /usr/local/lib/python3.11/dist-packages (from pyLDAvis) (1.4.2)\n",
            "Requirement already satisfied: jinja2 in /usr/local/lib/python3.11/dist-packages (from pyLDAvis) (3.1.6)\n",
            "Requirement already satisfied: numexpr in /usr/local/lib/python3.11/dist-packages (from pyLDAvis) (2.10.2)\n",
            "Requirement already satisfied: funcy in /usr/local/lib/python3.11/dist-packages (from pyLDAvis) (2.0)\n",
            "Requirement already satisfied: scikit-learn>=1.0.0 in /usr/local/lib/python3.11/dist-packages (from pyLDAvis) (1.6.1)\n",
            "Requirement already satisfied: setuptools in /usr/local/lib/python3.11/dist-packages (from pyLDAvis) (75.2.0)\n",
            "Requirement already satisfied: click>=8.1 in /usr/local/lib/python3.11/dist-packages (from dask>=2.10.0->dask[dataframe]>=2.10.0->swifter) (8.1.8)\n",
            "Requirement already satisfied: cloudpickle>=3.0.0 in /usr/local/lib/python3.11/dist-packages (from dask>=2.10.0->dask[dataframe]>=2.10.0->swifter) (3.1.1)\n",
            "Requirement already satisfied: fsspec>=2021.09.0 in /usr/local/lib/python3.11/dist-packages (from dask>=2.10.0->dask[dataframe]>=2.10.0->swifter) (2025.3.2)\n",
            "Requirement already satisfied: partd>=1.4.0 in /usr/local/lib/python3.11/dist-packages (from dask>=2.10.0->dask[dataframe]>=2.10.0->swifter) (1.4.2)\n",
            "Requirement already satisfied: toolz>=0.10.0 in /usr/local/lib/python3.11/dist-packages (from dask>=2.10.0->dask[dataframe]>=2.10.0->swifter) (0.12.1)\n",
            "Requirement already satisfied: importlib_metadata>=4.13.0 in /usr/local/lib/python3.11/dist-packages (from dask>=2.10.0->dask[dataframe]>=2.10.0->swifter) (8.6.1)\n",
            "Requirement already satisfied: dask-expr<1.2,>=1.1 in /usr/local/lib/python3.11/dist-packages (from dask[dataframe]>=2.10.0->swifter) (1.1.21)\n",
            "Requirement already satisfied: python-dateutil>=2.8.2 in /usr/local/lib/python3.11/dist-packages (from pandas>=1.0.0->swifter) (2.8.2)\n",
            "Requirement already satisfied: pytz>=2020.1 in /usr/local/lib/python3.11/dist-packages (from pandas>=1.0.0->swifter) (2025.2)\n",
            "Requirement already satisfied: tzdata>=2022.7 in /usr/local/lib/python3.11/dist-packages (from pandas>=1.0.0->swifter) (2025.2)\n",
            "Requirement already satisfied: threadpoolctl>=3.1.0 in /usr/local/lib/python3.11/dist-packages (from scikit-learn>=1.0.0->pyLDAvis) (3.6.0)\n",
            "Requirement already satisfied: wrapt in /usr/local/lib/python3.11/dist-packages (from smart-open>=1.8.1->gensim) (1.17.2)\n",
            "Requirement already satisfied: MarkupSafe>=2.0 in /usr/local/lib/python3.11/dist-packages (from jinja2->pyLDAvis) (3.0.2)\n",
            "Requirement already satisfied: charset-normalizer<4,>=2 in /usr/local/lib/python3.11/dist-packages (from requests->kagglehub) (3.4.1)\n",
            "Requirement already satisfied: idna<4,>=2.5 in /usr/local/lib/python3.11/dist-packages (from requests->kagglehub) (3.10)\n",
            "Requirement already satisfied: urllib3<3,>=1.21.1 in /usr/local/lib/python3.11/dist-packages (from requests->kagglehub) (2.3.0)\n",
            "Requirement already satisfied: certifi>=2017.4.17 in /usr/local/lib/python3.11/dist-packages (from requests->kagglehub) (2025.1.31)\n",
            "Requirement already satisfied: pyarrow>=14.0.1 in /usr/local/lib/python3.11/dist-packages (from dask-expr<1.2,>=1.1->dask[dataframe]>=2.10.0->swifter) (18.1.0)\n",
            "Requirement already satisfied: zipp>=3.20 in /usr/local/lib/python3.11/dist-packages (from importlib_metadata>=4.13.0->dask>=2.10.0->dask[dataframe]>=2.10.0->swifter) (3.21.0)\n",
            "Requirement already satisfied: locket in /usr/local/lib/python3.11/dist-packages (from partd>=1.4.0->dask>=2.10.0->dask[dataframe]>=2.10.0->swifter) (1.0.0)\n",
            "Requirement already satisfied: six>=1.5 in /usr/local/lib/python3.11/dist-packages (from python-dateutil>=2.8.2->pandas>=1.0.0->swifter) (1.17.0)\n"
          ]
        }
      ]
    },
    {
      "cell_type": "markdown",
      "source": [
        "**Step 2: Import Libraries and Download NLTK Data**"
      ],
      "metadata": {
        "id": "aJAZ2kbV7qg0"
      }
    },
    {
      "cell_type": "code",
      "source": [
        "import pandas as pd\n",
        "import numpy as np\n",
        "import nltk\n",
        "import string\n",
        "from nltk.corpus import stopwords\n",
        "from nltk.stem.wordnet import WordNetLemmatizer\n",
        "from nltk.stem.porter import PorterStemmer\n",
        "\n",
        "# Download required NLTK resources\n",
        "nltk.download('punkt')\n",
        "nltk.download('wordnet')\n",
        "nltk.download('stopwords')\n",
        "nltk.download('omw-1.4')"
      ],
      "metadata": {
        "colab": {
          "base_uri": "https://localhost:8080/"
        },
        "id": "eIyQyd1k4pSk",
        "outputId": "cc114268-9761-4b9f-9d1d-5137ef2df1ae"
      },
      "execution_count": 8,
      "outputs": [
        {
          "output_type": "stream",
          "name": "stderr",
          "text": [
            "[nltk_data] Downloading package punkt to /root/nltk_data...\n",
            "[nltk_data]   Package punkt is already up-to-date!\n",
            "[nltk_data] Downloading package wordnet to /root/nltk_data...\n",
            "[nltk_data]   Package wordnet is already up-to-date!\n",
            "[nltk_data] Downloading package stopwords to /root/nltk_data...\n",
            "[nltk_data]   Package stopwords is already up-to-date!\n",
            "[nltk_data] Downloading package omw-1.4 to /root/nltk_data...\n",
            "[nltk_data]   Package omw-1.4 is already up-to-date!\n"
          ]
        },
        {
          "output_type": "execute_result",
          "data": {
            "text/plain": [
              "True"
            ]
          },
          "metadata": {},
          "execution_count": 8
        }
      ]
    },
    {
      "cell_type": "markdown",
      "source": [
        "Step 3: Download and Load Enron Dataset"
      ],
      "metadata": {
        "id": "LVviCbUA7toQ"
      }
    },
    {
      "cell_type": "code",
      "source": [
        "import kagglehub\n",
        "\n",
        "# Download the Enron email dataset\n",
        "path = kagglehub.dataset_download(\"wcukierski/enron-email-dataset\")\n",
        "\n",
        "# Load the CSV file\n",
        "df = pd.read_csv(path + \"/emails.csv\")\n",
        "df = df.dropna(subset=['message'])"
      ],
      "metadata": {
        "id": "2qCyz5D04rE2"
      },
      "execution_count": 9,
      "outputs": []
    },
    {
      "cell_type": "markdown",
      "source": [
        "**Step 4: Prepare the Cleaning Function**"
      ],
      "metadata": {
        "id": "Li1g9vAs7zDO"
      }
    },
    {
      "cell_type": "code",
      "source": [
        "stop = set(stopwords.words('english'))\n",
        "exclude = set(string.punctuation)\n",
        "lemma = WordNetLemmatizer()\n",
        "porter = PorterStemmer()\n",
        "\n",
        "def clean(text):\n",
        "    if isinstance(text, str):\n",
        "        text = text.lower().strip()\n",
        "        words = nltk.word_tokenize(text)\n",
        "        stop_free = [w for w in words if w not in stop and not w.isdigit()]\n",
        "        punc_free = [w for w in stop_free if w not in exclude]\n",
        "        lemmatized = [lemma.lemmatize(w) for w in punc_free]\n",
        "        stemmed = [porter.stem(w) for w in lemmatized]\n",
        "        return stemmed\n",
        "    return []\n"
      ],
      "metadata": {
        "id": "pwrazJi640Cu"
      },
      "execution_count": 10,
      "outputs": []
    },
    {
      "cell_type": "markdown",
      "source": [
        "**Step 5: Sample 1,000 Emails and Clean in Parallel**"
      ],
      "metadata": {
        "id": "XVYFevDS74m0"
      }
    },
    {
      "cell_type": "code",
      "source": [
        "import swifter\n",
        "\n",
        "df_sample = df.sample(10000, random_state=42).reset_index(drop=True)\n",
        "df_sample['clean_content'] = df_sample['message'].swifter.apply(clean)"
      ],
      "metadata": {
        "colab": {
          "base_uri": "https://localhost:8080/",
          "height": 49,
          "referenced_widgets": [
            "cf783e8052ba4b79891071aada66b62b",
            "7790b52af8d14f5789ed5f849fa4ac4f",
            "a8af66eb904540d380dabfda9bd587d8",
            "7f9611dd103b494a8f4372123a10d1cc",
            "9935dbada6be4dc581ed325c594395f5",
            "0e21bf7b8a50469d96b370a79429ddb4",
            "3d28f45f2aa3445292d3c817f8715260",
            "e05a1117956545b09ea87d57f0bbe152",
            "72ed73c106474813995d96ceaba4886c",
            "37e9ee99150f4c15bceff65a1122d117",
            "c4b46c54271849c08864324c92e47603"
          ]
        },
        "id": "kNTSsgPn43hd",
        "outputId": "bd825036-75c3-4c4b-f17b-1a86638ad173"
      },
      "execution_count": 16,
      "outputs": [
        {
          "output_type": "display_data",
          "data": {
            "text/plain": [
              "Pandas Apply:   0%|          | 0/10000 [00:00<?, ?it/s]"
            ],
            "application/vnd.jupyter.widget-view+json": {
              "version_major": 2,
              "version_minor": 0,
              "model_id": "cf783e8052ba4b79891071aada66b62b"
            }
          },
          "metadata": {}
        }
      ]
    },
    {
      "cell_type": "markdown",
      "source": [
        "**Step 6: Build Dictionary and Corpus**"
      ],
      "metadata": {
        "id": "l6yPb76O9qvm"
      }
    },
    {
      "cell_type": "code",
      "source": [
        "from gensim import corpora\n",
        "\n",
        "text_clean = df_sample['clean_content']\n",
        "dictionary = corpora.Dictionary(text_clean)\n",
        "dictionary.filter_extremes(no_below=5, keep_n=50000)\n",
        "corpus = [dictionary.doc2bow(text) for text in text_clean]"
      ],
      "metadata": {
        "id": "bJIUsGpf5AVf"
      },
      "execution_count": 17,
      "outputs": []
    },
    {
      "cell_type": "markdown",
      "source": [
        "**Step 7: Train the LDA Model**"
      ],
      "metadata": {
        "id": "Pxus7HQm9vHe"
      }
    },
    {
      "cell_type": "code",
      "source": [
        "from gensim.models.ldamodel import LdaModel\n",
        "\n",
        "ldamodel = LdaModel(corpus=corpus, num_topics=5, id2word=dictionary, passes=15)\n",
        "topics = ldamodel.print_topics(num_words=5)\n",
        "for topic in topics:\n",
        "    print(topic)"
      ],
      "metadata": {
        "colab": {
          "base_uri": "https://localhost:8080/"
        },
        "id": "vTO8zL3R5Ihd",
        "outputId": "674ef1bb-bfaa-4b2b-fc23-7e33c426eb0f"
      },
      "execution_count": 18,
      "outputs": [
        {
          "output_type": "stream",
          "name": "stdout",
          "text": [
            "(0, '0.023*\"http\" + 0.010*\"imag\" + 0.008*\"--\" + 0.006*\"pleas\" + 0.005*\"click\"')\n",
            "(1, '0.031*\"\\'\\'\" + 0.017*\"``\" + 0.015*\"\\'s\" + 0.012*\"=20\" + 0.011*\"enron\"')\n",
            "(2, '0.009*\"..\" + 0.007*\"jeff\" + 0.007*\"john\" + 0.006*\"j\" + 0.006*\"mark\"')\n",
            "(3, '0.282*\"--\" + 0.030*\"ect\" + 0.021*\"enron\" + 0.013*\"pm\" + 0.008*\"forward\"')\n",
            "(4, '0.011*\"\\'\\'\" + 0.010*\"``\" + 0.010*\"enron\" + 0.007*\"thank\" + 0.007*\"e-mail\"')\n"
          ]
        }
      ]
    },
    {
      "cell_type": "markdown",
      "source": [
        "**Step 8: Assign Topics and Create Flag**"
      ],
      "metadata": {
        "id": "T5SL65yg9zKz"
      }
    },
    {
      "cell_type": "code",
      "source": [
        "def get_topic_details(ldamodel, corpus):\n",
        "    topic_details_df = pd.DataFrame()\n",
        "    for i, row in enumerate(ldamodel[corpus]):\n",
        "        row = sorted(row, key=lambda x: (x[1]), reverse=True)\n",
        "        for j, (topic_num, prop_topic) in enumerate(row):\n",
        "            if j == 0:\n",
        "                wp = ldamodel.show_topic(topic_num)\n",
        "                topic_keywords = \", \".join([word for word, prop in wp])\n",
        "                topic_details_df = pd.concat(\n",
        "                    [topic_details_df, pd.DataFrame([[int(topic_num), round(prop_topic, 4), topic_keywords]])],\n",
        "                    ignore_index=True)\n",
        "    topic_details_df.columns = ['Dominant_Topic', '% Score', 'Topic_Keywords']\n",
        "    return topic_details_df\n",
        "\n",
        "# Merge with original text\n",
        "topic_data = get_topic_details(ldamodel, corpus)\n",
        "topic_data['Original_Text'] = df_sample['message']\n",
        "topic_data['flag'] = np.where(topic_data['Dominant_Topic'] == 3, 1, 0)\n",
        "\n",
        "topic_data.head()"
      ],
      "metadata": {
        "colab": {
          "base_uri": "https://localhost:8080/",
          "height": 206
        },
        "id": "1UN6cbdH5ReQ",
        "outputId": "92c704e2-dd43-4b37-cd8b-fbed2b4f87d8"
      },
      "execution_count": 19,
      "outputs": [
        {
          "output_type": "execute_result",
          "data": {
            "text/plain": [
              "   Dominant_Topic  % Score                                     Topic_Keywords  \\\n",
              "0               4   0.6225  '', ``, enron, thank, e-mail, pleas, messag, s...   \n",
              "1               4   0.9797  '', ``, enron, thank, e-mail, pleas, messag, s...   \n",
              "2               4   0.4782  '', ``, enron, thank, e-mail, pleas, messag, s...   \n",
              "3               4   0.3951  '', ``, enron, thank, e-mail, pleas, messag, s...   \n",
              "4               4   0.9798  '', ``, enron, thank, e-mail, pleas, messag, s...   \n",
              "\n",
              "                                       Original_Text  flag  \n",
              "0  Message-ID: <21013688.1075844564560.JavaMail.e...     0  \n",
              "1  Message-ID: <22688499.1075854130303.JavaMail.e...     0  \n",
              "2  Message-ID: <27817771.1075841359502.JavaMail.e...     0  \n",
              "3  Message-ID: <10695160.1075858510449.JavaMail.e...     0  \n",
              "4  Message-ID: <27819143.1075853689038.JavaMail.e...     0  "
            ],
            "text/html": [
              "\n",
              "  <div id=\"df-a4de9f51-9cc4-4b42-8500-f80047ba1e19\" class=\"colab-df-container\">\n",
              "    <div>\n",
              "<style scoped>\n",
              "    .dataframe tbody tr th:only-of-type {\n",
              "        vertical-align: middle;\n",
              "    }\n",
              "\n",
              "    .dataframe tbody tr th {\n",
              "        vertical-align: top;\n",
              "    }\n",
              "\n",
              "    .dataframe thead th {\n",
              "        text-align: right;\n",
              "    }\n",
              "</style>\n",
              "<table border=\"1\" class=\"dataframe\">\n",
              "  <thead>\n",
              "    <tr style=\"text-align: right;\">\n",
              "      <th></th>\n",
              "      <th>Dominant_Topic</th>\n",
              "      <th>% Score</th>\n",
              "      <th>Topic_Keywords</th>\n",
              "      <th>Original_Text</th>\n",
              "      <th>flag</th>\n",
              "    </tr>\n",
              "  </thead>\n",
              "  <tbody>\n",
              "    <tr>\n",
              "      <th>0</th>\n",
              "      <td>4</td>\n",
              "      <td>0.6225</td>\n",
              "      <td>'', ``, enron, thank, e-mail, pleas, messag, s...</td>\n",
              "      <td>Message-ID: &lt;21013688.1075844564560.JavaMail.e...</td>\n",
              "      <td>0</td>\n",
              "    </tr>\n",
              "    <tr>\n",
              "      <th>1</th>\n",
              "      <td>4</td>\n",
              "      <td>0.9797</td>\n",
              "      <td>'', ``, enron, thank, e-mail, pleas, messag, s...</td>\n",
              "      <td>Message-ID: &lt;22688499.1075854130303.JavaMail.e...</td>\n",
              "      <td>0</td>\n",
              "    </tr>\n",
              "    <tr>\n",
              "      <th>2</th>\n",
              "      <td>4</td>\n",
              "      <td>0.4782</td>\n",
              "      <td>'', ``, enron, thank, e-mail, pleas, messag, s...</td>\n",
              "      <td>Message-ID: &lt;27817771.1075841359502.JavaMail.e...</td>\n",
              "      <td>0</td>\n",
              "    </tr>\n",
              "    <tr>\n",
              "      <th>3</th>\n",
              "      <td>4</td>\n",
              "      <td>0.3951</td>\n",
              "      <td>'', ``, enron, thank, e-mail, pleas, messag, s...</td>\n",
              "      <td>Message-ID: &lt;10695160.1075858510449.JavaMail.e...</td>\n",
              "      <td>0</td>\n",
              "    </tr>\n",
              "    <tr>\n",
              "      <th>4</th>\n",
              "      <td>4</td>\n",
              "      <td>0.9798</td>\n",
              "      <td>'', ``, enron, thank, e-mail, pleas, messag, s...</td>\n",
              "      <td>Message-ID: &lt;27819143.1075853689038.JavaMail.e...</td>\n",
              "      <td>0</td>\n",
              "    </tr>\n",
              "  </tbody>\n",
              "</table>\n",
              "</div>\n",
              "    <div class=\"colab-df-buttons\">\n",
              "\n",
              "  <div class=\"colab-df-container\">\n",
              "    <button class=\"colab-df-convert\" onclick=\"convertToInteractive('df-a4de9f51-9cc4-4b42-8500-f80047ba1e19')\"\n",
              "            title=\"Convert this dataframe to an interactive table.\"\n",
              "            style=\"display:none;\">\n",
              "\n",
              "  <svg xmlns=\"http://www.w3.org/2000/svg\" height=\"24px\" viewBox=\"0 -960 960 960\">\n",
              "    <path d=\"M120-120v-720h720v720H120Zm60-500h600v-160H180v160Zm220 220h160v-160H400v160Zm0 220h160v-160H400v160ZM180-400h160v-160H180v160Zm440 0h160v-160H620v160ZM180-180h160v-160H180v160Zm440 0h160v-160H620v160Z\"/>\n",
              "  </svg>\n",
              "    </button>\n",
              "\n",
              "  <style>\n",
              "    .colab-df-container {\n",
              "      display:flex;\n",
              "      gap: 12px;\n",
              "    }\n",
              "\n",
              "    .colab-df-convert {\n",
              "      background-color: #E8F0FE;\n",
              "      border: none;\n",
              "      border-radius: 50%;\n",
              "      cursor: pointer;\n",
              "      display: none;\n",
              "      fill: #1967D2;\n",
              "      height: 32px;\n",
              "      padding: 0 0 0 0;\n",
              "      width: 32px;\n",
              "    }\n",
              "\n",
              "    .colab-df-convert:hover {\n",
              "      background-color: #E2EBFA;\n",
              "      box-shadow: 0px 1px 2px rgba(60, 64, 67, 0.3), 0px 1px 3px 1px rgba(60, 64, 67, 0.15);\n",
              "      fill: #174EA6;\n",
              "    }\n",
              "\n",
              "    .colab-df-buttons div {\n",
              "      margin-bottom: 4px;\n",
              "    }\n",
              "\n",
              "    [theme=dark] .colab-df-convert {\n",
              "      background-color: #3B4455;\n",
              "      fill: #D2E3FC;\n",
              "    }\n",
              "\n",
              "    [theme=dark] .colab-df-convert:hover {\n",
              "      background-color: #434B5C;\n",
              "      box-shadow: 0px 1px 3px 1px rgba(0, 0, 0, 0.15);\n",
              "      filter: drop-shadow(0px 1px 2px rgba(0, 0, 0, 0.3));\n",
              "      fill: #FFFFFF;\n",
              "    }\n",
              "  </style>\n",
              "\n",
              "    <script>\n",
              "      const buttonEl =\n",
              "        document.querySelector('#df-a4de9f51-9cc4-4b42-8500-f80047ba1e19 button.colab-df-convert');\n",
              "      buttonEl.style.display =\n",
              "        google.colab.kernel.accessAllowed ? 'block' : 'none';\n",
              "\n",
              "      async function convertToInteractive(key) {\n",
              "        const element = document.querySelector('#df-a4de9f51-9cc4-4b42-8500-f80047ba1e19');\n",
              "        const dataTable =\n",
              "          await google.colab.kernel.invokeFunction('convertToInteractive',\n",
              "                                                    [key], {});\n",
              "        if (!dataTable) return;\n",
              "\n",
              "        const docLinkHtml = 'Like what you see? Visit the ' +\n",
              "          '<a target=\"_blank\" href=https://colab.research.google.com/notebooks/data_table.ipynb>data table notebook</a>'\n",
              "          + ' to learn more about interactive tables.';\n",
              "        element.innerHTML = '';\n",
              "        dataTable['output_type'] = 'display_data';\n",
              "        await google.colab.output.renderOutput(dataTable, element);\n",
              "        const docLink = document.createElement('div');\n",
              "        docLink.innerHTML = docLinkHtml;\n",
              "        element.appendChild(docLink);\n",
              "      }\n",
              "    </script>\n",
              "  </div>\n",
              "\n",
              "\n",
              "<div id=\"df-072479db-c12b-4196-a8c9-bbc909475269\">\n",
              "  <button class=\"colab-df-quickchart\" onclick=\"quickchart('df-072479db-c12b-4196-a8c9-bbc909475269')\"\n",
              "            title=\"Suggest charts\"\n",
              "            style=\"display:none;\">\n",
              "\n",
              "<svg xmlns=\"http://www.w3.org/2000/svg\" height=\"24px\"viewBox=\"0 0 24 24\"\n",
              "     width=\"24px\">\n",
              "    <g>\n",
              "        <path d=\"M19 3H5c-1.1 0-2 .9-2 2v14c0 1.1.9 2 2 2h14c1.1 0 2-.9 2-2V5c0-1.1-.9-2-2-2zM9 17H7v-7h2v7zm4 0h-2V7h2v10zm4 0h-2v-4h2v4z\"/>\n",
              "    </g>\n",
              "</svg>\n",
              "  </button>\n",
              "\n",
              "<style>\n",
              "  .colab-df-quickchart {\n",
              "      --bg-color: #E8F0FE;\n",
              "      --fill-color: #1967D2;\n",
              "      --hover-bg-color: #E2EBFA;\n",
              "      --hover-fill-color: #174EA6;\n",
              "      --disabled-fill-color: #AAA;\n",
              "      --disabled-bg-color: #DDD;\n",
              "  }\n",
              "\n",
              "  [theme=dark] .colab-df-quickchart {\n",
              "      --bg-color: #3B4455;\n",
              "      --fill-color: #D2E3FC;\n",
              "      --hover-bg-color: #434B5C;\n",
              "      --hover-fill-color: #FFFFFF;\n",
              "      --disabled-bg-color: #3B4455;\n",
              "      --disabled-fill-color: #666;\n",
              "  }\n",
              "\n",
              "  .colab-df-quickchart {\n",
              "    background-color: var(--bg-color);\n",
              "    border: none;\n",
              "    border-radius: 50%;\n",
              "    cursor: pointer;\n",
              "    display: none;\n",
              "    fill: var(--fill-color);\n",
              "    height: 32px;\n",
              "    padding: 0;\n",
              "    width: 32px;\n",
              "  }\n",
              "\n",
              "  .colab-df-quickchart:hover {\n",
              "    background-color: var(--hover-bg-color);\n",
              "    box-shadow: 0 1px 2px rgba(60, 64, 67, 0.3), 0 1px 3px 1px rgba(60, 64, 67, 0.15);\n",
              "    fill: var(--button-hover-fill-color);\n",
              "  }\n",
              "\n",
              "  .colab-df-quickchart-complete:disabled,\n",
              "  .colab-df-quickchart-complete:disabled:hover {\n",
              "    background-color: var(--disabled-bg-color);\n",
              "    fill: var(--disabled-fill-color);\n",
              "    box-shadow: none;\n",
              "  }\n",
              "\n",
              "  .colab-df-spinner {\n",
              "    border: 2px solid var(--fill-color);\n",
              "    border-color: transparent;\n",
              "    border-bottom-color: var(--fill-color);\n",
              "    animation:\n",
              "      spin 1s steps(1) infinite;\n",
              "  }\n",
              "\n",
              "  @keyframes spin {\n",
              "    0% {\n",
              "      border-color: transparent;\n",
              "      border-bottom-color: var(--fill-color);\n",
              "      border-left-color: var(--fill-color);\n",
              "    }\n",
              "    20% {\n",
              "      border-color: transparent;\n",
              "      border-left-color: var(--fill-color);\n",
              "      border-top-color: var(--fill-color);\n",
              "    }\n",
              "    30% {\n",
              "      border-color: transparent;\n",
              "      border-left-color: var(--fill-color);\n",
              "      border-top-color: var(--fill-color);\n",
              "      border-right-color: var(--fill-color);\n",
              "    }\n",
              "    40% {\n",
              "      border-color: transparent;\n",
              "      border-right-color: var(--fill-color);\n",
              "      border-top-color: var(--fill-color);\n",
              "    }\n",
              "    60% {\n",
              "      border-color: transparent;\n",
              "      border-right-color: var(--fill-color);\n",
              "    }\n",
              "    80% {\n",
              "      border-color: transparent;\n",
              "      border-right-color: var(--fill-color);\n",
              "      border-bottom-color: var(--fill-color);\n",
              "    }\n",
              "    90% {\n",
              "      border-color: transparent;\n",
              "      border-bottom-color: var(--fill-color);\n",
              "    }\n",
              "  }\n",
              "</style>\n",
              "\n",
              "  <script>\n",
              "    async function quickchart(key) {\n",
              "      const quickchartButtonEl =\n",
              "        document.querySelector('#' + key + ' button');\n",
              "      quickchartButtonEl.disabled = true;  // To prevent multiple clicks.\n",
              "      quickchartButtonEl.classList.add('colab-df-spinner');\n",
              "      try {\n",
              "        const charts = await google.colab.kernel.invokeFunction(\n",
              "            'suggestCharts', [key], {});\n",
              "      } catch (error) {\n",
              "        console.error('Error during call to suggestCharts:', error);\n",
              "      }\n",
              "      quickchartButtonEl.classList.remove('colab-df-spinner');\n",
              "      quickchartButtonEl.classList.add('colab-df-quickchart-complete');\n",
              "    }\n",
              "    (() => {\n",
              "      let quickchartButtonEl =\n",
              "        document.querySelector('#df-072479db-c12b-4196-a8c9-bbc909475269 button');\n",
              "      quickchartButtonEl.style.display =\n",
              "        google.colab.kernel.accessAllowed ? 'block' : 'none';\n",
              "    })();\n",
              "  </script>\n",
              "</div>\n",
              "\n",
              "    </div>\n",
              "  </div>\n"
            ],
            "application/vnd.google.colaboratory.intrinsic+json": {
              "type": "dataframe",
              "variable_name": "topic_data",
              "summary": "{\n  \"name\": \"topic_data\",\n  \"rows\": 10000,\n  \"fields\": [\n    {\n      \"column\": \"Dominant_Topic\",\n      \"properties\": {\n        \"dtype\": \"number\",\n        \"std\": 1,\n        \"min\": 0,\n        \"max\": 4,\n        \"num_unique_values\": 5,\n        \"samples\": [\n          3,\n          2,\n          0\n        ],\n        \"semantic_type\": \"\",\n        \"description\": \"\"\n      }\n    },\n    {\n      \"column\": \"% Score\",\n      \"properties\": {\n        \"dtype\": \"float32\",\n        \"num_unique_values\": 4993,\n        \"samples\": [\n          0.8137000203132629,\n          0.9150999784469604,\n          0.6822999715805054\n        ],\n        \"semantic_type\": \"\",\n        \"description\": \"\"\n      }\n    },\n    {\n      \"column\": \"Topic_Keywords\",\n      \"properties\": {\n        \"dtype\": \"category\",\n        \"num_unique_values\": 5,\n        \"samples\": [\n          \"--, ect, enron, pm, forward, pleas, j, vinc, kay, thank\",\n          \".., jeff, john, j, mark, richard, jame, ee, david, l\",\n          \"http, imag, --, pleas, click, error, new, inform, email, pete.davi\"\n        ],\n        \"semantic_type\": \"\",\n        \"description\": \"\"\n      }\n    },\n    {\n      \"column\": \"Original_Text\",\n      \"properties\": {\n        \"dtype\": \"string\",\n        \"num_unique_values\": 10000,\n        \"samples\": [\n          \"Message-ID: <29214813.1075859896552.JavaMail.evans@thyme>\\nDate: Fri, 5 Nov 1999 11:58:00 -0800 (PST)\\nFrom: mark.taylor@enron.com\\nTo: bhutt@ankarcapital.com\\nSubject: Re: Cruisin'\\nCc: gpier@doubleclick.net\\nMime-Version: 1.0\\nContent-Type: text/plain; charset=us-ascii\\nContent-Transfer-Encoding: 7bit\\nBcc: gpier@doubleclick.net\\nX-From: Mark Taylor\\nX-To: \\\"Bruce Hutt\\\" <bhutt@ankarcapital.com>\\nX-cc: \\\"Pier, Greg\\\" <gpier@doubleclick.net>\\nX-bcc: \\nX-Folder: \\\\Mark_Taylor _Dec_2000\\\\Notes Folders\\\\All documents\\nX-Origin: Taylor-M\\nX-FileName: mtaylor.nsf\\n\\nBummer - I had no idea the USVI wasn't considered part of the US - I'm \\nassuming when you say \\\"on the way back in\\\" you mean from the USVI to the \\nmainland since we could try to arrange things to avoid going back to the BVI \\nwhile you were with us if that made a difference.\\n\\nI don't have any leads on a possible stand-in, but don't really want one \\neither since we've our hearts set on YOU.    Hopefully the lawyer can figure \\nout a way to speed things up.  As a last resort, maybe we should check with \\nGreg for a replacement since that's who he'll have to bunk with.  You have to \\nbe reasonably careful about such choices since you will be spending your \\nholiday in pretty close contact with them.   It may also be a bit late to \\nfind transport to that part of the world; any hope of transferring the ticket \\nin your name to someone else?\\n\\n\\n\\n\\n\\n\\\"Bruce Hutt\\\" <bhutt@ankarcapital.com> on 11/05/99 02:50:19 PM\\nTo: Mark Taylor/HOU/ECT@ECT\\ncc: \\\"Pier, Greg\\\" <gpier@doubleclick.net> \\nSubject: Re: Cruisin'\\n\\n\\n\\nMark\\n\\nI have just spoken with my lawyer.  Basically, USVI does not work.  I could\\nbe easily \\\"carded\\\" on the way back in.  Apparently, it is well tried and\\ntherefore well patrolled way of entry into the US.\\n\\nWe are going to try and get INS to speed the process, but basically I am in\\na difficult position.  I no longer have the first job under which the first\\napplication was submitted, so I cannot call and say I need the travel permit\\nfor business reasons, and although my cheques have been cashed (I think) the\\ntravel permit is delayed somewhere.  I have no news at all on the second\\napplication.\\n\\nDo you know of anyone that you may want to take along instead?  One or two\\nspots going....whichever is easiest to fill.\\n\\nB\\n-----Original Message-----\\nFrom: Mark Taylor <mtaylo1@ect.enron.com>\\nTo: Bruce Hutt <bhutt@ankarcapital.com>\\nCc: Pier, Greg <gpier@doubleclick.net>\\nDate: Friday, November 05, 1999 11:27 AM\\nSubject: Re: Cruisin'\\n\\n\\n>\\n>\\n>Would it work if we picked you up in the USVI?  I know it's possible to fly\\ninto\\n>St. Thomas either directly from New York or through San Juan and you could\\ntake\\n>a ferry to St. John (still part o the USVI) where we could pick you up.\\nIt's a\\n>bit of a hassle since we have to clear the boat into the US and then back\\nto the\\n>BVI but I've done it a couple of times before.  The timing might be\\ndifficult\\n>since we can't possibly get the boat to St. John before the afternoon of\\nthe\\n>22nd.  If you're nervous about sailing into the BVI, we could stick around\\nSt.\\n>John for a few days.  You might check the cruising guide & see what it says\\n>about the US side of things - places to go/anchor, etc.\\n>\\n>\\n>\\n\\n\\n\",\n          \"Message-ID: <27649189.1075851672030.JavaMail.evans@thyme>\\nDate: Mon, 11 Dec 2000 06:15:00 -0800 (PST)\\nFrom: david.fisher@enron.com\\nTo: andy.zipper@enron.com\\nSubject: Enron-TrueQuote Integration Technical Questions\\nMime-Version: 1.0\\nContent-Type: text/plain; charset=us-ascii\\nContent-Transfer-Encoding: 7bit\\nX-From: David Fisher\\nX-To: Andy Zipper\\nX-cc: \\nX-bcc: \\nX-Folder: \\\\Andrew_Zipper_Nov2001\\\\Notes Folders\\\\All documents\\nX-Origin: ZIPPER-A\\nX-FileName: azipper.nsf\\n\\nAndy,\\n\\nBelow are a number of the e-mail's that I've exchanged with TrueQuote.  I \\ncan't say that they make for interesting reading but if you note any \\npotential issues please let me know.  Most of the notes relate to product \\nmapping issues but you will notice highlighted in red a note regarding the \\nordering of a leased line which in my mind is \\\"acceptance of responsibility \\nby action.\\\"  I'll be crafting a note regarding testing soon and will \\ncoordinate this with Jay and yourself.  I'll also be forwarding e-mails with \\nHouston Street.  Let me know if there is anything else I can do to further \\nclarify our status.\\n\\n-David\\n\\n\\n---------------------- Forwarded by David Fisher/NA/Enron on 12/11/2000 01:58 \\nPM ---------------------------\\n\\n\\n\\\"O'Neill, Maria\\\" <Maria.O'Neill@enform.com> on 10/19/2000 10:04:36 PM\\nTo: david.fisher@enron.com\\ncc: \\\"Wayne Crane (E-mail)\\\" <wayne@crane.net> \\n\\nSubject: Enron-TrueQuote Integration Technical Questions\\n\\n\\nDavid,\\n\\nI appreciate the phone call from you this morning.  Attached is our most\\ncurrent list of technical questions that we would like to discuss with Jay\\nand you during our conference call next week.  If any of the questions need\\nfurther clarification, please do not hesitate to call me or send me an\\nEmail.\\n\\nPlease let me know when you would like to schedule the call next week.  We\\nare looking forward to working with Jay and you on this exciting project.\\n\\nRegards,\\n\\nMaria F. O'Neill\\nSenior Manager, EnFORM Technology\\n> Enterprise TransFORMation Through Technology\\n3 Greenway Plaza, Suite 800\\nHouston, TX  77046\\n\\n <<EnronTechnicalQuestions101900.doc>>\\n\\n - EnronTechnicalQuestions101900.doc\\n---------------------- Forwarded by David Fisher/NA/Enron on 12/11/2000 01:58 \\nPM ---------------------------\\n\\n\\n\\\"O'Neill, Maria\\\" <Maria.O'Neill@enform.com> on 10/26/2000 01:50:34 PM\\nTo: David.Fisher@enron.com\\ncc:  \\n\\nSubject: RE: Enron-TrueQuote Integration Technical Questions\\n\\n\\nHi David,\\n\\nThanks for sending the answers to our technical questions. After carefully\\nreviewing your answers, we have a few follow-up questions.  These appear in\\n\\\"green\\\".  Please let me know if anything needs further clarification.\\n\\nWe are looking forward to meeting with you next week. Tentatively, we are\\nplanning to have 5 or 6 people attend.  These include three really technical\\npeople, a couple of leads (including myself), a user from the True Quote\\nbusiness side who understands the products that are traded on True Quote,\\nand the new True Quote CIO (who's mainly interested in hearing what is said\\nmore so than actively participating in the discussion).\\n\\nBy next Tuesday, I plan to send you our proposed agenda for the meeting.  If\\nyou have a different agenda in mind for the meeting, let's discuss it over\\nthe phone on Wednesday and jointly priortize the items for discussion. We\\nare very flexible in terms of the agenda.\\n\\nThanks in advance for any additional information you can send us.  It's nice\\nto have a contact to be able to correspond with.  Have a great day!\\n\\n-----Original Message-----\\nFrom: David.Fisher@enron.com [mailto:David.Fisher@enron.com]\\nSent: Tuesday, October 24, 2000 4:32 PM\\nTo: O'Neill, Maria\\nSubject: Enron-TrueQuote Integration Technical Questions\\n\\n\\n\\nMaria,\\n\\nIt was good to hear from you this morning.  I have attached your document\\nwith answers to your questions included.  In addition, I've provided the\\nfinalized DTD and our schedule of release dates for specific functionality.\\n\\nI raised your desire to meet to discuss the project and everyone agrees\\nthat getting together is a good idea.  That said, we believe it would be\\nbest to wait until we have a firm agenda to discuss.  For instance, we will\\nneed to get together in the near term to discuss data mapping issues.  Feel\\nfree to call or drop a note if you have any questions or concerns.\\n\\nRegards,\\n\\nDavid\\n\\nThe following are the dates that we will release functionality.\\n\\n1 December 2000:  Login, Attempt Transaction, Post Price, Request Price and\\nRequest Order Status.\\n15 December 2000: Request Transaction History, Request Credit Matrix, Post\\nProduct Set Data and Post Credit Matrix.\\n\\n(See attached file: EnronTechnicalQuestions101900 & Answers.doc)(See\\nattached file: exchange.dtd)\\n\\n\\n - ClarificationsFromEnronAnswers2.doc\\n---------------------- Forwarded by David Fisher/NA/Enron on 12/11/2000 01:58 \\nPM ---------------------------\\n\\n\\n\\\"O'Neill, Maria\\\" <Maria.O'neill@Enform.com> on 11/08/2000 10:52:06 AM\\nPlease respond to <Maria.O'neill@Enform.com>\\nTo: <David.Fisher@enron.com>\\ncc:  \\n\\nSubject: RE: Enron-TrueQuote Integration Technical Questions\\n\\n\\nDavid,\\n\\nI really appreciate your efforts in adding another hour to our meeting this\\nafternoon and in making Jay available for the discussion.  The following is\\na list of technical questions that we would like to discuss in this\\nafternoon's meeting:\\n\\n1) This one is probably going to be discussed in the first two hours - We\\nwill need to have the data to populate our tables with in order to map PID,\\nCPID, RID, PSETID, CATGID, CTYID, CMDTYID.  The non-technical people know\\nall of the information about the products, deal types, etc.  However, do\\nthey know that for example, PID \\\"123\\\" maps back to Product \\\"ABC\\\"?  I would\\nthink the technical people are the ones that know how this codes map back to\\nspecific product information on your system.\\n\\n2) Could you provide us a little background on why Credit term changed from\\n\\\"Required\\\" to \\\"Implied\\\" during the last version of the DTD that we received\\nfrom you?\\n\\n3) We sent this question a few days ago, but have not received a response:\\nThere are several different parameter names specified for the XML that is\\npassed between systems.\\nThe following is a list of those specified in the External Interface\\nDocument:\\n\\nPost Prices:  prices (Page 12, Notes, Decision 1, Parameters)\\nRequest Prices:  prices (Page 14, Notes, Decision 1, Parameters)\\nAttempt Transaction: txn (Page 16, Notes, Decision 1, Parameters)\\nPost Product Set Data: xml (Page 26, Notes, Decision 1, Parameters)\\nPost Credit Matrix: xml (Page 28, Notes, Decision 1, Parameters)\\n\\nShould all of the parameter names be \\\"xml\\\" or should the parameter names for\\nPost Product Set Data and Post Credit Matrix be changed to reflect the\\nnaming convention of the other use cases?\\n\\nUsing \\\"xml\\\" as the parameter name for all use cases will reduce the\\nredundancy of the code we'll need to write to route the data to our internal\\ninterfaces.\\n\\n4) We still have some concerns over having to maintain Enron's calendar on\\nour system since term is sent as part of the key.  We would like to discuss\\nalternatives for dealing with date interpretation.\\n\\n5) We had asked a question earlier regarding business responses being sent\\nback within the same HTTP session.   We are going to assume that\\nconfirmation comes back in the HTTP response since there has been no\\ninterface defined for business responses.  We would like to confirm this\\nassumption in this meeting.\\n\\n6) Is there going to be some capability of cancelling a transaction attempt\\nif for some reason we do not receive a response back from Enron on a\\ntransaction attempt and a subsequent transaction search?\\n\\n7) Would Enron consider posting all of their requests to a .asp file as\\nopposed to a file with no extension (ext_nrt.asp instead of ext_nrt)?  It is\\na generally accepted practice to include file extensions when transporting\\nfiles.\\n\\nThanks again for everything David.  We will look forward to talking to you\\nlater today!\\n\\nRegards,\\nMaria\\n\\n-----Original Message-----\\nFrom: David.Fisher@enron.com [mailto:David.Fisher@enron.com]\\nSent: Wednesday, November 08, 2000 8:30 AM\\nTo: Maria.O'neill@Enform.com\\nSubject: RE: Enron-TrueQuote Integration Technical Questions\\n\\n\\n\\nMaria,\\n\\nI understand your concern and while I want to ensure we address product\\nmapping as the primary focus of the meetings, I asked if Jay Webb and/or\\nMike Guadarrama could spend some time discussing your technical questions.\\nJay and/or Mike will be available from 3-4 today to do just this.  I know\\nyou've asked some technical questions already and are also interested in\\ncredit mapping nevertheless, would you please provide a brief rundown of\\nthe technical issues you want to discuss so that Jay/Mike can be prepared\\nin advance to make the best use of the hour?  Thanks.\\n\\nThe meetings will be attended by our Product Control Group who are\\nresponsible for creating and maintaining all of Enron's product types and\\nproducts.  They are the experts when it comes knowing all the various ways\\nEnron represents and implements products on EnronOnline.  Other than\\nmyself, the four attendees will be Sheri Thomas, who heads the Product\\nControl group, Jennifer deBoisblanc-Denny, who heads the products area of\\nthe group and two experts in gas and power products.\\n\\nLook forward to hearing from you soon so I can inform Jay and Mike.\\n\\nRegards\\n-David\\n\\n\\n\\n\\n\\n\\\"O'Neill, Maria\\\" <Maria.O'neill@Enform.com> on 11/07/2000 04:42:06 PM\\n\\nPlease respond to <Maria.O'neill@Enform.com>\\n\\nTo:   <David.Fisher@enron.com>\\ncc:\\n\\nSubject:  RE: Enron-TrueQuote Integration Technical Questions\\n\\n\\nThere will be people there that understand the products in non-technical\\ndetail.\\n\\nWhen were you thinking we could involve your \\\"technical\\\" people?  I agree\\nwith the agenda and strongly agree that we need to understand each other\\nproducts before we can attempt an integration.  However, my team's\\nreponsibility is to figure out how to \\\"technically\\\" send/receive and map\\ninformation from your system.  If this is not going to be addressed the\\nfirst day, than perhaps some of them don't need to come.  I guess I'm now\\nconcerned that the second two hour meeting isn't going to be long enough to\\nprovide my team the information they need proceed with their technical\\nimplementation.  I understand that the documents you've sent me should\\naddress most of our questions, but each revision has left my team with more\\nquestions and confusion about how this is all going to work.\\n\\nWill Jay Webb be in either meeting?  Could you send us a list of the\\nattendees on your side and their roles/functions as well.   We want very\\nmuch to make these meetings as productive as possible, understanding that\\nyour team as well as mine are very very busy.\\n\\nI appreciate your help,\\n\\nMaria\\n\\n-----Original Message-----\\nFrom: David.Fisher@enron.com [mailto:David.Fisher@enron.com]\\nSent: Tuesday, November 07, 2000 1:27 PM\\nTo: Maria.O'neill@Enform.com\\nSubject: RE: Enron-TrueQuote Integration Technical Questions\\n\\n\\n\\nMaria,\\n\\nThanks for the finalized list.  I assume that one or more of the people\\nbelow will be able to speak in detail about gas and power products outside\\nof the technical domain?  The people from Enron that will attend the\\nmeeting are non-technical.  Their area of expertise lies in the arena of\\nproducts and their management.  I just want to make sure that we have\\npeople that will be speaking the same language.\\n\\nAttached is the agenda for the meetings.\\n\\nRegards,\\nDavid\\n\\n(See attached file: TQ Exchange Mapping Agenda.doc)\\n\\n\\n\\n\\n\\n\\\"O'Neill, Maria\\\" <Maria.O'neill@Enform.com> on 11/07/2000 12:11:55 PM\\n\\nPlease respond to <Maria.O'neill@Enform.com>\\n\\nTo:   <David.Fisher@enron.com>\\ncc:\\n\\nSubject:  RE: Enron-TrueQuote Integration Technical Questions\\n\\n\\nDavid, here is a final list of the attendees for tomorrow's meeting and\\ntheir company/function.  We'll work to trim the number down for Thursday's\\nmeeting.  Thanks for accommodating us.  BTW, for future meetings, if space\\nis problem, we can always hold the meetings in our office at 3 Greenway\\nPlaza - if you guys don't mind coming to our office.\\n\\n* Stewart Clark - EnFORM, Project Manager for initial True Quote On-line\\ntrading system application and is still the project manager over the Phase\\n2\\nEnhancements\\n* Richard Toubia - True Quote, VP Product Development\\n* Richard Stallings - Enform, Lead Developer for the initial True Quote\\nOn-line trading system application, Phase 2 Enhancements, and changes to\\nthe\\nTrue Quote system to accomodate the Enron/True Quote Integration\\n* Brett Glass - Enform, Team Lead over the Enron/True Quote Integration's\\nCredit and Price Interfaces\\n* Chris Paxton - EnFORM, Lead Development in charge of the Enron/True Quote\\nIntegration's Transaction Interfaces\\n* Maria O'Neill - EnFORM, Project Manager for the Enron/True Quote\\nIntegration Project\\n* Sean Barlow - Gap Gemini/Ernst & Young, Developer - Not sure his role\\nyet,\\nwe've just been asked by True Quote to add him to the Enron/True Quote\\nIntegration Team.\\n\\nLet me know if you have any other questions.\\n\\nRegards,\\nMaria\\n\\n-----Original Message-----\\nFrom: David.Fisher@enron.com [mailto:David.Fisher@enron.com]\\nSent: Tuesday, November 07, 2000 11:08 AM\\nTo: Maria.O'neill@Enform.com\\nSubject: RE: Enron-TrueQuote Integration Technical Questions\\n\\n\\n\\nMaria,\\n\\nThough I'm not sure of everyone's function on the list below, we can\\naccomodate the extra people on Wednesday; however, on Thursday we will be\\nin a smaller conference room.\\n\\nJust let me know what everyone's function is prior to tomorrow. (I know\\nRichard Toubia is VP, Product Development.)\\n\\nI'll be forwarding an agenda shortly.\\n\\nThanks,\\nDavid\\n\\n\\n\\n\\n\\n\\n\\\"O'Neill, Maria\\\" <Maria.O'neill@Enform.com> on 11/06/2000 08:37:35 AM\\n\\nPlease respond to <Maria.O'neill@Enform.com>\\n\\nTo:   <David.Fisher@enron.com>\\ncc:\\n\\nSubject:  RE: Enron-TrueQuote Integration Technical Questions\\n\\n\\nThe following people will be in attendance at our meeting on Wednesday:\\n- Richard Toubia\\n- Richard Stallings\\n- Chris Paxton\\n- Matt Sample\\n- Maria O'Neill\\n\\nIf we can accommodate a couple more, the following will also attend:\\n- Brett Glass\\n- Wayne Crane\\n\\nI will be in and out of the office today and Tuesday, so the best way to\\ncommunicate with me is via Email.\\n\\nRegards,\\nMaria O'Neill\\n\\n-----Original Message-----\\nFrom: David.Fisher@enron.com [mailto:David.Fisher@enron.com]\\nSent: Tuesday, October 31, 2000 4:40 PM\\nTo: O'Neill, Maria\\nSubject: RE: Enron-TrueQuote Integration Technical Questions\\n\\n\\n\\nMaria,\\n\\nI've scheduled meetings with our product control group for the following\\ndates and times.  I'll give you a call on Monday to make sure you know\\nwhere your going and such.  In the meantime, feel free to give me a call or\\ndrop me a note if you have any questions.\\n\\n-David\\n\\nProduct Mapping Meetings\\nNovember 8th:  1:00-3:00 PM\\nNovember 9th: 10:00-12:00 AM\\n\\n\\n\\n\\n\\n\\n\\\"O'Neill, Maria\\\" <Maria.O'Neill@enform.com> on 10/31/2000 11:41:44 AM\\n\\nTo:   David.Fisher@enron.com\\ncc:\\n\\nSubject:  RE: Enron-TrueQuote Integration Technical Questions\\n\\n\\nOh, I see, my misunderstanding.  We are in 3 Greenway Plaza.  Two 2-hour\\nmeetings is fine with us. No problem in us driving downtown.  However,\\ncould\\nwe schedule from 1:00 p.m. to 3:00 on the 8th, and from 10:00 to 12:00 on\\nthe 9th?  I have a conflict on the 8th.\\n\\nThe agenda looks fine.  If there are any additional XML-type questions left\\nto answer by the time we have the meeting, we may want to allow some time\\nto\\ndiscuss them.\\n\\nThanks again David, looking forward to meeting in person.\\n\\n-----Original Message-----\\nFrom: David.Fisher@enron.com [mailto:David.Fisher@enron.com]\\nSent: Tuesday, October 31, 2000 8:50 AM\\nTo: O'Neill, Maria\\nSubject: RE: Enron-TrueQuote Integration Technical Questions\\n\\n\\n\\nMaria,\\n\\nActually, I was suggesting 2 hours on both the 8th and the 9th of November\\nfor getting together to discuss mapping issues.  If November 8th and 9th\\nisn't good for you, we can try November 9th and 10th.  I would say let's\\njust get together for one, four hour meeting but it is difficult to get the\\nProduct Control people together for that length of time since they are\\nintegral to the day to day operations of EnronOnline.  (I am assuming you\\nare in downtown Houston.  If getting here is difficult then we can try to\\narrange a one day meeting.) Any thoughts on the suggested dates/times?\\n\\nAs far as the number of meetings required, from our point of view we just\\nneed to accomplish product and counterparty mappings.  The agenda below\\naddresses products and a follow-up would address counterparties.  Beyond\\nthat, the External Interface Document and DTD should address all the\\ntechnical issues that enable you to design and construct your part of the\\nsystem.  I'll send you the most recent External Interface Document and DTD\\nshortly.\\n\\nPlease let me know you thoughts on the proposed agenda.  I'm sure we can\\nwork out an agreeable schedule.\\n\\nRegards,\\nDavid\\n\\nAgenda\\n11/8/2000 10:00-12:00  Clarification of product representation and product\\ncreation\\nprocess.\\n\\nIt is important to understand each other's methods for representing\\nproducts and the process by which we create new products prior to jumping\\nin to the mapping problem.\\n\\n11/9/2000 10:00-12:00  Map schedule A products.\\n\\nIt is important to not only know which products of ours map to yours but\\nwhat process can be applied to make mapping easily repeatable.\\n\\n\\n\\n\\n\\n\\n\\\"O'Neill, Maria\\\" <Maria.O'Neill@enform.com> on 10/31/2000 07:45:57 AM\\n\\nTo:   David.Fisher@enron.com\\ncc:\\n\\nSubject:  RE: Enron-TrueQuote Integration Technical Questions\\n\\n\\nHi David,\\n\\nSorry for not getting back to you sooner.  I was out of the office\\nyesterday.  November 9th looks better for me.  I am concerned though, that\\n2\\nhours is not going to be enough. Do you expect this to be the first of\\nseveral meetings?\\n\\n-----Original Message-----\\nFrom: David.Fisher@enron.com [mailto:David.Fisher@enron.com]\\nSent: Friday, October 27, 2000 5:01 PM\\nTo: O'Neill, Maria\\nSubject: RE: Enron-TrueQuote Integration Technical Questions\\n\\n\\n\\nMaria,\\n\\nI've passed along your questions to the development team, which is\\ncurrently looking at them.  I'll get back to you regarding these as soon as\\nI get their feedback.\\n\\nRegarding a meeting next week, I think we're going to have to postpone\\nuntil the following week.  How does November 8 & 9 look for you?  I've\\ntentatively scheduled our product people for 10 AM till 12 PM for product\\nmapping discussions.  Let me know what you think.\\n\\nBelow is the agenda I think we should start with for our first meeting.\\n\\n11/8/2000\\n10:00 - 12:00  Clarification of product representation and product creation\\nprocess.\\nIt is important to understand each other's methods for representing\\nproducts and the process by which we create new products prior to jumping\\nin to the mapping problem.\\n\\n11/9/2000\\n10:00 - 12:00  Map schedule A products.\\nIt is important to not only know which products of ours map to yours but\\nwhat process can be applied to make mapping easily repeatable.\\n\\nLet's talk next week.  Enjoy your weekend.\\n\\n-David\\n\\n\\n\\n\\n\\n\\\"O'Neill, Maria\\\" <Maria.O'Neill@enform.com> on 10/26/2000 01:50:34 PM\\n\\nTo:   David.Fisher@enron.com\\ncc:\\n\\nSubject:  RE: Enron-TrueQuote Integration Technical Questions\\n\\n\\nHi David,\\n\\nThanks for sending the answers to our technical questions. After carefully\\nreviewing your answers, we have a few follow-up questions.  These appear in\\n\\\"green\\\".  Please let me know if anything needs further clarification.\\n\\nWe are looking forward to meeting with you next week. Tentatively, we are\\nplanning to have 5 or 6 people attend.  These include three really\\ntechnical\\npeople, a couple of leads (including myself), a user from the True Quote\\nbusiness side who understands the products that are traded on True Quote,\\nand the new True Quote CIO (who's mainly interested in hearing what is said\\nmore so than actively participating in the discussion).\\n\\nBy next Tuesday, I plan to send you our proposed agenda for the meeting.\\nIf\\nyou have a different agenda in mind for the meeting, let's discuss it over\\nthe phone on Wednesday and jointly priortize the items for discussion. We\\nare very flexible in terms of the agenda.\\n\\nThanks in advance for any additional information you can send us.  It's\\nnice\\nto have a contact to be able to correspond with.  Have a great day!\\n\\n-----Original Message-----\\nFrom: David.Fisher@enron.com [mailto:David.Fisher@enron.com]\\nSent: Tuesday, October 24, 2000 4:32 PM\\nTo: O'Neill, Maria\\nSubject: Enron-TrueQuote Integration Technical Questions\\n\\n\\n\\nMaria,\\n\\nIt was good to hear from you this morning.  I have attached your document\\nwith answers to your questions included.  In addition, I've provided the\\nfinalized DTD and our schedule of release dates for specific functionality.\\n\\nI raised your desire to meet to discuss the project and everyone agrees\\nthat getting together is a good idea.  That said, we believe it would be\\nbest to wait until we have a firm agenda to discuss.  For instance, we will\\nneed to get together in the near term to discuss data mapping issues.  Feel\\nfree to call or drop a note if you have any questions or concerns.\\n\\nRegards,\\n\\nDavid\\n\\nThe following are the dates that we will release functionality.\\n\\n1 December 2000:  Login, Attempt Transaction, Post Price, Request Price and\\nRequest Order Status.\\n15 December 2000: Request Transaction History, Request Credit Matrix, Post\\nProduct Set Data and Post Credit Matrix.\\n\\n(See attached file: EnronTechnicalQuestions101900 & Answers.doc)(See\\nattached file: exchange.dtd)\\n\\n\\n(See attached file: ClarificationsFromEnronAnswers2.doc)\\n\\n\\n\\n\\n\\n\\n\\n\\n\\n\\n---------------------- Forwarded by David Fisher/NA/Enron on 12/11/2000 01:58 \\nPM ---------------------------\\n\\n\\n\\\"O'Neill, Maria\\\" <Maria.O'neill@Enform.com> on 11/09/2000 02:38:44 PM\\nPlease respond to <Maria.O'neill@Enform.com>\\nTo: \\\"David Fisher \\\\(E-mail\\\\)\\\" <david.fisher@enron.com>\\ncc:  \\n\\nSubject: FW: Address\\n\\n\\nDavid,\\n\\nCould you please read the attached note and send the information to Wayne\\nCrane?  Thanks.\\n\\nMaria F. O'Neill\\nSenior Manager, EnFORM Technology\\n> Enterprise TransFORMation Through Technology\\n3 Greenway Plaza, Suite 800\\nHouston, TX  77046\\noffice (713)350-1891\\ncell (713)416-3308\\n\\n\\n-----Original Message-----\\nFrom: Wayne Crane [mailto:wayne@crane.net]\\nSent: Thursday, November 09, 2000 2:26 PM\\nTo: Maria.O'neill@enform.com\\nCc: jody.clark@truequote.com\\nSubject: Address\\n\\n\\nI need to get the physical address for the location where the T-1 will be\\nadded for Enron.  Can you pass this request onto the proper person at Enron\\nASAP (We're trying to get the circuit ordered).\\nThanks\\n\\n---------------------- Forwarded by David Fisher/NA/Enron on 12/11/2000 01:58 \\nPM ---------------------------\\n\\n\\nAnchi Zhang@ECT\\n11/09/2000 04:24 PM\\nTo: Maria.O'neill@enform.com, jody.clark@truequote.com, wayne@crane.net\\ncc: David Fisher/NA/Enron@Enron, Enron Network Security \\n\\nSubject: T-1 line for TrueQuote\\n\\nEnron Corp.\\nRoom 3440\\n1400 Smith Street\\nHouston, TX 77002\\n\\nAnchi Zhang\\n713-853-5464\\n\\n---------------------- Forwarded by Anchi Zhang/HOU/ECT on 11/09/2000 04:21 \\nPM ---------------------------\\n   \\n\\tEnron North America Corp.\\n\\t\\n\\tFrom:  David Fisher @ ENRON                           11/09/2000 03:07 PM\\n\\t\\n\\nTo: Anchi Zhang/HOU/ECT@ECT\\ncc:  \\nSubject: T-1 line for TrueQuote\\n\\nAnchi,\\n\\nBelow is a note I just received from the TrueQuote Project Manager.  I want \\nto make sure you remain the focal point for the network portion of the \\nproject so please respond to Wayne Crane (wayne@crane.net) at your earliest \\nopportunity.  Please carbon copy me on the notes so I can keep track of \\nissues that could affect the schedule.\\n\\nThanks,\\nDavid\\n\\n---------------------- Forwarded by David Fisher/NA/Enron on 11/09/2000 02:53 \\nPM ---------------------------\\n\\n\\n\\\"O'Neill, Maria\\\" <Maria.O'neill@Enform.com> on 11/09/2000 02:38:44 PM\\nPlease respond to <Maria.O'neill@Enform.com>\\nTo: \\\"David Fisher \\\\(E-mail\\\\)\\\" <david.fisher@enron.com>\\ncc:  \\n\\nSubject: FW: Address\\n\\n\\nDavid,\\n\\nCould you please read the attached note and send the information to Wayne\\nCrane?  Thanks.\\n\\nMaria F. O'Neill\\nSenior Manager, EnFORM Technology\\n> Enterprise TransFORMation Through Technology\\n3 Greenway Plaza, Suite 800\\nHouston, TX  77046\\noffice (713)350-1891\\ncell (713)416-3308\\n\\n\\n-----Original Message-----\\nFrom: Wayne Crane [mailto:wayne@crane.net]\\nSent: Thursday, November 09, 2000 2:26 PM\\nTo: Maria.O'neill@enform.com\\nCc: jody.clark@truequote.com\\nSubject: Address\\n\\n\\nI need to get the physical address for the location where the T-1 will be\\nadded for Enron.  Can you pass this request onto the proper person at Enron\\nASAP (We're trying to get the circuit ordered).\\nThanks\\n\\n\\n\\n\\n\\n---------------------- Forwarded by David Fisher/NA/Enron on 12/11/2000 01:58 \\nPM ---------------------------\\n\\n\\n\\\"O'Neill, Maria\\\" <Maria.O'neill@Enform.com> on 11/10/2000 07:25:20 AM\\nPlease respond to <Maria.O'neill@Enform.com>\\nTo: <David.Fisher@enron.com>\\ncc:  \\n\\nSubject: RE: T-1 Installation\\n\\n\\nAbsolutely.  I let you know as soon as I hear.\\n\\nHave a great weekend!\\n\\nMaria F. O'Neill\\nSenior Manager, EnFORM Technology\\n> Enterprise TransFORMation Through Technology\\n3 Greenway Plaza, Suite 800\\nHouston, TX  77046\\noffice (713)350-1891\\ncell (713)416-3308\\n\\n\\n-----Original Message-----\\nFrom: David.Fisher@enron.com [mailto:David.Fisher@enron.com]\\nSent: Thursday, November 09, 2000 5:06 PM\\nTo: O'Neill, Maria\\nSubject: T-1 Installation\\n\\n\\n\\nMaria,\\n\\nWhen you have an estimated installation date for you T-1 line, will you let\\nme know so that I can update our schedule?\\n\\nThanks,\\n\\nDavid\\n---------------------- Forwarded by David Fisher/NA/Enron on 12/11/2000 01:58 \\nPM ---------------------------\\n\\n\\n\\\"O'Neill, Maria\\\" <Maria.O'neill@Enform.com> on 11/14/2000 04:04:35 PM\\nPlease respond to <Maria.O'neill@Enform.com>\\nTo: <David.Fisher@enron.com>\\ncc:  \\n\\nSubject: RE: Tokenized Reference Period Treatments\\n\\n\\nHi David,\\n\\nHope you're having a good day. Thanks for the latest information.  Let us\\ntake a look at the documents and call you back tomorrow to discuss or set up\\nanother meeting time.\\n\\nRegards,\\n\\nMaria\\n\\n\\nMaria F. O'Neill\\nSenior Manager, EnFORM Technology\\n> Enterprise TransFORMation Through Technology\\n3 Greenway Plaza, Suite 800\\nHouston, TX  77046\\noffice (713)350-1891\\ncell (713)416-3308\\n\\n\\n-----Original Message-----\\nFrom: David.Fisher@enron.com [mailto:David.Fisher@enron.com]\\nSent: Tuesday, November 14, 2000 2:01 PM\\nTo: Richard Toubia; maria.o'neill@enform.com\\nSubject: Tokenized Reference Period Treatments\\n\\n\\n\\nRichard/Maria,\\n\\nAttached please find the 'treatments' for the various Tokenized reference\\nperiods currently in use for US Nat Gas and US Power.  I believe you will\\nfind these spreadsheets easier to translate than the previous.  Let me know\\nwhat you think.  As you've pointed out it is critical that we are both on\\nthe same page when it comes to our treatments of these reference periods;\\nhowever, I do believe this is an issue that we can work through together.\\nI would suggest that we get together again for another couple hours once\\nyou've had the chance to review not only the info I've provided to date but\\nalso the list of Schedule A products that I plan to provide on Wednesday.\\nAs always, feel free to drop me a note or give me a call anytime.\\n\\nRegards,\\nDavid\\n\\nP.S.  Please keep in mind that the present structure of the TRP's do not\\ncontemplate weekends that breach a calendar month, and holidays.  For\\nexample, a US Nat Gas Day Ahead product (Number XXXX)  being offered after\\n11:00 a.m. on a Thursday the 27th will provide a TRP Product for Saturday\\nthe 29th, Sunday the 30th, and Monday the 1st. Since our trading areas\\nwould not want to breach the current calendar month, they would create two\\ndate-specific products; Number YYYY for Saturday the 29th through Sunday\\nthe 30th, and Product Number ZZZZ for Monday the 1st.\\n\\n(See attached file: US Nat Gas TRP Treatment.xls)(See attached file: East\\nPower TRP Treatment.xls)(See attached file: West Power TRP Treatment.xls)\\n\\n\\n---------------------- Forwarded by David Fisher/NA/Enron on 12/11/2000 01:58 \\nPM ---------------------------\\n\\n\\n\\\"O'Neill, Maria\\\" <Maria.O'neill@Enform.com> on 12/01/2000 02:16:36 PM\\nPlease respond to <Maria.O'neill@Enform.com>\\nTo: \\\"David Fisher \\\\(E-mail\\\\)\\\" <david.fisher@enron.com>\\ncc:  \\n\\nSubject: \\n\\n\\nA question has come up that may have serious implications for our system.\\nPlease forward to the right person, we would really appreciate it if we\\ncould have a response as soon as possible.\\n\\nThe question is \\\"How many transaction attempts can be sent by Enron to True\\nQuote at one time(will Enron be sending more than transaction in a batch)?\\\"\\nYour documentation seems to read that you may be sending more than one\\ntransaction at a time.  If that is true, then we may have a problem if you\\nplan to send transaction searches that would force us to cancel all of the\\nprevious transaction attempts that were sent over together, since our system\\nprocesses items in sequential order.\\n\\nPlease call me if the question seems confusing.\\n\\nMaria F. O'Neill\\nSenior Manager, EnFORM Technology\\nEnterprise TransFORMation Through Technology\\n3 Greenway Plaza, Suite 800\\nHouston, TX  77046\\noffice (713)350-1891\\ncell (713)416-3308\\n\\n---------------------- Forwarded by David Fisher/NA/Enron on 12/11/2000 01:58 \\nPM ---------------------------\\n\\n\\n\\\"O'Neill, Maria\\\" <Maria.O'neill@Enform.com> on 12/04/2000 08:11:06 AM\\nPlease respond to <Maria.O'neill@Enform.com>\\nTo: \\\"David Fisher \\\\(E-mail\\\\)\\\" <david.fisher@enron.com>\\ncc:  \\n\\nSubject: FW: Fill or Kill - Buy or Sell from Enron Traders\\n\\n\\nGood morning David,\\n\\nHere's another clarifying question.  I have in my notes documentation that\\nsays that Enron will do partial fills of transactions sent to EOL. The\\nquestion that being asked in the attached note has to do with transactions\\nsent by EOL to TrueQuote.  Does Enron want (or will Enron accept) partial\\nfills by the True Quote system? If so, how should we identify (if at all)\\nthat this was a partial fill?\\n\\nThanks David.\\n\\nMaria F. O'Neill\\nSenior Manager, EnFORM Technology\\n> Enterprise TransFORMation Through Technology\\n3 Greenway Plaza, Suite 800\\nHouston, TX  77046\\noffice (713)350-1891\\ncell (713)416-3308\\n\\n\\n-----Original Message-----\\nFrom: Glass, Brett [mailto:Brett.Glass@enform.com]\\nSent: Friday, December 01, 2000 4:12 PM\\nTo: Maria O'Neill (E-mail)\\nSubject: Fill or Kill - Buy or Sell from Enron Traders\\n\\n\\nMaria,\\n\\nMatt raised a question regarding transaction attempts made by Enron Traders\\ndirectly against the True Quote system (not going through EOL).  This is a\\ntwo scenario question:\\n\\n1)  If an Enron trader is initiating a buy in the True Quote system against\\na counterparty's position to sell at a specified price and volume (ie:\\n15,000 @ 2.40 - which is currently a valid market in True Quote), at the\\npoint the transaction is being executed in the system, the volume drops to\\n10,000, would our Enron want to fill whatever quantity they can at the given\\nprice.  Currently we are interpreting all transactions made directly from\\nEnron into the True Quote system will be entered as a Fill or Kill.\\nWill Enron allow partial fills of transaction attempts?\\nAlso, should the successful transaction attempt consist of several parties,\\nwill Enron accept this (3 parties of 5,000 each)?\\nDo we send back a response identifying a FILL for the partial volume and\\nFAIL for the remaining volume?\\n\\n2)  Reverse the statement for an attempt of Enron to Sell a volume against a\\ncounterparty's position to buy.  Is Enron willing to sell partial volumes\\nshould the market not be there to fill Enron's order completely?\\n\\nBrett Glass\\nEnFORM Technology, LLC\\nEnterprise TransFORMation Through Technology\\nPhone: (713) 350-1862\\n\\n---------------------- Forwarded by David Fisher/NA/Enron on 12/11/2000 01:58 \\nPM ---------------------------\\n\\n\\n\\\"O'Neill, Maria\\\" <Maria.O'neill@Enform.com> on 12/04/2000 11:14:09 AM\\nPlease respond to <Maria.O'neill@Enform.com>\\nTo: \\\"David Fisher \\\\(E-mail\\\\)\\\" <david.fisher@enron.com>\\ncc:  \\n\\nSubject: FW: Enron Teleconference Questions/Answers\\n\\n\\nDavid,\\n\\nI am forwarding you minutes taken from the conference call with Enron of\\nSept 26th.  This was before you joined the project, but as you can see, we\\nwere told that partial fills would be possible.  The answers appear in blue.\\n\\nMaria F. O'Neill\\nSenior Manager, EnFORM Technology\\nEnterprise TransFORMation Through Technology\\n3 Greenway Plaza, Suite 800\\nHouston, TX  77046\\noffice (713)350-1891\\ncell (713)416-3308\\n\\n -----Original Message-----\\nFrom:  O'Neill, Maria\\nSent: Monday, October 16, 2000 11:33 AM\\nTo: 'chris.edmonds@truequote.com'\\nCc: Wayne Crane (E-mail); Haddix, Scott\\nSubject: FW: Enron Teleconference Questions/Answers\\n\\nChris,\\n\\nWayne and I have reviewed this transcript from the conversation with Enron.\\nDuring that conversation, several items were to be worked offline.  These\\nare detailed and are listed as \\\"To be worked offline\\\" in Exhibit B, C, D,\\nand E.\\n\\nWould you like to have EnFORM participate in your discussion with Enron, or\\ndo you feel that these items are strategically sensitive enough that you\\nshould have this conversation without EnFORM's involvement?\\n\\nThese \\\"To be worked offline\\\" issues are very important, but we do have\\nadditional technical questions that would best be addressed by a technical\\nEnron contact.  If we could begin the process of a establishing a technical\\n\\\"relationship\\\" with an individual at Enron as soon as possible, it would\\nspeed development and lower costs of this project.\\n\\nP.S.  Wayne was next to me as I typed this note.\\n\\nRegards,\\nMaria\\n\\n----------------------------------------------------------------------------\\n----------------------------------------------------------------------------\\n----------------------------\\n\\n\\nThe following questions were discussed in the telephone conference call with\\nEnron on September 26th.  We have inserted Enron's answers in Blue and have\\nhighlighted follow-ups and offline discussions in Red.\\n\\n\\nQuestions for Enron to answer regarding True Quote's interface:\\n\\nHigh Priority Questions (need to be addressed):\\n(From Exhibit A) Will the product ID that Enron is transmitting specifically\\nidentify a product offering including commodity, deal type, region /\\nlocation, and tradable term (fully qualified begin and end dates)?\\n\\nProduct ID is a fully transactable item - Product, Location, Dates\\nProduct ID is a fully qualified instrument - excluding price, volume and\\ncounterparty\\nProduct ID can be for next day and balance of month.  However, on next to\\nlast day of month, the Product ID will offer either next day or BOM, not\\nboth (there is no reason for redundancy)\\nProduct ID that is for anything, except for the rolling Tokenized\\nproducts/dates (example: For a spot month, the Product ID will expire on the\\nfirst day of that spot month)\\nCurrency and Unit of measure is implied as part of Product ID, but it is not\\nan attribute\\n\\n\\n(From Exhibit B) Can we confirm a transaction attempt against Enron for an\\nEnron product id is a \\\"Fill or Kill\\\" transaction, meaning, a transaction\\nattempt submitted to Enron would not stay in their system if it was not\\nimmediately filled.  If the deal is not confirmed by Enron, the order will\\nbe immediately removed from Enron's system and could not be filled later if\\nmarket conditions made the order viable.\\n\\nA transaction attempt by TrueQuote will be \\\"Fill or Kill\\\" (It will not in\\nstay in EOL's system)\\n\\nIf the deal is not confirmed by Enron due to non-availability of volume,\\nthese volumes need to be expired in the True Quote system\\n\\nIf a transaction attempt fails for ANY reason, Enron will immediately\\nrebroadcast that Product to the True Quote system\\n\\nDoes True Quote need to design functionality for partial fill of a deal\\ntransaction for an outside entity?\\n\\nEnron will do partial fills.  The True Quote system needs to design\\nfunctionality to accept partial fills from an outside entity.\\n\\nWhat is the time threshold for waiting on an Enron response to a transaction\\nattempt?\\n\\nEnron will accept whatever True Quote determines is an acceptable threshold\\nfor waiting.\\n\\nWhat is the estimated delivery date for Enron's DTDs?\\n\\nThe EnronOnline Exchanges External Interface Document was received on\\nMonday, October 2, 2000.\\n\\nExhibit A (Enron Price Interface-what Enron sends to TQ):\\n\\nConcerning the Enron price interface, Enron has stated that EOL currently\\nhandles prices/volume updates at the rate of 100 updates per second, growing\\npotentially to 500 per second (across all EOL product offerings).  Given\\nthis level of update activity, how will the transmission of these updates be\\naccomplished?  Below are some questions which should clarify these concerns:\\n\\nWhat is the expected rate of updates for the sub-set of EOL products that\\nwill be transmitted to the True Quote platform?  Is it expected that these\\nproducts will also endure update activity at the rate of 100-500 updates per\\nsecond?\\n\\nAlthough it was not communicated how often an XML document will be sent, it\\nwas clarified that the XML documents will be sent at certain time\\nintervals.Each update will contain all information since last time polled\\n(includes all changes (only changes) since last transmission)\\nNeed to clarify if True Quote will be polling EOL for Updates, or if EOL\\nwill send them automatically at certain time intervals.\\n\\nWill there be one XML document interface transmission for each Enron product\\nupdate, or will one XML document interface contain updates for multiple\\nEnron products?  The implications of this are as follows:  Will True Quote\\nneed to handle 100-500 XML documents per second, or will True Quote receive\\none XML document at a determined interval that has updates for all Enron\\nproducts?  If the XML document contains updates for all Enron products, how\\noften will Enron send us the document?   If it's one XML document per Enron\\nproduct, will True Quote be expected to handle 100-500 XML document\\nsubmissions per second?\\n\\nThe XML document will contain updates for multiple Product IDs.  If only one\\nProduct ID has changed in EOL since the last transmission, then only one\\nProduct ID will be sent to True Quote in the updates.\\n\\nCan we confirm that Enron will only submit one price/volume offering per\\nEnron product id; meaning, Enron will never have multiple price and quantity\\nofferings for the same Enron product ID on the True Quote platform.\\n\\nEnron will never send Market Depth for any Product ID.  What you see on EOL\\nis exactly what is transmitted to True Quote (one offering per Enron Product\\nID).  However, each Product ID update will contain both the Bid and the\\nOffer.\\n\\nThe interface currently does not have a field to define the duration of the\\norder.  Given this, can we assume that when the price interface submits a\\nproduct price/volume update to the True Quote platform, the order will be\\nloaded with a duration of \\\"Good Until Canceled\\\".  True Quote will mark the\\norder as 'GTC' until Enron submits a new XML document for that Enron product\\nthat changes the status to \\\"Suspended\\\".  In this case True Quote would\\ncancel the order on the True Quote system.\\n\\nAll orders will remain on the True Quote system until the EOL traders pull\\nthe deals.  At this time, EOL would send \\\"Suspended Status\\\" for the Product\\nID.\\n\\nHow are terms related to Enron Product IDs?  Example:  For a given Enron\\ncommodity, deal type, and location that is traded in October, would a new\\nproduct id be created for that same product offering when the month rolls to\\nNovember?\\n Yes\\n\\nIf product ids do not include a direct relationship to a specific tradable\\nterm, when a Price Interface XML document is submitted to the True Quote\\nplatform, how will True Quote know which trade term the product id is\\nassociated with?\\nProduct IDs do have a direct relationship to a specific tradable term\\n\\nWe are currently assuming that an Enron product id specifically identifies a\\nproduct offering including commodity, deal type, region/location, and\\ntradable term.\\nThis assumption is correct\\n\\nCan we confirm that all Enron orders transmitted to the True Quote platform\\nwill be cancelled at the end of the day and that all products will be\\nre-loaded into the True Quote system the following morning?  If not,  will\\nthe assumed 'Good Until Canceled' duration for each product id remain active\\nuntil the status has been changed to \\\"Suspended\\\"?\\n\\nAll EOL orders should be removed by the traders at the end of the day.  For\\nthose that are not removed, True Quote should run a nightly batch job that\\nremoves all EOL orders left in the system.  Each morning, True Quote will\\nauthenticate with EOL, and at this time, all orders on EOL will be\\ntransmitted to True Quote.\\n\\nExhibit B (Transaction Interface with Enron):\\n\\nFor each field (across all interfaces), we will need clearly defined data\\ntypes (precision, range of length, space/bytes it takes).\\n\\nThis information still needs to be provided.\\n\\nCan we assume the Bid/Ask flag is an integer? Perhaps a bit?  If it's a\\ncharacter, what is the character indicator?  B/A?\\n\\nThis information still needs to be provided.\\n\\nCan we confirm the data type for volume is integer?\\n\\nThis information still needs to be provided.\\n\\nAcross all interfaces, there is not a defined unit of measure for price and\\nvolume by Enron product id.   Should part of the XML DTD specify the unit of\\nmeasure for both price and volume, or are we to assume that Enron product\\nids for Power are in US dollars and megawatt/hr, and Enron product ids for\\nnatural gas are US dollars and MMBTU?\\n\\nCurrency and Unit of measure is implied as part of Product ID, but it is not\\nan attribute\\n\\nPrice - how many decimal places? (precision of the number)\\n\\nThis information still needs to be provided.\\n\\nVolume and Price - Does Enron have an min / max / default increment value\\nestablished for price and volume increment ranges by Enron product id?  (For\\nexample, within True Quote the default volume increment for natural gas is\\n5000, and the price increment is $0.0025.  Both the price and volume\\nincrements, min/max ranges can vary by region or location).\\n\\nOn EOL, the traders determine the minimal tradable increments and the\\nminimal tradable amounts (this minimums could be as low as 1).\\n\\nTo be worked Offline:\\nHow to handle increments <> 5000 increment on the Enron side (will we only\\ndisplay the 5000 increment below the volume submitted by Enron, if trader\\nhas a minimum greater than entities are willing to participate, how do we\\ndisplay this and how does the minimum increment come across in the order)\\n\\n\\nCan we confirm a transaction attempt against Enron for an Enron product id\\nis a \\\"Fill or Kill\\\" transaction, meaning, a transaction attempt submitted to\\nEnron would not stay in their system if it was not immediately filled.  If\\nthe deal is not confirmed by Enron, the order will be immediately removed\\nfrom Enron's system and could not be filled later if market conditions made\\nthe order viable.  If the deal is not confirmed by Enron due to\\nnon-availability of volume, these volumes need to be expired in the True\\nQuote system.\\n\\nAlready answered above.\\n\\nWill Enron allow partial fill of transactions?   For example, if the Enron\\nprice interface submits an offer with 20,000 mmbtu available, can True Quote\\nsubmit a transaction bid attempt to take only 10,000 mmbtu of the Enron\\noffer?   If not, is it a valid assumption that we can only submit a\\ntransaction attempt to lift the entire Enron offer of 20,000 mmbtu?\\n\\nEnron will allow partial fills.\\n\\nExhibit C (True Quote Price Interface-what TQ sends to Enron):\\nDoes Enron expect True Quote to submit a single price point offering for an\\nEnron product id that is the aggregate total volume of all orders available\\nfor that product id on the True Quote platform at the best available price?\\nThis would allow Enron to submit a transaction attempt against the True\\nQuote platform, submitting a volume request that would potentially sweep\\nmultiple counter parties creating deals with all entities necessary to\\nsatisfy transaction attempt.\\nAlternative 2:  Does Enron expect True Quote to submit only the best\\nindividual order (the best price and volume for an Enron product id from\\nonly one counterparty) identified by its True Quote order id (True Quote\\nwould not transmit the counter party id; however, before sending the XML\\ninterface to Enron, the counterparty would have to pass the credit rules\\nmaintained in the counterparty credit matrix on the True Quote platform).\\nAlternative 3:  Would Enron expect True Quote to submit multiple price\\nofferings per Enron product id (a market depth of various price and volume\\nofferings).  In this scenario, the volume associated with each price point\\nshould be an aggregate of multiple True Quote orders (as shown in the True\\nQuote market screen).  The XML interface could potentially transmit\\nindividual True Quote orders and their associated volumes (not an aggregate\\nvolume of multiple orders); however, giving Enron the ability to 'pick and\\nchoose' individual orders could potentially violate True Quote customer\\nservice agreements that require deals to be executed in the chronological\\nsequence that the order request was received by the True Quote platform.\\n\\nEnron wants to see the granularity of each True Quote Product ID order.\\nEnron expects True Quote to submit multiple price offerings per Enron\\nProduct ID.  (Example:  If  True Quote has an order in the system for\\n100,000 MMbtu's at $3.00, which is comprised of 10 individual orders of\\n10,000, Enron wants True Quote to send all of the individual orders).\\n\\nTo be worked Offline:\\nFair and equitable treatment with prices sent to Enron (proper processing of\\norders without bias)\\nNeed to discuss in more detail how to handle EOL price interface\\ntransactions and Enron Trader transactions\\nNeed to clarify with Enron whether they want to receive the best price in\\nthe market for a given Product ID, or if they want to see all of a given\\nProduct ID's market depth.\\n\\nOur concern is that if True Quote transmits individual True Quote orders and\\ntheir associated volumes (not an aggregate volume of multiple orders),\\ngiving Enron the ability to 'pick and choose' individual orders, this could\\npotentially violate True Quote customer service agreements that require\\ndeals to be executed in the chronological sequence that the order request\\nwas received by the True Quote platform.\\n\\n\\nExhibit D (Sponsor Transaction Interface):\\nAre we correct in assuming that transactions posted by Enron traders against\\nTrue Quote deals will be executed on the True Quote system?  Will the\\nduration of the order attempts being sent to True Quote be \\\"Fill or Kill\\\" or\\nsome other duration?\\n\\nTo be worked Offline:\\nThe traders will want to transact against True Quote directly without\\nadjusting the market position through EOL, but how this is accomplished will\\nbe to be discussed.\\n\\nExhibit E (Counterparty Interface):\\nIn general, we need more details about what Enron will be sending as part of\\ntheir daily counterparty credit / term interface, as well as the intra-day\\ncounterparty credit/term interface:\\nCurrently, exhibit E does not specific any fields or data types within an\\nXML DTD.\\nWhat are the \\\"terms\\\" under which participants can trade with Enron?  For\\nexample, will the level of restriction include volumetric limits, financial\\nlimits, tradable date range limits (number days or months into the future)\\nby Enron product id (assuming a product id specifically defines a commodity,\\ndeal-type, region/location, and tradable term).  Will Enron send us a 'yes /\\nno' flag to turn off/on a counterparty's ability to trade with Enron by the\\nEnron product id?\\n\\nTo be worked Offline:\\nCredit terms and counterparty interface details were not addressed in the\\nteleconference.  The details of granularity will need to addressed to better\\nunderstand the responsibilities that True Quote will have in handling\\nEnron's credit structure.\\n\\n\\nQuestions for True Quote to Answer:\\n\\nExhibit D:  Does the Sponsor Transaction interface (Enron proposing\\ntransactions on the True Quote platform) still invoke the Enron Transaction\\nInterface?  There was some discussion that if internal Enron traders\\nproposed transactions against the True Quote platform, the point of\\ntransaction would be the True Quote platform, and True Quote would not have\\nto invoke the transaction on the EOL platform.  True Quote would simply\\nconfirm whether the Enron transaction attempt succeeded or failed.  If it\\nsucceeded, True Quote would send a confirmation XML interface to confirm the\\ndeal had been executed and transmit the True Quote Deal ID to Enron.\\nWhat is the time threshold for waiting on Enron's response to a transaction\\nattempt?  For example, after 'n' seconds the True Quote platform should\\nalert a system operator that an Enron transaction attempt has failed to\\nreturn either a confirmation or failure.\\n\\nPlease respond to the questions above.\\n\\nThank you.\\n\\n\\n\\nContent-Transfer-Encoding: 7bit\\nTo: \\\"O'Neill, Maria\\\"\\nCc: \\\"Glass, Brett\\\"\\nSubject: Teleconference Highlights\\nDate: Fri, 6 Oct 2000 12:21:11 -0600\\nMessage-ID: <F150C1D2E6C3374AA8A7A1A9B93E91BB30DF3D@mailbert.enform.com>\\nMIME-Version: 1.0\\nContent-Type: text/plain; charset=\\\"iso-8859-1\\\"\\nX-Priority: 3 (Normal)\\nX-MSMail-Priority: Normal\\nX-Mailer: Microsoft Outlook CWS, Build 9.0.2416 (9.0.2910.0)\\nImportance: Normal\\nX-MimeOLE: Produced By Microsoft MimeOLE V5.00.2919.6700\\n\\n* Product ID\\n* Product ID is a fully transactable item  and fully qualified instrument -\\nIncludes: Product, Location, Dates; Excludes: Price, Volume and Couterparty\\n* Tokenized Dates:  Product ID for next day and balance of month are\\ntokenized dates which means that the product ID will remain the same for\\ndesignated date range (next day, next 2 days, BOM, etc).  The dates will\\nrole, but the product ID will remain the same\\n* Product IDs for anything but the rolling Tokenized products/dates (i.e. -\\nspot month), expire after date has been reached.\\n* There will be no redundancy of product IDs that encompass the same date\\nranges (i.e.:  there are usually two separate product IDs for next day and\\nbalance of month, but when the next to the last day of the month is reached,\\nboth will reference the same day.  At this point, Enron will only have one\\nproduct ID associated with the given date range)\\n* Enron has set up product IDs to adequately reflect Weekend trading on\\nFriday (deals entered for Saturday will encompass Sat - Mon (and include\\nextra days when Holidays are involved))\\n* Once a strip term has been reached, trades within the month then change to\\nthe tokenized product IDs.\\n* Enron will Fill or Kill all transaction attempts - they will execute or\\ncancel the trade immediately\\n* Enron will Partial fills transaction attempts\\n* When True Quote sends a request for a transaction, the threshold for\\nwaiting on a response from Enron will be defined by True Quote.\\n* Trade failure will re-broadcast product (failure for any reason)\\n* If for any reason there is a concern about a product, True Quote can\\nrequest (HTTP) validation of the product in question\\n* Frequency of updates:  Enron will send True Quote a document that contains\\nall information since last time polled (includes all changes (only changes)\\nsince last transmission)\\n* Every product sent will have only one bid and offer price associated with\\nit at time of transmission.  What you see on EOL is what is sent to True\\nQuote.\\n* There will be no market depth transmitted to True Quote from Enron\\n* Duration of orders\\n* Orders will be displayed on True Quote until suspended by traders\\n* All orders will remain on system until traders pull deals\\n* True Quote session is finite (7 -7).  At the end of every day all deals\\nwill be removed from True Quote (either by Enron traders removing them, or\\nTRUE QUOTE will run a batch job to clear Enron deals).  In the morning, TRUE\\nQUOTE will authenticate and all products will be loaded from Enron to TRUE\\nQUOTE.\\n* The Currency and Unit of measure are implied as part of Product ID, it's\\nnot an attribute.\\n* Granularity of orders transmitted from True Quote to Enron will show each\\norder associated with each price and volume of a Product ID (i.e. 100,000\\nmmbtu @ $5 is made up of 10 separate orders of 10,000, Enron would like to\\nsee all 10 orders of 10,000 - including counterparty information)\\n* Transaction attempts made from True Quote to EOL - Point of execution will\\nbe on EOL\\n* Transaction attempts made by Enron Traders against True Quote price\\npostings will be executed on True Quote\\n\\nOffline:\\n* Will we know if a transaction has failed due to volume not available,\\ncredit failure, or Enron has not heard of the transaction\\n* How to handle increments <> 5000 increment on the Enron side (will we only\\ndisplay the 5000 increment below the volume submitted by Enron; if trader\\nhas a minimum tradable volume greater than entities are willing to\\nparticipate (i.e. Enron minimum tradable amount is 10,000 or 15,000) how do\\nwe display this and how does the minimum increment come across in the order)\\n* If we transmit to Enron the granularity of all orders (including\\ncounterparty information), how will True Quote / Enron ensure the fair and\\nequitable treatment with prices sent to Enron (proper processing of orders\\nwithout bias)\\n* Business question: how much do we want to send Enron (they are ok with\\nsending each order for all price points in an instrument), do we show top 1\\nor top 5?\\n* Need to discuss in more detail how to handle EOL price interface\\ntransactions and Enron Trader transactions\\n\\n\\nBrett Glass\\nEnFORM Technology, LLC\\nEnterprise TransFORMation Through Technology\\nPhone: (713) 350-1862\\n\\n\\n---------------------- Forwarded by David Fisher/NA/Enron on 12/11/2000 01:58 \\nPM ---------------------------\\n\\n\\n\\\"O'Neill, Maria\\\" <Maria.O'neill@Enform.com> on 12/07/2000 02:17:12 PM\\nPlease respond to <Maria.O'neill@Enform.com>\\nTo: \\\"David Fisher \\\\(E-mail\\\\)\\\" <david.fisher@enron.com>\\ncc:  \\n\\nSubject: FW: One other item about Enron...\\n\\n\\nDavid,\\n\\nCan you confirm the answer to Stewart's question.  We just want to make\\nabsolutely sure we know what you mean when you say \\\"fill or kill\\\".  Thanks!\\n\\nMaria F. O'Neill\\nSenior Manager, EnFORM Technology\\n> Enterprise TransFORMation Through Technology\\n3 Greenway Plaza, Suite 800\\nHouston, TX  77046\\noffice (713)350-1891\\ncell (713)416-3308\\n\\n\\n-----Original Message-----\\nFrom: Stewart D. Clark [mailto:Stewart.Clark@enform.com]\\nSent: Thursday, December 07, 2000 9:58 AM\\nTo: Maria.O'neill@Enform.com; brett.glass@enform.com;\\nkimberly.hahn@enform.com; richard.stallings@enform.com\\nSubject: RE: One other item about Enron...\\n\\n\\nMaria,\\n\\nPlease confirm with David that NO partial fills refers *only* to transaction\\nattempts.  We fully expect that Enron will send us (potentially) large\\nvolumes via. the price posting interface; then, we may execute multiple\\ntransaction attempts for that EOL product ID to Enron via. the transaction\\nattempt interface.  These individual transaction attempts could be much\\nsmaller (in volume) than the volume posted via. the price posting interface.\\n\\nBasically, the way we understand it is... the individual transaction\\nattempts will be 'all or nothing'; however, we can break the large price\\npost down and transmit multiple (smaller) transaction attempts against that\\nlarge price post volume.\\n\\nI believe we are all in agreement on this, but it never hurts to be\\nabsolutely sure concerning something of this magnitude and importance.\\n\\nThanks,\\n\\n-Stewart\\n\\n\\n-----Original Message-----\\nFrom: O'Neill, Maria [mailto:Maria.O'neill@Enform.com]\\nSent: Thursday, December 07, 2000 8:52 AM\\nTo: brett.glass@enform.com; stewart.clark@enform.com;\\nkimberly.hahn@enform.com; richard.stallings@enform.com\\nSubject: FW: One other item about Enron...\\n\\n\\nI've spoken the David Fisher at Enron this morning.  The conference call\\nwill Andy Zipper and Jay Webb cannot be arranged until next Thursday (Dec.\\n14). David will send details later.\\n\\nDavid has asked us to assume that there will be NO partial fills on either\\nside. He believes that even if they agree to do this it will likely be a\\n\\\"day 2\\\" enhancement and not a functionality that is part of the January 5th\\ndeliverables. He is also requesting that we focus on completing the\\nfunctionality that will allow Enron to post prices on True Quote and will\\nallow True Quote to execute transactions on EOL.  In addition, another\\npriority needs to be to have the credit functionality completed.  These are\\ngoing to be the requirements that need to be tested by December 18th and\\nneed to be in production by January 5th.\\n\\nTrue Quote's ability to send prices to Enron and accept transaction attempts\\nfrom EOL is secondary at this point and not likely to be a requirement that\\nneeds to be met by January 5th.\\n\\nPlease let me know if there is any reason why the execution engine will not\\nbe ready to accept price posts from EOL and send transaction requests\\n(assuming only full orders will be filled) by December 18th.  If there is\\nany concern about getting credit functioning within that timeframe, please\\nlet me know this as soon as possible, as well.  Thanks for all of your help.\\nYou all are key contributors to this project and without your awesome\\nknowledge and skills, we would never be able to complete this project in the\\ntimeframe that we're being asked to complete it in.  I really appreciate\\nyour efforts.\\n\\nRegards,\\n\\nMaria F. O'Neill\\nSenior Manager, EnFORM Technology\\n> Enterprise TransFORMation Through Technology\\n3 Greenway Plaza, Suite 800\\nHouston, TX  77046\\noffice (713)350-1891\\ncell (713)416-3308\\n\\n\\n-----Original Message-----\\nFrom: Glass, Brett [mailto:Brett.Glass@enform.com]\\nSent: Thursday, December 07, 2000 8:21 AM\\nTo: Maria O'Neill (E-mail)\\nSubject: FW: One other item about Enron...\\n\\n\\n\\n\\nBrett Glass\\nEnFORM Technology, LLC\\nEnterprise TransFORMation Through Technology\\nPhone: (713) 350-1862\\n\\n -----Original Message-----\\nFrom:  Stewart D. Clark [mailto:Stewart.Clark@enform.com]\\nSent: Wednesday, December 06, 2000 10:56 PM\\nTo: Kimberly.Hahn@enform.com; 'Richard H. Stallings (E-mail)'\\nCc: 'Brett Glass (E-mail)'\\nSubject: RE: One other item about Enron...\\n\\nI believe we're having a conf. call with Andy Zipper and Jay Web tomorrow\\nwith Chris and Dennis.\\n\\nI'll bring this up as an alternative (adding the min and increment\\nattributes to the XML DTDs).  Duration would be another one to add...\\n\\n-Stewart\\n\\n\\n -----Original Message-----\\nFrom:  Hahn, Kimberly [mailto:Kimberly.Hahn@enform.com]\\nSent: Wednesday, December 06, 2000 8:49 AM\\nTo: Stewart.Clark@enform.com; 'Richard H. Stallings (E-mail)'\\nCc: 'Brett Glass (E-mail)'\\nSubject: RE: One other item about Enron...\\n\\nStew & Richard,\\n\\nI would be surprised if Enron was willing to store the minimum qty, but what\\nabout sending it in the transaction request as an additional attribute?\\nMight they be talked into that?  This would be better for us since we should\\nnot have to worry about maintaining our system information on the Enron\\nplatform.\\n\\nHow about proposing that both platforms send the min & increment volume\\nrequirements?  This would be more complex for us now, but might be better in\\nthe long run for both platforms.  We would be more flexible and better able\\nto integrate with outside systems if we were able to accept this type of\\ninformation.  It get complicated because you could only fill where the two\\nrequirements (our and the outside system) were compatible, but it is\\ndo-able.  Thoughts?\\n\\nKim\\n -----Original Message-----\\nFrom:  Stewart D. Clark [mailto:Stewart.Clark@enform.com]\\nSent: Wednesday, December 06, 2000 12:44 AM\\nTo: Brett Glass (E-mail); Richard H. Stallings (E-mail); Kimberly A. Hahn\\n(E-mail)\\nSubject: FW: One other item about Enron...\\n\\nFYI\\n\\n -----Original Message-----\\nFrom:  Stewart D. Clark [mailto:Stewart.Clark@enform.com]\\nSent: Wednesday, December 06, 2000 12:43 AM\\nTo: Dennis Crum (E-mail); Chris Edmonds (E-mail)\\nCc: Maria O'Neill (E-mail)\\nSubject: One other item about Enron...\\n\\nDennis &  Chris...\\n\\nOne other EOL scenario we forgot to talk about this evening was the scenario\\nwhere:\\n\\n1)  EOL post 20,000 / day to our platform via. the price post interface...\\n2)  A True Quote customer submits a request to do 15,000 / day...\\n3) TQ submits a transaction attempt to EOL for 15,000 day...\\n4)  EOL only has 14,000 remaining, so they deny the entire transaction\\nattempt...\\n\\nHowever, if Enron's system was aware that we would take partially filled Gas\\norders in minimum increments of 5,000, EOL could have partially filled the\\ntransaction request for 10,000.\\n\\nAny news on that scenario?  I'll talk to Maria first thing in the morning...\\nperhaps this one is already resolved?   I would think it would be in EOL's\\nbest business interest to store our minimum volumes, so EOL could always\\nfill us at least partially rather than deny the entire transaction.\\nHowever, it really doesn't matter to us (technically) we'll just cancel the\\nentire EOL transaction attempt and continue our sweep and fill the volume\\nwith the next available counterparty.   Whereas if they partially filled us,\\nwe would probably cancel the original transaction attempt, and rebuild a new\\ntransaction deal ID for the 10,000 / day deal.... then continue the sweep\\nfor the final 5,000 from the next available counterparty.\\n\\nI haven't reviewed this scenario with the deal execution team yet, but if\\nEOL *did* partially fill us with *at least* our minimum, it would probably\\nbe no more or less complex for us because even in a scenario where EOL\\ndenies a transaction attempt, we ALREADY must have the logic to cancel the\\nEOL deal transaction attempt, and create a new order with the next available\\ncounterparty (to fill the volume request).   So, if EOL did partially filled\\nus, we would simply cancel the original transaction request that was for the\\nfull volume amount, and create a new deal with EOL for the partial volume\\nthey confirmed, as opposed to creating a new deal with a different\\ncounterparty.  Only one additional deal would have to be created with the\\nnext available counterparty to fill the last 5,000 of the original request.\\nSeems simply enough... and it would be in EOL's best interest to fill our\\ntransaction attempts partially so they would complete our transaction\\nattempts more often....   if they don't fill us partially, EOL will probably\\nend-up denying many of our transaction attempts if the exact volume is not\\navailable.  hmm.... what do ya'll think?\\n\\n-Stewart\\n\\nStewart D. Clark\\nEnFORM Technology, LLC\\nStewart.Clark@enform.com\\n(713) 350-1000  Main\\n(713) 350-1012  Direct\\n(713) 818-0632  Mobile\\n\\n---------------------- Forwarded by David Fisher/NA/Enron on 12/11/2000 01:58 \\nPM ---------------------------\\n\\n\\nAnchi Zhang@ECT\\n12/07/2000 06:42 PM\\nTo: David Fisher/NA/Enron@Enron\\ncc:  \\n\\nSubject: your call\\n\\nDavid,\\n\\nI am in Seattle until Sunday.\\n\\nNo, I have not heard anything from Truequote since they and I had our first \\nphone contact two weeks ago.\\n\\nAnchi\\n---------------------- Forwarded by David Fisher/NA/Enron on 12/11/2000 01:58 \\nPM ---------------------------\\n\\n\\n\\\"O'Neill, Maria\\\" <Maria.O'neill@Enform.com> on 12/08/2000 07:47:26 AM\\nPlease respond to <Maria.O'neill@Enform.com>\\nTo: <David.Fisher@enron.com>\\ncc:  \\n\\nSubject: RE: FW: One other item about Enron...\\n\\n\\nThanks for the clarification David.\\n\\nI appreciate all of your efforts in helping us get answers to our questions.\\nHave a great weekend!\\n\\nMaria F. O'Neill\\nSenior Manager, EnFORM Technology\\n> Enterprise TransFORMation Through Technology\\n3 Greenway Plaza, Suite 800\\nHouston, TX  77046\\noffice (713)350-1891\\ncell (713)416-3308\\n\\n\\n-----Original Message-----\\nFrom: David.Fisher@enron.com [mailto:David.Fisher@enron.com]\\nSent: Thursday, December 07, 2000 5:02 PM\\nTo: Maria.O'neill@Enform.com\\nSubject: Re: FW: One other item about Enron...\\n\\n\\n\\nMaria,\\n\\nStewart is correct in his understanding of no parital fills.  I will\\nreiterate his statements through the following examples:\\n\\nIf Enron posts a gas product with 50,000 MMBTU available and TrueQuote\\nattempts a transaction on 30,000 MMBTU, the attempt will be successfull if\\nthe following 3 criteria are met:\\n\\n1.  30,000 MMBTU is still available when the transaction hits EOL.\\n2.  30,000 MMBTU meets the minimum volume for the product as set by the\\ntrader.\\n3.  30,000 MMBTU meets the increment volume for the product as set by the\\ntrader.\\n\\nExamples of how the 3 criteria above come into play:\\n\\n1.  If when TrueQuote attempts to transact on 30,000 MMBTU, the volume\\navailable for the product drops to below 30,000 MMBTU, the transaction will\\nfail.\\n2.  If TrueQuote attempts to transact on 30,000 MMBTU but the EOL trader\\nhas set the minimum volume for the product to 40,000 MMBTU, the transaction\\nwill fail.\\n3.  If TrueQuote attempts to transact on 32,500 MMBTU but the EOL trader\\nhas set 5,000 MMBTU increments, the transaction will fail.\\n\\nI set-up a meeting with Jay Webb and Andy Zipper for next Friday.  That is\\nthe earliest we all could meet.  Once we talk, I'll coordinate a conference\\ncall with you.  For the time being let's stay the course.\\n\\nRegards,\\nDavid\\n\\n\\n\\n\\n\\n\\n\\n\\\"O'Neill, Maria\\\" <Maria.O'neill@Enform.com> on 12/07/2000 02:17:12 PM\\n\\nPlease respond to <Maria.O'neill@Enform.com>\\n\\nTo:   \\\"David Fisher \\\\(E-mail\\\\)\\\" <david.fisher@enron.com>\\ncc:\\n\\nSubject:  FW: One other item about Enron...\\n\\n\\nDavid,\\n\\nCan you confirm the answer to Stewart's question.  We just want to make\\nabsolutely sure we know what you mean when you say \\\"fill or kill\\\".  Thanks!\\n\\nMaria F. O'Neill\\nSenior Manager, EnFORM Technology\\n> Enterprise TransFORMation Through Technology\\n3 Greenway Plaza, Suite 800\\nHouston, TX  77046\\noffice (713)350-1891\\ncell (713)416-3308\\n\\n\\n-----Original Message-----\\nFrom: Stewart D. Clark [mailto:Stewart.Clark@enform.com]\\nSent: Thursday, December 07, 2000 9:58 AM\\nTo: Maria.O'neill@Enform.com; brett.glass@enform.com;\\nkimberly.hahn@enform.com; richard.stallings@enform.com\\nSubject: RE: One other item about Enron...\\n\\n\\nMaria,\\n\\nPlease confirm with David that NO partial fills refers *only* to\\ntransaction\\nattempts.  We fully expect that Enron will send us (potentially) large\\nvolumes via. the price posting interface; then, we may execute multiple\\ntransaction attempts for that EOL product ID to Enron via. the transaction\\nattempt interface.  These individual transaction attempts could be much\\nsmaller (in volume) than the volume posted via. the price posting\\ninterface.\\n\\nBasically, the way we understand it is... the individual transaction\\nattempts will be 'all or nothing'; however, we can break the large price\\npost down and transmit multiple (smaller) transaction attempts against that\\nlarge price post volume.\\n\\nI believe we are all in agreement on this, but it never hurts to be\\nabsolutely sure concerning something of this magnitude and importance.\\n\\nThanks,\\n\\n-Stewart\\n\\n\\n-----Original Message-----\\nFrom: O'Neill, Maria [mailto:Maria.O'neill@Enform.com]\\nSent: Thursday, December 07, 2000 8:52 AM\\nTo: brett.glass@enform.com; stewart.clark@enform.com;\\nkimberly.hahn@enform.com; richard.stallings@enform.com\\nSubject: FW: One other item about Enron...\\n\\n\\nI've spoken the David Fisher at Enron this morning.  The conference call\\nwill Andy Zipper and Jay Webb cannot be arranged until next Thursday (Dec.\\n14). David will send details later.\\n\\nDavid has asked us to assume that there will be NO partial fills on either\\nside. He believes that even if they agree to do this it will likely be a\\n\\\"day 2\\\" enhancement and not a functionality that is part of the January 5th\\ndeliverables. He is also requesting that we focus on completing the\\nfunctionality that will allow Enron to post prices on True Quote and will\\nallow True Quote to execute transactions on EOL.  In addition, another\\npriority needs to be to have the credit functionality completed.  These are\\ngoing to be the requirements that need to be tested by December 18th and\\nneed to be in production by January 5th.\\n\\nTrue Quote's ability to send prices to Enron and accept transaction\\nattempts\\nfrom EOL is secondary at this point and not likely to be a requirement that\\nneeds to be met by January 5th.\\n\\nPlease let me know if there is any reason why the execution engine will not\\nbe ready to accept price posts from EOL and send transaction requests\\n(assuming only full orders will be filled) by December 18th.  If there is\\nany concern about getting credit functioning within that timeframe, please\\nlet me know this as soon as possible, as well.  Thanks for all of your\\nhelp.\\nYou all are key contributors to this project and without your awesome\\nknowledge and skills, we would never be able to complete this project in\\nthe\\ntimeframe that we're being asked to complete it in.  I really appreciate\\nyour efforts.\\n\\nRegards,\\n\\nMaria F. O'Neill\\nSenior Manager, EnFORM Technology\\n> Enterprise TransFORMation Through Technology\\n3 Greenway Plaza, Suite 800\\nHouston, TX  77046\\noffice (713)350-1891\\ncell (713)416-3308\\n\\n\\n-----Original Message-----\\nFrom: Glass, Brett [mailto:Brett.Glass@enform.com]\\nSent: Thursday, December 07, 2000 8:21 AM\\nTo: Maria O'Neill (E-mail)\\nSubject: FW: One other item about Enron...\\n\\n\\n\\n\\nBrett Glass\\nEnFORM Technology, LLC\\nEnterprise TransFORMation Through Technology\\nPhone: (713) 350-1862\\n\\n -----Original Message-----\\nFrom:     Stewart D. Clark [mailto:Stewart.Clark@enform.com]\\nSent:     Wednesday, December 06, 2000 10:56 PM\\nTo:  Kimberly.Hahn@enform.com; 'Richard H. Stallings (E-mail)'\\nCc:  'Brett Glass (E-mail)'\\nSubject:  RE: One other item about Enron...\\n\\nI believe we're having a conf. call with Andy Zipper and Jay Web tomorrow\\nwith Chris and Dennis.\\n\\nI'll bring this up as an alternative (adding the min and increment\\nattributes to the XML DTDs).  Duration would be another one to add...\\n\\n-Stewart\\n\\n\\n -----Original Message-----\\nFrom:     Hahn, Kimberly [mailto:Kimberly.Hahn@enform.com]\\nSent:     Wednesday, December 06, 2000 8:49 AM\\nTo:  Stewart.Clark@enform.com; 'Richard H. Stallings (E-mail)'\\nCc:  'Brett Glass (E-mail)'\\nSubject:  RE: One other item about Enron...\\n\\nStew & Richard,\\n\\nI would be surprised if Enron was willing to store the minimum qty, but\\nwhat\\nabout sending it in the transaction request as an additional attribute?\\nMight they be talked into that?  This would be better for us since we\\nshould\\nnot have to worry about maintaining our system information on the Enron\\nplatform.\\n\\nHow about proposing that both platforms send the min & increment volume\\nrequirements?  This would be more complex for us now, but might be better\\nin\\nthe long run for both platforms.  We would be more flexible and better able\\nto integrate with outside systems if we were able to accept this type of\\ninformation.  It get complicated because you could only fill where the two\\nrequirements (our and the outside system) were compatible, but it is\\ndo-able.  Thoughts?\\n\\nKim\\n -----Original Message-----\\nFrom:     Stewart D. Clark [mailto:Stewart.Clark@enform.com]\\nSent:     Wednesday, December 06, 2000 12:44 AM\\nTo:  Brett Glass (E-mail); Richard H. Stallings (E-mail); Kimberly A. Hahn\\n(E-mail)\\nSubject:  FW: One other item about Enron...\\n\\nFYI\\n\\n -----Original Message-----\\nFrom:     Stewart D. Clark [mailto:Stewart.Clark@enform.com]\\nSent:     Wednesday, December 06, 2000 12:43 AM\\nTo:  Dennis Crum (E-mail); Chris Edmonds (E-mail)\\nCc:  Maria O'Neill (E-mail)\\nSubject:  One other item about Enron...\\n\\nDennis &  Chris...\\n\\nOne other EOL scenario we forgot to talk about this evening was the\\nscenario\\nwhere:\\n\\n1)  EOL post 20,000 / day to our platform via. the price post interface...\\n2)  A True Quote customer submits a request to do 15,000 / day...\\n3) TQ submits a transaction attempt to EOL for 15,000 day...\\n4)  EOL only has 14,000 remaining, so they deny the entire transaction\\nattempt...\\n\\nHowever, if Enron's system was aware that we would take partially filled\\nGas\\norders in minimum increments of 5,000, EOL could have partially filled the\\ntransaction request for 10,000.\\n\\nAny news on that scenario?  I'll talk to Maria first thing in the\\nmorning...\\nperhaps this one is already resolved?   I would think it would be in EOL's\\nbest business interest to store our minimum volumes, so EOL could always\\nfill us at least partially rather than deny the entire transaction.\\nHowever, it really doesn't matter to us (technically) we'll just cancel the\\nentire EOL transaction attempt and continue our sweep and fill the volume\\nwith the next available counterparty.   Whereas if they partially filled\\nus,\\nwe would probably cancel the original transaction attempt, and rebuild a\\nnew\\ntransaction deal ID for the 10,000 / day deal.... then continue the sweep\\nfor the final 5,000 from the next available counterparty.\\n\\nI haven't reviewed this scenario with the deal execution team yet, but if\\nEOL *did* partially fill us with *at least* our minimum, it would probably\\nbe no more or less complex for us because even in a scenario where EOL\\ndenies a transaction attempt, we ALREADY must have the logic to cancel the\\nEOL deal transaction attempt, and create a new order with the next\\navailable\\ncounterparty (to fill the volume request).   So, if EOL did partially\\nfilled\\nus, we would simply cancel the original transaction request that was for\\nthe\\nfull volume amount, and create a new deal with EOL for the partial volume\\nthey confirmed, as opposed to creating a new deal with a different\\ncounterparty.  Only one additional deal would have to be created with the\\nnext available counterparty to fill the last 5,000 of the original request.\\nSeems simply enough... and it would be in EOL's best interest to fill our\\ntransaction attempts partially so they would complete our transaction\\nattempts more often....   if they don't fill us partially, EOL will\\nprobably\\nend-up denying many of our transaction attempts if the exact volume is not\\navailable.  hmm.... what do ya'll think?\\n\\n-Stewart\\n\\nStewart D. Clark\\nEnFORM Technology, LLC\\nStewart.Clark@enform.com\\n(713) 350-1000  Main\\n(713) 350-1012  Direct\\n(713) 818-0632  Mobile\\n\\n\\n\\n\\n\\n\\n\",\n          \"Message-ID: <7685495.1075843943576.JavaMail.evans@thyme>\\nDate: Thu, 12 Apr 2001 02:48:00 -0700 (PDT)\\nFrom: mike.mcconnell@enron.com\\nTo: robert.jones@enron.com\\nSubject: Enron\\nMime-Version: 1.0\\nContent-Type: text/plain; charset=us-ascii\\nContent-Transfer-Encoding: 7bit\\nX-From: Mike McConnell\\nX-To: Robert W Jones\\nX-cc: \\nX-bcc: \\nX-Folder: \\\\Mark_McConnell_June2001\\\\Notes Folders\\\\Discussion threads\\nX-Origin: MCCONNELL-M\\nX-FileName: mmcconn.nsf\\n\\nhere it is .  I willl forward my forward email as well.\\nthanks,\\nm\\n---------------------- Forwarded by Mike McConnell/HOU/ECT on 04/12/2001 \\n09:43 AM ---------------------------\\n\\n\\n\\\"Jason Stirman\\\" <stirman@mail.utexas.edu> on 04/03/2001 11:12:22 PM\\nTo: <Mike.Mcconnell@enron.com>\\ncc:  \\nSubject: Enron\\n\\nMr. McConnell,\\n\\nThis is Jason Stirman, Don Stirman's son.  I e-mailed you my resume a few\\nweeks ago, and you sent it to a couple people from Enron.  I haven't heard\\nback from anyone yet, so I was wondering if you knew of someone I could\\ncontact to follow up?  Thanks again for your help.\\n\\nSincerely,\\nJason Stirman\\n\\n\\n\\n\"\n        ],\n        \"semantic_type\": \"\",\n        \"description\": \"\"\n      }\n    },\n    {\n      \"column\": \"flag\",\n      \"properties\": {\n        \"dtype\": \"number\",\n        \"std\": 0,\n        \"min\": 0,\n        \"max\": 1,\n        \"num_unique_values\": 2,\n        \"samples\": [\n          1,\n          0\n        ],\n        \"semantic_type\": \"\",\n        \"description\": \"\"\n      }\n    }\n  ]\n}"
            }
          },
          "metadata": {},
          "execution_count": 19
        }
      ]
    },
    {
      "cell_type": "markdown",
      "source": [
        "**Step 9 (Optional): Visualize Topics with pyLDAvis**"
      ],
      "metadata": {
        "id": "C1Sd_GGF9001"
      }
    },
    {
      "cell_type": "code",
      "source": [
        "import pyLDAvis.gensim_models\n",
        "import pyLDAvis\n",
        "\n",
        "pyLDAvis.enable_notebook()\n",
        "pyLDAvis.gensim_models.prepare(ldamodel, corpus, dictionary)"
      ],
      "metadata": {
        "colab": {
          "base_uri": "https://localhost:8080/",
          "height": 861
        },
        "id": "aaDDGYe35YSp",
        "outputId": "b52ed6d5-0bfd-48cd-82c3-9e14725a78a4"
      },
      "execution_count": 20,
      "outputs": [
        {
          "output_type": "execute_result",
          "data": {
            "text/plain": [
              "PreparedData(topic_coordinates=              x         y  topics  cluster       Freq\n",
              "topic                                                \n",
              "1      0.163220  0.030488       1        1  37.041181\n",
              "4     -0.009296 -0.030056       2        1  22.874912\n",
              "3     -0.025184 -0.228653       3        1  17.369585\n",
              "2     -0.300502  0.106325       4        1  11.729509\n",
              "0      0.171761  0.121896       5        1  10.984814, topic_info=              Term           Freq          Total Category  logprob  loglift\n",
              "157             --  111183.000000  111183.000000  Default  30.0000  30.0000\n",
              "41             ect   11524.000000   11524.000000  Default  29.0000  29.0000\n",
              "241           http    5956.000000    5956.000000  Default  28.0000  28.0000\n",
              "1620           =20    9874.000000    9874.000000  Default  27.0000  27.0000\n",
              "0               ''   31227.000000   31227.000000  Default  26.0000  26.0000\n",
              "...            ...            ...            ...      ...      ...      ...\n",
              "340   non-privileg     764.910669    3884.149388   Topic5  -5.7285   0.5838\n",
              "2               's     917.279245   16982.540382   Topic5  -5.5468  -0.7099\n",
              "422           list     688.335144    2328.272343   Topic5  -5.8340   0.9901\n",
              "44           enron     786.509810   22566.553488   Topic5  -5.7006  -1.1480\n",
              "272          price     698.995943    5205.145982   Topic5  -5.8186   0.2009\n",
              "\n",
              "[420 rows x 6 columns], token_table=      Topic      Freq  Term\n",
              "term                       \n",
              "0         1  0.780458    ''\n",
              "0         2  0.170873    ''\n",
              "0         3  0.042750    ''\n",
              "0         4  0.003619    ''\n",
              "0         5  0.002274    ''\n",
              "...     ...       ...   ...\n",
              "472       1  0.805149  year\n",
              "472       2  0.111045  year\n",
              "472       3  0.033108  year\n",
              "472       4  0.002051  year\n",
              "472       5  0.048637  year\n",
              "\n",
              "[914 rows x 3 columns], R=30, lambda_step=0.01, plot_opts={'xlab': 'PC1', 'ylab': 'PC2'}, topic_order=[2, 5, 4, 3, 1])"
            ],
            "text/html": [
              "\n",
              "<link rel=\"stylesheet\" type=\"text/css\" href=\"https://cdn.jsdelivr.net/gh/bmabey/pyLDAvis@3.4.0/pyLDAvis/js/ldavis.v1.0.0.css\">\n",
              "\n",
              "\n",
              "<div id=\"ldavis_el212601390914946255523278083831\" style=\"background-color:white;\"></div>\n",
              "<script type=\"text/javascript\">\n",
              "\n",
              "var ldavis_el212601390914946255523278083831_data = {\"mdsDat\": {\"x\": [0.16321981592451404, -0.009295635055349498, -0.025183523986707507, -0.30050197541665336, 0.17176131853419677], \"y\": [0.030488359501275063, -0.03005646203048816, -0.22865270198401944, 0.10632519206144947, 0.1218956124517829], \"topics\": [1, 2, 3, 4, 5], \"cluster\": [1, 1, 1, 1, 1], \"Freq\": [37.04118097659403, 22.874911729756054, 17.3695845455638, 11.729508668708004, 10.984814079378104]}, \"tinfo\": {\"Term\": [\"--\", \"ect\", \"http\", \"=20\", \"''\", \"pm\", \"imag\", \"``\", \"..\", \"enron\", \"j\", \"said\", \"forward\", \"jeff\", \"pleas\", \"compani\", \"thank\", \"vinc\", \"john\", \"power\", \"electr\", \"non-privileg\", \"click\", \"messag\", \"state\", \"jame\", \"richard\", \"-origin\", \"ee\", \"sent\", \"=20\", \"billion\", \"br\", \"/td\", \"font\", \"/font\", \"dow\", \"util\", \"consum\", \"investor\", \"chief\", \"the=\", \"debt\", \"href=\", \"/b\", \"india\", \"the=20\", \"competit\", \"investig\", \"th=\", \"e=20\", \"deregul\", \"wr\", \"profit\", \"conserv\", \"former\", \"tr\", \"seek\", \"txu.com\", \"align=\", \"electr\", \"regul\", \"commiss\", \"million\", \"said\", \"td\", \"state\", \"percent\", \"crisi\", \"bush\", \"compani\", \"california\", \"power\", \"increas\", \"t=\", \"presid\", \"plant\", \"''\", \"energi\", \"invest\", \"market\", \"stock\", \"'s\", \"``\", \"gener\", \"year\", \"rate\", \"busi\", \"price\", \"enron\", \"say\", \"would\", \"new\", \"ga\", \"plan\", \"cost\", \"also\", \"time\", \"report\", \"n't\", \"one\", \"week\", \"--\", \"yahoo.com\", \"tw\", \"columbiaenergygroup.com\", \"blair\", \"nemec-g\", \"713-646-3490\", \"isda.org\", \"nyiso.com\", \"gnemec.nsf\", \"pdq.net\", \"lorrain\", \"hayslett\", \"ebass.nsf\", \"drew.fossum\", \"ibj\", \"symes/pdx/ect\", \"nom\", \"aep.com\", \"compaq.com\", \"enform.com\", \"csa\", \"lokay\", \"lynn.blair\", \"enron.messaging.administr\", \"\\\\eric_bass_dec2000\\\\not\", \"lindi\", \"michelle.lokay\", \"hotmail.com\", \"geaccon\", \"kimberly.watson\", \"isda\", \"sara.shackleton\", \"shackleton-\", \"shackleton\", \"fossum\", \"s/enron\", \"sara\", \"sshackle.nsf\", \"farmer-d\", \"gtc\", \"-origin\", \"velaw.com\", \"gerald.nemec\", \"dfarmer.nsf\", \"syme\", \"kate\", \"nemec\", \"master\", \"recipi\", \"aol.com\", \"daren\", \"sent\", \"know\", \"fw\", \"thank\", \"fax\", \"e-mail\", \"let\", \"'m\", \"messag\", \"non-privileg\", \"-0800\", \"pst\", \"document\", \"deal\", \"folders\\\\al\", \".pst\", \"pleas\", \"get\", \"agreement\", \"need\", \"attach\", \"``\", \"go\", \"enron\", \"n't\", \"''\", \"would\", \"call\", \"'s\", \"mark\", \"work\", \"may\", \"pm\", \"vinc\", \"enron_develop\", \"vince.kaminski\", \"mann-k\", \"kmann.nsf\", \"kaminski/hou/ect\", \"mann/corp/enron\", \"vkaminski\", \"kslaw.com\", \"jones/hou/ect\", \"akllp.com\", \"vince.j.kaminski\", \"backout\", \"\\\\kay_mann_june2001_1\\\\not\", \"delainey/hou/ect\", \"stinson\", \"11/17/2001\", \"shirley.crenshaw\", \"ccampbel\", \"kaminski\", \"vkamins.nsf\", \"crenshaw\", \"10/20/2001\", \"germany/hou/ect\", \"beck/hou/ect\", \"\\\\kay_mann_june2001_3\\\\not\", \"addresse\", \"shankman/hou/ect\", \"12:00:00\", \"\\\\vincent_kaminski_jun2001_1\\\\not\", \"ect\", \"--\", \"thru\", \"kay.mann\", \"kaminski-v\", \"outag\", \"kay\", \"mann\", \"taylor/hou/ect\", \"pm\", \"forward\", \"ct\", \"sat\", \"pt\", \"commun\", \"enron\", \"j\", \"enronxg\", \"london\", \"salli\", \"pleas\", \"thank\", \"fri\", \"messag\", \"schedul\", \"document\", \"agreement\", \"attach\", \"inform\", \"david\", \"john\", \"may\", \"''\", \"would\", \"sent\", \"'s\", \"-0800\", \"pst\", \"haas.berkeley.edu\", \"belden\", \"paul.kaufman\", \"tim.belden\", \"harry.kingerski\", \"comn\", \"kingerski\", \"novosel\", \"steff\", \"sturm\", \"maureen.mcvick\", \"sarah.novosel\", \"mary.hain\", \"alan.comn\", \"mpalmer\", \"brackett\", \"wanda\", \"/o=enron/ou=na/cn=recipients/cn=lkitchen\", \"govenar\", \"jsteff\", \"louise.kitchen\", \"/o=enron/ou=na/cn=recipients/cn=jsteff\", \"ginger.dernehl\", \"leff\", \"kayn\", \"broderick\", \"dernehl\", \"lawner\", \"robert.bad\", \"gilbert-smith\", \"richard.shapiro\", \"presto\", \"gfergu\", \"steven.kean\", \"james.steff\", \"susan.mara\", \"hartso\", \"sandra.mccubbin\", \"kean\", \"mccubbin\", \"greg.whalley\", \"mara\", \"shapiro\", \"john.lavorato\", \"dasovich\", \"nicolay\", \"kitchen\", \"..\", \"louis\", \"lavorato\", \"skean.nsf\", \"e-mail\\\\\", \"kaufman\", \"kean-\", \"jeff.dasovich\", \"jame\", \"jeff\", \"richard\", \"ee\", \"joe\", \"steven\", \"l\", \"dasovich-j\", \"john\", \"paul\", \"j\", \"robert\", \"david\", \"karen\", \"michael\", \"steve\", \"mark\", \"scott\", \"mike\", \"susan\", \"kevin\", \"chri\", \"tom\", \"enronxg\", \"william\", \"enron\", \"pleas\", \"meet\", \"non-privileg\", \"pete.davi\", \"craig.dean\", \"hourahead\", \"varianc\", \"unsubscrib\", \"bill.williams.iii\", \"dporter3\", \"jbryson\", \"eric.lind\", \"mkt_type\", \"sc_id\", \"trans_dat\", \"trans_typ\", \"dbcaps97data\", \"todaysheadlin\", \"6-28-02\\\\note\", \"6-28-02.nsf\", \"\\\\portland\\\\westdesk\\\\california\", \"scheduling\\\\iso\", \"crawler\", \"steven.merri\", \"/o=enron/ou=na/cn=recipients/cn=pdavis1\", \"sheraton\", \"alia\", \"pars\", \"hilton\", \"linder\", \"privaci\", \"\\\\mark\", \"fool\", \"imag\", \"click\", \"ryan.sling\", \"http\", \"geir.solberg\", \"subscript\", \"detect\", \"databas\", \"subscrib\", \"bert.mey\", \"leaf.harasin\", \"mark.guzman\", \"monika.causholli\", \"newslett\", \"hotel\", \"travel\", \"web\", \"error\", \"engin\", \"internet\", \"=09\", \"hour\", \"free\", \"onlin\", \"avail\", \"attempt\", \"access\", \"email\", \"final\", \"link\", \"occur\", \"visit\", \"initi\", \"employe\", \"inform\", \"schedul\", \"offer\", \"pleas\", \"new\", \"site\", \"servic\", \"day\", \"save\", \"receiv\", \"--\", \"may\", \"non-privileg\", \"'s\", \"list\", \"enron\", \"price\"], \"Freq\": [111183.0, 11524.0, 5956.0, 9874.0, 31227.0, 6905.0, 2460.0, 19180.0, 2739.0, 22566.0, 3837.0, 4969.0, 4262.0, 2990.0, 7516.0, 6180.0, 5178.0, 1795.0, 4117.0, 6670.0, 3157.0, 3884.0, 1288.0, 5140.0, 4068.0, 1968.0, 2211.0, 2766.0, 1928.0, 4134.0, 9872.564001362041, 1463.350109352045, 1311.0058559467172, 1170.8965357752238, 1141.6503474156468, 1103.7971030952347, 810.8381880327013, 2358.4208654684135, 780.8886950693106, 839.444966600837, 648.9940132971179, 603.2424191320018, 570.8058759971503, 564.2962688193304, 514.2144161128405, 501.9645710116679, 484.2591984697287, 501.09972887281805, 492.73366346153705, 457.6139998747733, 441.2869824760306, 437.38889108683594, 425.4081059325601, 698.4765751369871, 413.56406675678596, 425.0680414904116, 401.4014768545898, 403.051477283912, 379.5296223947525, 372.0878619245867, 3134.563154714036, 840.71501449705, 1168.5761014837133, 1762.3553942027, 4817.707263616919, 1239.654832904749, 3911.5333065141804, 925.6341748130868, 738.5250494633945, 663.9560177497564, 5786.625926469141, 3114.9167925792044, 6005.691691359314, 1315.3054597515195, 668.644622774969, 1230.218252385602, 1390.4484367739803, 24372.47304557296, 5278.5753745790225, 1128.7755427226518, 4783.393902702178, 1364.5387210228844, 12281.188645981652, 13527.260106185522, 2406.824509847923, 2747.7718453430903, 2363.0560093717136, 2728.5550188544366, 3598.5281327382254, 8413.055059769382, 1676.5694065766195, 3638.4723624935805, 3015.329525480732, 2437.694198909726, 1893.0202855038158, 1469.750024279723, 2015.570720300752, 2406.548801885866, 2021.4091549480322, 2228.784754513325, 2009.858597941514, 1916.861729871766, 4297.391123756394, 764.3583906938289, 384.84862902034774, 274.45994858827584, 233.04148841458937, 201.689684149636, 165.40438840757707, 163.76522270317108, 162.7878986445525, 153.58751858170675, 147.66692396075365, 142.85280574852754, 134.50778202823767, 132.29156476396528, 130.709904642378, 128.88144378818282, 128.86857131885083, 127.55130287910251, 122.3028849429908, 120.74805315726488, 120.04435816711559, 119.39319368581282, 117.76471940111779, 108.78163888009077, 109.16196118966228, 106.69696884394209, 104.05586743274291, 104.65233461080439, 1284.8731529195788, 102.39236092946162, 100.22594429820292, 597.9455020477562, 668.1096117624254, 328.13110362093033, 664.8826276786787, 164.5341781192361, 1159.1507242962336, 1168.3465997075746, 288.0569825617003, 260.01187760585873, 148.68861028355957, 2423.151945103808, 223.70403009582276, 284.73431739915355, 223.81202769012978, 692.2185066165738, 804.6734820981178, 280.1342414095409, 565.8535094133734, 685.5020142018841, 1894.1523581536276, 431.60115252964385, 2937.436261110155, 2847.2253117806417, 1191.9407098302534, 3419.3712491372894, 1149.7886899673583, 3404.5674817487015, 1947.4627989404605, 1009.6529731137223, 3033.4745188598363, 2371.0336974013317, 2775.482521286678, 2797.1823969411, 2269.4178827959295, 1955.6713003586544, 1545.8219125070962, 1354.8303907904542, 3390.181791636491, 2177.5264133505684, 1594.3739587612365, 2089.2610173039247, 1589.3243014451648, 4777.566329497367, 1711.2557522121704, 4759.115276933356, 1914.4531688798988, 5336.269018261713, 2250.5606133038063, 1666.0636057716235, 2675.8838782209828, 1700.3386437587221, 1551.8969197391282, 1680.291347976637, 1706.6604374681358, 1795.0963012229756, 1108.0699670075276, 699.9100631782593, 487.76536506686574, 472.81348157613223, 384.3421814173351, 338.98066310133385, 311.2216441527905, 270.39860491592685, 251.81000205700153, 218.38960168027722, 205.14933839472235, 188.40989065823786, 155.90526759972013, 146.97450388442797, 145.5776790880183, 143.15195109426568, 141.47081241962462, 138.89877091441025, 903.5792504903226, 470.0164114706531, 129.33202998136096, 124.75324080999255, 119.24675664814421, 117.69060740287715, 116.53152988513479, 117.35512655204236, 115.3396544137245, 105.02749068221304, 104.24825243581077, 11249.229627750274, 104935.48426057158, 610.0804298148819, 776.3770525088311, 528.9185487218386, 851.1672978740652, 1550.1678510658585, 692.6771077246209, 254.69726112286375, 4871.0116212502135, 3052.1575648309217, 395.30163387207665, 603.8097208593499, 384.8667321878786, 1233.4069031487375, 7654.039093439248, 1880.4504752056494, 984.9747222896871, 650.0534067093535, 439.08878546557554, 1917.808188737152, 1409.4894393717318, 852.3717513065851, 1332.0406330149244, 963.1459630429586, 975.5245818704697, 842.6915272889635, 841.568906374506, 866.1042869805589, 770.57698877623, 867.675557922616, 917.6469964049523, 1334.9388030831951, 954.4589000302668, 857.0149024028741, 954.7099396809157, 823.0702543390066, 823.0364821886951, 696.5498890085598, 275.1340293996577, 247.26062499206384, 239.14974450162012, 211.5192386038715, 195.18654690419348, 187.56639011401907, 173.03790147155016, 702.6331261273511, 167.48312028618557, 167.25549887190385, 163.16163198008988, 163.47192514117714, 161.54053478119022, 151.57185713560824, 140.69845380960004, 131.4326687522431, 118.20457525568108, 109.74356420184324, 108.80324069586942, 238.01796755689017, 104.74709872759776, 103.95997744455039, 103.88679357814743, 102.27030143676214, 101.18344938645014, 99.98843696147128, 99.9669686219162, 98.21858178562728, 97.69730389423087, 467.6885593363209, 309.0426906125123, 105.56430638640566, 478.95621406247994, 308.8436936509707, 265.90216095637487, 194.01215490341784, 177.2653881274319, 713.0929514308783, 180.44308248156963, 160.2878275642099, 401.9347704924158, 510.9759537790912, 212.55542040229523, 834.9710176138474, 239.65095018994597, 460.5041433216173, 2238.9276207499233, 499.38740694994675, 261.9786227156717, 407.8457638409396, 353.5310840550301, 275.82256590382207, 427.07981720543273, 631.5991637182399, 1396.1305198692432, 1805.2563435068755, 1401.3321589297916, 1245.0856859825017, 953.5013970338626, 958.6558452193113, 1106.3343382053583, 442.6159070512759, 1747.2597521170803, 967.9065432310974, 1592.8054798390017, 923.1543311603119, 1203.3463803029906, 588.9769734882278, 950.3548124015997, 863.5607350629939, 1421.7544048483733, 858.2339553918963, 940.3754334795082, 801.5357270750096, 674.6558374699252, 784.5922146989336, 631.1605868121095, 656.6905578564069, 628.7825643501495, 953.8342476671552, 761.3770525651926, 678.6905110986418, 667.80111433479, 994.7853791468303, 410.73804583635416, 380.7217710646115, 376.1639590539217, 365.9709025775604, 313.0727696790251, 313.0727696790251, 313.0727696790251, 308.06509648599075, 274.5117063639197, 274.5117063639197, 274.5117063639197, 274.5117063639197, 271.96240172349945, 228.4888044616958, 209.15754738930997, 209.15754738930997, 190.82764149519124, 190.82764149519124, 181.8096211127713, 178.22039754952664, 177.00245364179662, 161.59199046907344, 153.78892934109507, 153.606016644153, 152.5132638816953, 144.8163222382977, 144.07035059117285, 143.44614732178778, 139.04463256770663, 2433.4205750939595, 1280.5364135664763, 446.5789673379523, 5523.956875937977, 446.56423574649193, 226.82757108528378, 244.58327349813362, 885.19148431699, 378.6491894861317, 344.27233625999776, 343.8075244290708, 536.3444960300421, 353.7555655143785, 310.66637242862595, 445.2596958201872, 588.0919766305384, 770.0108661740204, 1166.4621981828843, 564.592678623005, 683.2373018018068, 658.0155028790278, 898.039513113038, 953.7983677331795, 624.4928081361892, 951.9652977355609, 525.2686941159534, 798.4760248464098, 1068.6287683022135, 862.7438795525933, 495.47446111958544, 531.548623691925, 542.9136905357288, 608.7730499981502, 730.57992702711, 1115.7951620727983, 981.7447991404684, 810.3738386111277, 1374.0444510429907, 1145.5862735051767, 600.539842828815, 894.0907346660288, 867.8958840069423, 561.7745635116446, 752.0906244803434, 1941.0583680364161, 877.3156140780583, 764.9106687290448, 917.2792453816021, 688.3351443827199, 786.5098104953205, 698.9959425790161], \"Total\": [111183.0, 11524.0, 5956.0, 9874.0, 31227.0, 6905.0, 2460.0, 19180.0, 2739.0, 22566.0, 3837.0, 4969.0, 4262.0, 2990.0, 7516.0, 6180.0, 5178.0, 1795.0, 4117.0, 6670.0, 3157.0, 3884.0, 1288.0, 5140.0, 4068.0, 1968.0, 2211.0, 2766.0, 1928.0, 4134.0, 9874.977769671443, 1464.142114082354, 1311.7994626318032, 1171.686570632607, 1142.442763011293, 1104.5870389513002, 811.6341515619795, 2360.770348488529, 781.6862836066706, 840.4511138489631, 649.7952676265257, 604.0387809390073, 571.6018221950551, 565.0961115766257, 515.0054487932907, 502.7605186889486, 485.0543377567183, 501.9344092826546, 493.5630939107123, 458.41101433070247, 442.0817413082804, 438.18407536292216, 426.2057084268598, 699.8046243446031, 414.358375625467, 425.88934351487507, 402.1933917693399, 403.8621219788654, 380.33248983716925, 372.8777362835648, 3157.682879342686, 844.8300091224472, 1180.8834837413099, 1791.2985881577463, 4969.3227967799385, 1258.1124916897506, 4068.5901854572, 936.9391683572977, 744.4807513146706, 668.4613980595849, 6180.532833221074, 3307.7533867794587, 6670.006473388354, 1379.8298292939198, 677.989444579692, 1288.3109992060095, 1472.3911466537131, 31227.835583533913, 6157.4052586311045, 1186.5097097420905, 5789.817959900252, 1472.1870737216145, 16982.540381834773, 19180.274569913807, 2822.933903859485, 3413.0333084364993, 2903.4223028842416, 3523.570291613822, 5205.145981584211, 22566.553488304464, 2043.8071706686094, 6852.462603235954, 5583.669221490666, 3982.609044930331, 2639.6701091339696, 1721.5922358708847, 3473.1152705365516, 5217.695312793351, 3510.5490921636515, 4447.702338202405, 3795.1068265734034, 3359.532799615967, 111183.02318491187, 765.2623471845549, 385.6433458890968, 275.3860345635544, 233.95621350598333, 202.48636234604456, 166.19617942098802, 164.56100801531653, 163.5873189746571, 154.384479731921, 148.4635481693918, 143.66247724366463, 135.31069480407214, 133.0931913605106, 131.50511439202083, 129.67777703058076, 129.6657951241291, 128.3854021849061, 123.10694307333, 121.54484422714737, 120.84098507505482, 120.1886157615377, 118.55998388758977, 109.57419958255291, 109.95824601795336, 107.49977124838094, 104.84869396210179, 105.45064173482838, 1294.7346083511611, 103.19178401915042, 101.02092656680682, 603.6265343969776, 678.0220884997193, 331.02456754418904, 676.5246536030262, 166.11591416617193, 1206.6457213619206, 1218.6485560860428, 293.3082301452839, 267.43322318002464, 150.5510429566165, 2766.4368911146044, 231.25743844706537, 298.9841641508677, 232.1324374882063, 774.8582738229068, 917.5072368024604, 297.3761040687307, 644.0667809186874, 800.187998521715, 2456.9666486522415, 484.91329591719324, 4134.049464601702, 4041.495015445023, 1539.497486844322, 5178.945919454713, 1547.9237849435083, 5529.292247423716, 2873.3711990704373, 1338.9748377805827, 5140.878802147634, 3884.1493883840512, 4739.746115473955, 4802.484676721396, 3995.7446346608162, 3310.7992393799373, 2528.536923685855, 2178.737218537487, 7516.2019004103495, 4246.5051179608545, 2874.4646988121135, 4368.284069806457, 2935.6625756824606, 19180.274569913807, 3501.3288634011265, 22566.553488304464, 4447.702338202405, 31227.835583533913, 6852.462603235954, 3950.654308596551, 16982.540381834773, 4387.305609872358, 3571.8843523909054, 5490.419560833971, 6905.432587416455, 1795.8974852397594, 1108.869302738915, 700.7067471051934, 488.56218773490565, 473.61020234424547, 385.1355870740707, 339.7733602337672, 312.01885563992346, 271.1906981610663, 252.60860063369023, 219.18476547289123, 205.94592707227108, 189.20075424584343, 156.7022839525314, 147.7687326942762, 146.3740200541017, 143.94292682928193, 142.2687639576021, 139.69077108505897, 908.8650603202501, 472.8656347461261, 130.13035050791973, 125.5448196477708, 120.04356063653202, 118.48342246258973, 117.32764308489081, 118.16301061531478, 116.13601740634235, 105.81915619211892, 105.04835310188608, 11524.98789943543, 111183.02318491187, 632.0135371259765, 810.42517998186, 553.6371740418132, 965.4053070294598, 1838.9544415015787, 784.5637487570735, 271.1945765022389, 6905.432587416455, 4262.706350902603, 456.0404683865853, 745.555239540355, 476.69796926453887, 2125.2741458044384, 22566.553488304464, 3837.5602102143566, 1689.1604501455715, 965.137739919978, 633.5826162458068, 7516.2019004103495, 5178.945919454713, 2175.11941279646, 5140.878802147634, 2907.2784183983613, 3995.7446346608162, 2874.4646988121135, 2935.6625756824606, 3754.86733431788, 2618.6411139463357, 4117.862902079501, 5490.419560833971, 31227.835583533913, 6852.462603235954, 4134.049464601702, 16982.540381834773, 4739.746115473955, 4802.484676721396, 697.351468140504, 275.93437806722676, 248.05529383931614, 239.9483346882361, 212.3136547527235, 195.9830933988614, 188.36175233585865, 173.8323127904526, 705.9213378983654, 168.27930110401348, 168.05215053102447, 163.95560009680653, 164.26968175765865, 162.33656789561908, 152.3694274548264, 141.50217939330508, 132.23560198413492, 119.00444850913271, 110.54127644568727, 109.60900767723146, 239.790990368526, 105.54255688125295, 104.75350234486963, 104.68545692115589, 103.06681581251095, 101.97627765844253, 100.78195470196539, 100.76197629205949, 99.01581310492759, 98.49248884158597, 472.37054096697864, 313.904819979088, 106.45148909820593, 493.14293965182867, 315.33689429821675, 272.7541990853541, 197.7690288715369, 180.50340918370668, 748.4906551772111, 184.04307574414182, 163.01159550286818, 420.62494912448835, 541.2283328419884, 218.32820794705995, 912.2434771213669, 247.46868412486947, 494.167272964513, 2739.6294316396666, 551.328816017319, 276.0886243853489, 450.5086735153634, 387.6924926058272, 293.8004067038613, 483.14249972319857, 756.1101573458303, 1968.8421537898232, 2990.1592581840655, 2211.1362085994633, 1928.7352002074156, 1427.1962652684858, 1507.4103789658486, 1878.6882910905447, 564.7176278934256, 4117.862902079501, 1780.4393960354666, 3837.5602102143566, 1725.5809273958575, 2618.6411139463357, 903.4138537433362, 2004.2866543438693, 1745.2764975891353, 4387.305609872358, 1848.1191730765051, 2224.636868932714, 1723.926185507531, 1298.6023234331262, 2056.3302991003557, 1175.8024012607095, 1689.1604501455715, 1791.8151614203503, 22566.553488304464, 7516.2019004103495, 3464.609124131689, 3884.1493883840512, 995.5774307341699, 411.5304760103851, 381.5137984782319, 376.96478632065936, 366.81003166366906, 313.8648100046536, 313.8648100046536, 313.8648100046536, 308.8574907653877, 275.3037525946165, 275.3037525946165, 275.3037525946165, 275.3037525946165, 272.7543893609496, 229.28687033455995, 209.96185738800594, 209.96185740228253, 191.6196619298329, 191.6196619298329, 182.60166045529502, 179.01304148592206, 177.79457225019587, 162.3854214493862, 154.58772277792076, 154.4043516242016, 153.32215980136968, 145.61397176091472, 144.86805184667156, 144.25540376756751, 139.84687654715532, 2460.4169931418137, 1288.997825210474, 456.291674303866, 5956.973814729345, 457.54323968501166, 229.36591186900856, 248.19186440803253, 925.2097600828408, 389.4566912006167, 353.86740821250766, 353.57235826133075, 563.9807226401264, 365.143423097781, 318.9731682502087, 470.5067587265081, 645.7359766123418, 895.8258020114711, 1450.6937227853796, 699.1415409774597, 933.9768408379889, 911.6912418848545, 1446.6333693730578, 1598.5236661275012, 919.169326169759, 1787.8984881472377, 709.7853089181758, 1396.9191787919974, 2276.584701036334, 1721.9918837945772, 661.850829191803, 748.4209563648099, 791.1226700785504, 1013.5106989502731, 1514.5834706373153, 3754.86733431788, 2907.2784183983613, 1962.5252984758154, 7516.2019004103495, 5583.669221490666, 1045.1446282408801, 3289.1008342859227, 3368.970741464594, 897.2435754873686, 2654.77638049415, 111183.02318491187, 5490.419560833971, 3884.1493883840512, 16982.540381834773, 2328.272343186512, 22566.553488304464, 5205.145981584211], \"Category\": [\"Default\", \"Default\", \"Default\", \"Default\", \"Default\", \"Default\", \"Default\", \"Default\", \"Default\", \"Default\", \"Default\", \"Default\", \"Default\", \"Default\", \"Default\", \"Default\", \"Default\", \"Default\", \"Default\", \"Default\", \"Default\", \"Default\", \"Default\", \"Default\", \"Default\", \"Default\", \"Default\", \"Default\", \"Default\", \"Default\", \"Topic1\", \"Topic1\", \"Topic1\", \"Topic1\", \"Topic1\", \"Topic1\", \"Topic1\", \"Topic1\", \"Topic1\", \"Topic1\", \"Topic1\", \"Topic1\", \"Topic1\", \"Topic1\", \"Topic1\", \"Topic1\", \"Topic1\", \"Topic1\", \"Topic1\", \"Topic1\", \"Topic1\", \"Topic1\", \"Topic1\", \"Topic1\", \"Topic1\", \"Topic1\", \"Topic1\", \"Topic1\", \"Topic1\", \"Topic1\", \"Topic1\", \"Topic1\", \"Topic1\", \"Topic1\", \"Topic1\", \"Topic1\", \"Topic1\", \"Topic1\", \"Topic1\", \"Topic1\", \"Topic1\", \"Topic1\", \"Topic1\", \"Topic1\", \"Topic1\", \"Topic1\", \"Topic1\", \"Topic1\", \"Topic1\", \"Topic1\", \"Topic1\", \"Topic1\", \"Topic1\", \"Topic1\", \"Topic1\", \"Topic1\", \"Topic1\", \"Topic1\", \"Topic1\", \"Topic1\", \"Topic1\", \"Topic1\", \"Topic1\", \"Topic1\", \"Topic1\", \"Topic1\", \"Topic1\", \"Topic1\", \"Topic1\", \"Topic1\", \"Topic1\", \"Topic1\", \"Topic1\", \"Topic2\", \"Topic2\", \"Topic2\", \"Topic2\", \"Topic2\", \"Topic2\", \"Topic2\", \"Topic2\", \"Topic2\", \"Topic2\", \"Topic2\", \"Topic2\", \"Topic2\", \"Topic2\", \"Topic2\", \"Topic2\", \"Topic2\", \"Topic2\", \"Topic2\", \"Topic2\", \"Topic2\", \"Topic2\", \"Topic2\", \"Topic2\", \"Topic2\", \"Topic2\", \"Topic2\", \"Topic2\", \"Topic2\", \"Topic2\", \"Topic2\", \"Topic2\", \"Topic2\", \"Topic2\", \"Topic2\", \"Topic2\", \"Topic2\", \"Topic2\", \"Topic2\", \"Topic2\", \"Topic2\", \"Topic2\", \"Topic2\", \"Topic2\", \"Topic2\", \"Topic2\", \"Topic2\", \"Topic2\", \"Topic2\", \"Topic2\", \"Topic2\", \"Topic2\", \"Topic2\", \"Topic2\", \"Topic2\", \"Topic2\", \"Topic2\", \"Topic2\", \"Topic2\", \"Topic2\", \"Topic2\", \"Topic2\", \"Topic2\", \"Topic2\", \"Topic2\", \"Topic2\", \"Topic2\", \"Topic2\", \"Topic2\", \"Topic2\", \"Topic2\", \"Topic2\", \"Topic2\", \"Topic2\", \"Topic2\", \"Topic2\", \"Topic2\", \"Topic2\", \"Topic2\", \"Topic2\", \"Topic2\", \"Topic2\", \"Topic2\", \"Topic2\", \"Topic3\", \"Topic3\", \"Topic3\", \"Topic3\", \"Topic3\", \"Topic3\", \"Topic3\", \"Topic3\", \"Topic3\", \"Topic3\", \"Topic3\", \"Topic3\", \"Topic3\", \"Topic3\", \"Topic3\", \"Topic3\", \"Topic3\", \"Topic3\", \"Topic3\", \"Topic3\", \"Topic3\", \"Topic3\", \"Topic3\", \"Topic3\", \"Topic3\", \"Topic3\", \"Topic3\", \"Topic3\", \"Topic3\", \"Topic3\", \"Topic3\", \"Topic3\", \"Topic3\", \"Topic3\", \"Topic3\", \"Topic3\", \"Topic3\", \"Topic3\", \"Topic3\", \"Topic3\", \"Topic3\", \"Topic3\", \"Topic3\", \"Topic3\", \"Topic3\", \"Topic3\", \"Topic3\", \"Topic3\", \"Topic3\", \"Topic3\", \"Topic3\", \"Topic3\", \"Topic3\", \"Topic3\", \"Topic3\", \"Topic3\", \"Topic3\", \"Topic3\", \"Topic3\", \"Topic3\", \"Topic3\", \"Topic3\", \"Topic3\", \"Topic3\", \"Topic3\", \"Topic3\", \"Topic3\", \"Topic3\", \"Topic4\", \"Topic4\", \"Topic4\", \"Topic4\", \"Topic4\", \"Topic4\", \"Topic4\", \"Topic4\", \"Topic4\", \"Topic4\", \"Topic4\", \"Topic4\", \"Topic4\", \"Topic4\", \"Topic4\", \"Topic4\", \"Topic4\", \"Topic4\", \"Topic4\", \"Topic4\", \"Topic4\", \"Topic4\", \"Topic4\", \"Topic4\", \"Topic4\", \"Topic4\", \"Topic4\", \"Topic4\", \"Topic4\", \"Topic4\", \"Topic4\", \"Topic4\", \"Topic4\", \"Topic4\", \"Topic4\", \"Topic4\", \"Topic4\", \"Topic4\", \"Topic4\", \"Topic4\", \"Topic4\", \"Topic4\", \"Topic4\", \"Topic4\", \"Topic4\", \"Topic4\", \"Topic4\", \"Topic4\", \"Topic4\", \"Topic4\", \"Topic4\", \"Topic4\", \"Topic4\", \"Topic4\", \"Topic4\", \"Topic4\", \"Topic4\", \"Topic4\", \"Topic4\", \"Topic4\", \"Topic4\", \"Topic4\", \"Topic4\", \"Topic4\", \"Topic4\", \"Topic4\", \"Topic4\", \"Topic4\", \"Topic4\", \"Topic4\", \"Topic4\", \"Topic4\", \"Topic4\", \"Topic4\", \"Topic4\", \"Topic4\", \"Topic4\", \"Topic4\", \"Topic4\", \"Topic4\", \"Topic4\", \"Topic4\", \"Topic4\", \"Topic4\", \"Topic5\", \"Topic5\", \"Topic5\", \"Topic5\", \"Topic5\", \"Topic5\", \"Topic5\", \"Topic5\", \"Topic5\", \"Topic5\", \"Topic5\", \"Topic5\", \"Topic5\", \"Topic5\", \"Topic5\", \"Topic5\", \"Topic5\", \"Topic5\", \"Topic5\", \"Topic5\", \"Topic5\", \"Topic5\", \"Topic5\", \"Topic5\", \"Topic5\", \"Topic5\", \"Topic5\", \"Topic5\", \"Topic5\", \"Topic5\", \"Topic5\", \"Topic5\", \"Topic5\", \"Topic5\", \"Topic5\", \"Topic5\", \"Topic5\", \"Topic5\", \"Topic5\", \"Topic5\", \"Topic5\", \"Topic5\", \"Topic5\", \"Topic5\", \"Topic5\", \"Topic5\", \"Topic5\", \"Topic5\", \"Topic5\", \"Topic5\", \"Topic5\", \"Topic5\", \"Topic5\", \"Topic5\", \"Topic5\", \"Topic5\", \"Topic5\", \"Topic5\", \"Topic5\", \"Topic5\", \"Topic5\", \"Topic5\", \"Topic5\", \"Topic5\", \"Topic5\", \"Topic5\", \"Topic5\", \"Topic5\", \"Topic5\", \"Topic5\", \"Topic5\", \"Topic5\", \"Topic5\", \"Topic5\", \"Topic5\", \"Topic5\", \"Topic5\", \"Topic5\", \"Topic5\", \"Topic5\", \"Topic5\"], \"logprob\": [30.0, 29.0, 28.0, 27.0, 26.0, 25.0, 24.0, 23.0, 22.0, 21.0, 20.0, 19.0, 18.0, 17.0, 16.0, 15.0, 14.0, 13.0, 12.0, 11.0, 10.0, 9.0, 8.0, 7.0, 6.0, 5.0, 4.0, 3.0, 2.0, 1.0, -4.3862, -6.2953, -6.4052, -6.5182, -6.5435, -6.5772, -6.8857, -5.818, -6.9233, -6.851, -7.1083, -7.1814, -7.2367, -7.2482, -7.3411, -7.3652, -7.4011, -7.3669, -7.3838, -7.4577, -7.4941, -7.5029, -7.5307, -7.0349, -7.5589, -7.5315, -7.5888, -7.5847, -7.6448, -7.6646, -5.5335, -6.8495, -6.5202, -6.1093, -5.1037, -6.4612, -5.3121, -6.7533, -6.9791, -7.0855, -4.9204, -5.5398, -4.8833, -6.4019, -7.0785, -6.4688, -6.3464, -3.4825, -5.0123, -6.5549, -5.1108, -6.3652, -4.1679, -4.0713, -5.7977, -5.6652, -5.816, -5.6722, -5.3955, -4.5462, -6.1592, -5.3844, -5.5723, -5.7849, -6.0378, -6.2909, -5.9751, -5.7978, -5.9722, -5.8745, -5.9779, -6.0253, -5.218, -6.4627, -7.1489, -7.487, -7.6505, -7.795, -7.9934, -8.0033, -8.0093, -8.0675, -8.1068, -8.1399, -8.2001, -8.2168, -8.2288, -8.2429, -8.243, -8.2532, -8.2953, -8.3081, -8.3139, -8.3193, -8.3331, -8.4124, -8.4089, -8.4318, -8.4568, -8.4511, -5.9433, -8.473, -8.4943, -6.7083, -6.5973, -7.3084, -6.6022, -7.9986, -6.0463, -6.0384, -7.4386, -7.541, -8.0999, -5.3089, -7.6914, -7.4502, -7.691, -6.5619, -6.4113, -7.4665, -6.7634, -6.5716, -5.5552, -7.0343, -5.1165, -5.1477, -6.0184, -4.9646, -6.0544, -4.9689, -5.5275, -6.1844, -5.0843, -5.3307, -5.1732, -5.1654, -5.3745, -5.5233, -5.7585, -5.8903, -4.9731, -5.4158, -5.7275, -5.4572, -5.7307, -4.6301, -5.6568, -4.6339, -5.5446, -4.5195, -5.3828, -5.6835, -5.2097, -5.6632, -5.7545, -5.675, -5.6595, -5.3336, -5.8161, -6.2755, -6.6366, -6.6677, -6.8749, -7.0005, -7.0859, -7.2265, -7.2978, -7.4402, -7.5027, -7.5878, -7.7772, -7.8362, -7.8457, -7.8625, -7.8744, -7.8927, -6.0201, -6.6737, -7.9641, -8.0001, -8.0452, -8.0584, -8.0683, -8.0612, -8.0786, -8.1722, -8.1797, -3.4984, -1.2653, -6.4129, -6.1718, -6.5556, -6.0798, -5.4803, -6.2859, -7.2864, -4.3354, -4.8028, -6.8468, -6.4232, -6.8735, -5.7089, -3.8835, -5.2872, -5.9338, -6.3494, -6.7417, -5.2675, -5.5755, -6.0784, -5.632, -5.9562, -5.9435, -6.0898, -6.0912, -6.0624, -6.1793, -6.0606, -6.0046, -5.6298, -5.9653, -6.073, -5.965, -6.1134, -6.1134, -5.8877, -6.8166, -6.9234, -6.9567, -7.0795, -7.1599, -7.1997, -7.2803, -5.879, -7.3129, -7.3143, -7.3391, -7.3372, -7.3491, -7.4128, -7.4872, -7.5553, -7.6614, -7.7357, -7.7443, -6.9615, -7.7823, -7.7898, -7.7905, -7.8062, -7.8169, -7.8288, -7.829, -7.8466, -7.852, -6.286, -6.7004, -7.7745, -6.2622, -6.701, -6.8507, -7.1659, -7.2562, -5.8642, -7.2384, -7.3569, -6.4375, -6.1975, -7.0746, -5.7064, -6.9546, -6.3015, -4.7201, -6.2204, -6.8656, -6.4229, -6.5659, -6.8141, -6.3769, -5.9856, -5.1924, -4.9354, -5.1887, -5.3069, -5.5737, -5.5683, -5.425, -6.3411, -4.968, -5.5587, -5.0606, -5.606, -5.341, -6.0554, -5.577, -5.6728, -5.1742, -5.679, -5.5876, -5.7473, -5.9196, -5.7687, -5.9863, -5.9466, -5.99, -5.5733, -5.7987, -5.9137, -5.9298, -5.4657, -6.3503, -6.4262, -6.4382, -6.4657, -6.6218, -6.6218, -6.6218, -6.6379, -6.7532, -6.7532, -6.7532, -6.7532, -6.7626, -6.9368, -7.0251, -7.0251, -7.1169, -7.1169, -7.1653, -7.1852, -7.1921, -7.2832, -7.3327, -7.3338, -7.341, -7.3928, -7.3979, -7.4023, -7.4334, -4.5712, -5.2132, -6.2666, -3.7514, -6.2667, -6.944, -6.8687, -5.5824, -6.4316, -6.5268, -6.5282, -6.0835, -6.4996, -6.6295, -6.2696, -5.9914, -5.7218, -5.3065, -6.0321, -5.8414, -5.879, -5.568, -5.5078, -5.9313, -5.5097, -6.1043, -5.6855, -5.3941, -5.6081, -6.1627, -6.0924, -6.0713, -5.9568, -5.7744, -5.3509, -5.4789, -5.6707, -5.1427, -5.3246, -5.9704, -5.5724, -5.6022, -6.0371, -5.7454, -4.7972, -5.5914, -5.7285, -5.5468, -5.834, -5.7006, -5.8186], \"loglift\": [30.0, 29.0, 28.0, 27.0, 26.0, 25.0, 24.0, 23.0, 22.0, 21.0, 20.0, 19.0, 18.0, 17.0, 16.0, 15.0, 14.0, 13.0, 12.0, 11.0, 10.0, 9.0, 8.0, 7.0, 6.0, 5.0, 4.0, 3.0, 2.0, 1.0, 0.9929, 0.9926, 0.9925, 0.9925, 0.9924, 0.9924, 0.9922, 0.9921, 0.9921, 0.9919, 0.9919, 0.9918, 0.9917, 0.9917, 0.9916, 0.9916, 0.9915, 0.9915, 0.9915, 0.9914, 0.9913, 0.9913, 0.9913, 0.9912, 0.9912, 0.9912, 0.9912, 0.9911, 0.991, 0.991, 0.9858, 0.9883, 0.9827, 0.9769, 0.9622, 0.9784, 0.9538, 0.981, 0.9851, 0.9864, 0.9273, 0.9331, 0.8882, 0.9452, 0.9793, 0.947, 0.9359, 0.7453, 0.8391, 0.9433, 0.8022, 0.9172, 0.669, 0.644, 0.8337, 0.7763, 0.7872, 0.7374, 0.624, 0.0065, 0.7951, 0.3601, 0.377, 0.5023, 0.6607, 0.835, 0.449, 0.2193, 0.4412, 0.3022, 0.3575, 0.432, -2.26, 1.4739, 1.4731, 1.4718, 1.4712, 1.4712, 1.4704, 1.4703, 1.4702, 1.47, 1.4697, 1.4695, 1.4692, 1.4691, 1.4691, 1.469, 1.469, 1.4686, 1.4686, 1.4686, 1.4685, 1.4685, 1.4684, 1.4679, 1.4679, 1.4676, 1.4675, 1.4675, 1.4675, 1.4674, 1.4672, 1.4657, 1.4604, 1.4664, 1.4578, 1.4656, 1.435, 1.433, 1.4571, 1.447, 1.4627, 1.3426, 1.4419, 1.4263, 1.4386, 1.3624, 1.3439, 1.4154, 1.3457, 1.3204, 1.215, 1.3587, 1.1334, 1.1249, 1.2193, 1.06, 1.1778, 0.9902, 1.0862, 1.1928, 0.9476, 0.9816, 0.94, 0.9346, 0.9094, 0.9487, 0.983, 1.0001, 0.679, 0.8072, 0.8857, 0.7376, 0.8615, 0.0852, 0.7592, -0.0813, 0.6322, -0.2917, 0.3617, 0.6117, -0.3728, 0.5272, 0.6415, 0.2911, 0.0774, 1.75, 1.7497, 1.7493, 1.7488, 1.7488, 1.7484, 1.7481, 1.7479, 1.7475, 1.7473, 1.7468, 1.7466, 1.7463, 1.7454, 1.7451, 1.745, 1.7449, 1.7448, 1.7448, 1.7446, 1.7444, 1.7443, 1.7441, 1.7438, 1.7437, 1.7436, 1.7436, 1.7436, 1.7429, 1.7428, 1.7262, 1.6926, 1.7151, 1.7075, 1.7048, 1.6245, 1.5796, 1.6259, 1.6877, 1.4014, 1.4164, 1.6075, 1.5396, 1.5365, 1.2063, 0.6692, 1.0371, 1.2111, 1.3552, 1.3838, 0.3846, 0.4491, 0.8136, 0.3999, 0.6457, 0.3404, 0.5234, 0.501, 0.2836, 0.5272, 0.1932, -0.0385, -1.402, -0.2208, 0.1769, -1.1281, -0.0002, -0.0134, 2.1419, 2.1402, 2.1399, 2.1397, 2.1393, 2.139, 2.1388, 2.1385, 2.1384, 2.1383, 2.1383, 2.1382, 2.1382, 2.1381, 2.1378, 2.1374, 2.137, 2.1363, 2.1358, 2.1357, 2.1356, 2.1355, 2.1355, 2.1354, 2.1353, 2.1353, 2.1352, 2.1351, 2.135, 2.135, 2.1331, 2.1275, 2.1347, 2.1139, 2.1223, 2.1176, 2.1239, 2.125, 2.0946, 2.1233, 2.1262, 2.0976, 2.0855, 2.1163, 2.0546, 2.111, 2.0725, 1.9412, 2.0441, 2.0906, 2.0436, 2.0508, 2.0799, 2.0197, 1.9631, 1.7993, 1.6384, 1.687, 1.7054, 1.7397, 1.6904, 1.6135, 1.8994, 1.2858, 1.5336, 1.2637, 1.5175, 1.3655, 1.7153, 1.3969, 1.4395, 1.0162, 1.376, 1.282, 1.3772, 1.4882, 1.1795, 1.5209, 1.1983, 1.0959, -1.0207, -0.1466, 0.5129, 0.3824, 2.2079, 2.2067, 2.2066, 2.2065, 2.2064, 2.2061, 2.2061, 2.2061, 2.2061, 2.2058, 2.2058, 2.2058, 2.2058, 2.2057, 2.2052, 2.2048, 2.2048, 2.2045, 2.2045, 2.2043, 2.2042, 2.2042, 2.2038, 2.2035, 2.2035, 2.2034, 2.2032, 2.2031, 2.203, 2.2029, 2.1976, 2.2021, 2.1871, 2.1332, 2.1844, 2.1975, 2.194, 2.1644, 2.1805, 2.1812, 2.1807, 2.1584, 2.177, 2.1823, 2.1535, 2.1151, 2.0573, 1.9906, 1.9949, 1.896, 1.8826, 1.7319, 1.6923, 1.8221, 1.5784, 1.9076, 1.6493, 1.4524, 1.5175, 1.9191, 1.8665, 1.8322, 1.6989, 1.4796, 0.9952, 1.123, 1.3242, 0.5094, 0.6247, 1.6546, 0.9061, 0.8524, 1.7404, 0.9474, -1.8393, 0.3748, 0.5838, -0.7099, 0.9901, -1.148, 0.2009]}, \"token.table\": {\"Topic\": [1, 2, 3, 4, 5, 1, 2, 3, 4, 1, 2, 3, 4, 5, 1, 2, 3, 4, 5, 1, 2, 3, 4, 5, 2, 3, 4, 1, 2, 4, 5, 1, 2, 3, 4, 5, 1, 1, 4, 4, 5, 1, 3, 3, 3, 5, 5, 2, 1, 5, 1, 4, 5, 2, 3, 3, 5, 5, 3, 1, 2, 3, 4, 5, 1, 2, 3, 4, 5, 3, 2, 1, 2, 3, 4, 3, 4, 5, 1, 1, 2, 3, 4, 5, 1, 2, 3, 4, 1, 2, 3, 4, 5, 1, 2, 3, 5, 1, 2, 3, 4, 5, 3, 3, 4, 4, 5, 5, 1, 2, 1, 4, 4, 1, 5, 1, 2, 3, 4, 5, 1, 4, 5, 1, 2, 3, 4, 5, 3, 1, 1, 2, 3, 4, 1, 4, 5, 2, 1, 4, 1, 2, 3, 4, 5, 4, 1, 2, 3, 4, 5, 2, 1, 1, 1, 1, 2, 3, 4, 5, 5, 5, 3, 1, 4, 2, 1, 3, 5, 1, 2, 3, 4, 1, 4, 1, 4, 3, 5, 1, 2, 3, 4, 1, 2, 3, 4, 5, 5, 1, 2, 3, 4, 5, 1, 3, 1, 4, 1, 5, 2, 3, 4, 1, 2, 3, 4, 5, 1, 5, 2, 1, 2, 3, 4, 5, 2, 4, 1, 2, 2, 3, 4, 1, 2, 3, 4, 5, 1, 3, 4, 1, 2, 3, 4, 5, 1, 2, 3, 4, 5, 1, 2, 3, 4, 5, 2, 1, 3, 4, 5, 1, 2, 3, 4, 5, 2, 3, 2, 3, 4, 5, 1, 2, 3, 4, 5, 2, 3, 4, 1, 2, 3, 4, 5, 1, 2, 3, 4, 5, 1, 2, 3, 4, 5, 1, 5, 1, 1, 2, 3, 4, 5, 2, 5, 1, 2, 3, 4, 5, 1, 2, 3, 4, 5, 1, 2, 3, 4, 5, 1, 2, 3, 4, 5, 2, 4, 5, 1, 2, 3, 4, 5, 2, 4, 3, 1, 2, 3, 4, 5, 4, 4, 4, 2, 1, 2, 3, 4, 5, 4, 1, 4, 2, 3, 4, 4, 1, 4, 2, 5, 1, 2, 3, 5, 2, 5, 1, 2, 3, 4, 5, 5, 1, 1, 2, 4, 5, 2, 1, 5, 1, 2, 3, 4, 5, 1, 1, 2, 3, 4, 5, 1, 2, 3, 5, 1, 3, 5, 1, 3, 5, 1, 1, 2, 3, 2, 1, 2, 3, 4, 1, 2, 3, 4, 1, 4, 5, 1, 2, 3, 4, 5, 1, 4, 1, 2, 3, 4, 1, 2, 3, 4, 5, 3, 4, 3, 4, 3, 5, 3, 5, 3, 1, 2, 3, 4, 1, 2, 3, 4, 5, 1, 4, 2, 3, 4, 2, 3, 4, 4, 1, 4, 1, 3, 4, 1, 2, 3, 4, 5, 2, 4, 1, 2, 3, 4, 5, 3, 1, 2, 3, 4, 5, 3, 1, 2, 3, 4, 5, 3, 4, 4, 4, 5, 4, 1, 2, 3, 4, 5, 5, 2, 1, 2, 3, 4, 5, 1, 2, 3, 4, 5, 2, 1, 2, 3, 4, 5, 2, 1, 2, 3, 4, 3, 4, 2, 2, 3, 4, 3, 3, 1, 4, 1, 2, 3, 4, 5, 4, 5, 1, 2, 3, 4, 5, 4, 1, 2, 3, 4, 4, 1, 2, 3, 4, 5, 1, 4, 1, 2, 3, 4, 5, 1, 2, 3, 4, 5, 1, 2, 3, 4, 5, 2, 1, 2, 3, 4, 5, 1, 2, 3, 5, 5, 4, 5, 4, 1, 2, 3, 5, 1, 2, 3, 4, 5, 2, 4, 2, 1, 2, 3, 4, 5, 1, 5, 3, 4, 2, 1, 2, 3, 4, 5, 4, 2, 1, 2, 3, 4, 5, 1, 2, 3, 4, 5, 1, 2, 3, 4, 5, 1, 2, 3, 5, 1, 3, 5, 5, 1, 2, 3, 4, 5, 4, 2, 1, 4, 5, 5, 1, 2, 3, 4, 5, 1, 2, 3, 4, 1, 2, 3, 4, 5, 1, 2, 3, 4, 5, 1, 2, 3, 4, 5, 1, 2, 3, 4, 5, 1, 4, 1, 2, 3, 4, 5, 5, 1, 5, 1, 2, 3, 4, 5, 1, 2, 3, 5, 1, 2, 3, 4, 5, 1, 2, 3, 4, 5, 1, 2, 3, 1, 4, 1, 2, 3, 4, 5, 1, 2, 3, 4, 1, 4, 1, 2, 3, 4, 4, 4, 5, 2, 3, 1, 2, 3, 1, 2, 3, 4, 1, 4, 2, 3, 4, 2, 4, 4, 2, 3, 4, 5, 1, 2, 3, 5, 1, 2, 3, 5, 1, 2, 3, 4, 5, 5, 1, 2, 3, 4, 1, 1, 2, 3, 4, 5, 1, 2, 3, 4, 5, 2, 3, 4, 2, 3, 3, 1, 4, 5, 3, 1, 2, 3, 4, 5, 1, 3, 4, 2, 3, 1, 2, 3, 4, 5, 1, 4, 1, 2, 3, 4, 1, 2, 3, 4, 5, 1, 4, 5, 3, 1, 5, 4, 1, 5, 1, 5, 1, 2, 3, 4, 1, 4, 2, 4, 5, 2, 1, 5, 2, 3, 1, 3, 1, 1, 2, 3, 4, 5, 1, 1, 2, 3, 5, 4, 1, 2, 3, 4, 5, 5, 1, 2, 3, 4, 1, 5, 5, 1, 2, 3, 5, 2, 1, 5, 1, 4, 5, 2, 3, 4, 3, 3, 3, 1, 2, 3, 5, 3, 5, 3, 4, 1, 3, 4, 5, 1, 2, 3, 4, 5, 1, 2, 3, 4, 5, 1, 2, 3, 4, 5, 1, 2, 3, 4, 1, 2, 1, 2, 3, 4, 5], \"Freq\": [0.7804575483563478, 0.17087319374813195, 0.04275032114950453, 0.0036185665092839043, 0.002273612585479267, 0.12546912403407695, 0.7543084242524865, 0.11800072379395332, 0.0022405200720370887, 0.7231544706430532, 0.15757359852135905, 0.05623422518232357, 0.009009252830257075, 0.053996632976115934, 0.03864798668816127, 7.195343111596234e-05, 0.9438041617691885, 8.994178889495293e-06, 0.01745770122451036, 0.007173380002148099, 0.5854743972341463, 0.1736379924049378, 0.11540702532867676, 0.11836077003544362, 0.875855873590439, 0.08494681398834221, 0.039039386854216845, 0.009855347474435809, 0.1609706754157849, 0.8172638146393251, 0.012045424690977101, 0.011933518085055217, 0.6219198848173006, 0.007802684901766872, 0.15605369803533745, 0.20241082598112886, 0.9980476929018002, 0.9994685444147005, 0.9948593543942338, 0.991559571749491, 0.9955309532786089, 0.9994140321739488, 0.9956603573982635, 0.9934493007051312, 0.9922589045160055, 0.9954188945831259, 0.9954188946508106, 0.9928026057809789, 0.27750623059287166, 0.721735572055769, 0.9997997190760756, 0.00010126605075215999, 0.00010126605075215999, 0.9953509552385353, 0.9955183553499186, 0.9972074519160523, 0.991297353618792, 0.9967661881688331, 0.9900202804619956, 0.7052558059423436, 0.2491100939448893, 0.03295051891443492, 0.010635926991368234, 0.002033338983643927, 0.20115694899614603, 0.03794063450816989, 0.05297371610574664, 0.13601359540664676, 0.5712571007079165, 0.9901575746144365, 0.9910082807216597, 0.14437470746170608, 0.5545380329974928, 0.2932719961210078, 0.00765359894977719, 0.9945946723517253, 0.9979267277854765, 0.9961981277208859, 0.9976460480255188, 0.5804587072310312, 0.2651797963094146, 0.11430660058071399, 0.009789482165602709, 0.030232224334949542, 0.08547124565780924, 0.7708692346470986, 0.11436866680878283, 0.029304427082677453, 0.014988098552086224, 0.5412747408923866, 0.28681770411037727, 0.1352335255722325, 0.021800870621216325, 0.19724274120773502, 0.06058169908523289, 0.001408876722912393, 0.7396602795290063, 0.18401492152998905, 0.13255786140610154, 0.08557532824950859, 0.06543995689668304, 0.5324687091080534, 0.9936535440853307, 0.9959199147649338, 0.9966137671073406, 0.025433254917319875, 0.9721155212842264, 0.9972446417148811, 0.9992199431521237, 0.9959128527015638, 0.9993905603298546, 0.9964510836832465, 0.9904264238619058, 0.9933258703157198, 0.005983890785034457, 0.7744985268195393, 0.08258668790930229, 0.06811273229633179, 0.009081697639510906, 0.06584230788645407, 0.9417267963355848, 0.04474335982589616, 0.013604399947063023, 0.24603519419174336, 0.42170229786362595, 0.1470642467339536, 0.06404002482562868, 0.1212457387014867, 0.9950549984104651, 0.9987761258566401, 0.01507539912900301, 0.3506246055487474, 0.252391359611373, 0.38174801020217297, 0.003103185995947557, 0.003103185995947557, 0.9937953152022051, 0.9949669395336221, 0.9899367855466483, 0.01016188317070982, 0.27102385879821544, 0.03152534468659798, 0.5801604477399299, 0.03246639975186955, 0.08469495587444231, 0.9949837846631974, 0.936327037839555, 0.03187427448667571, 0.021195583541901104, 0.005824740515331601, 0.004853950429443001, 0.9955173398706313, 0.9981383836904307, 0.9991351070798894, 0.9991220472700325, 0.8538607280930178, 0.05692404853953452, 0.04356432286188866, 0.00522771874342664, 0.04007917703293757, 0.9987109678594698, 0.9967050658039207, 0.9913137058072325, 0.9926381557817416, 0.006716090363881879, 0.9901104130869101, 0.024120666393744918, 0.8661512023208403, 0.10744660484486372, 0.0020622243366384537, 0.890880913427812, 0.059804505762515156, 0.047431159742684435, 0.08440729030256003, 0.9153258104238653, 0.2142663767224127, 0.7844628503142878, 0.04215260331506668, 0.9565398444572822, 0.051553456210940166, 0.19437562378791515, 0.2944275165824805, 0.45939857645748905, 0.2914836831064596, 0.3481775562972272, 0.02908900299840432, 0.07331616061842722, 0.25764545512872394, 0.9972341806754529, 0.30898883503174673, 0.5907939015856272, 0.07611455173802559, 0.000604083743952584, 0.023257224142174484, 0.9989471303769747, 0.9947977310202243, 0.9972977672409901, 0.9922411238770095, 0.012087422797501284, 0.9871395284626049, 0.9649663891173353, 0.02584731399421434, 0.00861577133140478, 0.09510117255835514, 0.56785410667081, 0.24425985372882794, 0.05230564490709533, 0.04054313145908824, 0.9992186731413912, 0.9972446417148811, 0.9961589753040702, 0.27526126887381497, 0.615811182992996, 0.04810742281237502, 0.01989404702767388, 0.04105407886619974, 0.08511900702073072, 0.9130948025860205, 0.997553073996951, 0.9917862713386333, 0.02325382051057324, 0.9760530855352179, 0.0006073759088582563, 0.011406438788297184, 0.01659118369206863, 0.32456503097609263, 0.6455007405195452, 0.002073897961508579, 0.9928166062871367, 0.0034835670396039884, 0.0038002549522952603, 0.0026355268034915255, 0.3931327481874859, 0.12606603210034464, 0.008785089344971752, 0.4695630254887401, 0.459532282963007, 0.007922970395913914, 0.03301237664964131, 0.01716643585781348, 0.4826409466177559, 0.857341652573573, 0.03832783292429688, 0.05310678545019102, 0.011206018948205445, 0.040114299713141226, 0.9930405642213816, 0.1516145069163004, 0.03575813842365576, 0.004290976610838691, 0.8081339283746202, 0.3728083690032771, 0.2108873205855932, 0.33917452232866785, 0.04227495352776968, 0.0348746209919861, 0.9912853646483512, 0.9992160458074114, 0.027824473392062635, 0.5831299210889722, 0.38895061741670534, 0.9972236685493276, 0.008271904545750433, 0.05721400644144049, 0.12132126667100636, 0.009650555303375505, 0.803753391695417, 0.9722053113235639, 0.018696255986991612, 0.007478502394796646, 0.027779145471021553, 0.7429306346901113, 0.15052420685460516, 0.04005365160937992, 0.03940762497051895, 0.15273010429088307, 0.2003493763511584, 0.1016264952505876, 0.044134935080255185, 0.5011638022928977, 0.014632968043063022, 0.611420772826363, 0.23729137367129224, 0.08700683701280716, 0.04983118847097137, 0.9996124418433656, 0.9939442584055872, 0.9979117967415309, 0.07483508685332116, 0.1663262588683533, 0.7159770692048156, 0.03612728330849987, 0.006334004216425302, 0.9932823163164509, 0.006019892826160308, 0.21770087448442121, 0.12198755897833947, 0.0475438691402759, 0.01563943063824865, 0.5968006731555685, 0.0156313257101998, 0.3972195709886067, 0.39170263250265386, 0.11125825946671623, 0.08413331191078129, 0.003247813031672466, 0.7742786267507159, 0.14615158642526097, 0.0759988249411357, 0.0006495626063344932, 0.6121615183653178, 0.27519648241525363, 0.06879912060381341, 0.010043667241432614, 0.03414846862087089, 0.9884507857822359, 0.02185585783517278, 0.9769568452322234, 0.8526590001661659, 0.023734172418418412, 0.06907706897897896, 0.007793310346346344, 0.046759862078078064, 0.9532277430459117, 0.04682522246541321, 0.9913068170337623, 0.2762271485412144, 0.5128923525343264, 0.11986327247014332, 0.0030613409471745836, 0.0880724241725611, 0.9957587338417652, 0.9949997319858768, 0.9928069006954159, 0.9975095959607557, 0.3672891208370536, 0.4886716063391903, 0.07368630884600298, 0.0017136350894419298, 0.06883100942591752, 0.9951033997155513, 0.012269065852832599, 0.9815252682266079, 0.9896975608660283, 0.006642265509167976, 0.9994959956972038, 0.9985226821464271, 0.015169210351680918, 0.9809422694086993, 0.997703841484799, 0.9978988047012445, 0.027629783757381735, 0.02337904779470762, 0.0021253679813370563, 0.9457887516949901, 0.9924813870824399, 0.006951231504857556, 0.23502845102166367, 0.0746560962068814, 0.06013963305554335, 0.009677642100892033, 0.6207516147572175, 0.9986532637082032, 0.9980603094691847, 0.06379077897915274, 0.00016787047099777038, 0.00856139402088629, 0.9273164817916836, 0.9947733756230189, 0.010567314431851434, 0.9888567697190208, 0.9530160691430376, 0.014494540975559507, 0.022466538512117235, 0.0036236352438898767, 0.005073089341445828, 0.9984873142168526, 0.2514070181314381, 0.18296252272912925, 0.2306339806163405, 0.03781758111722904, 0.29721422906216627, 0.2871207973447132, 0.03650676804726594, 0.07597354431458048, 0.6008816686698637, 0.16274493472838314, 0.10492765528540493, 0.731281515917669, 0.9515303505147115, 0.0067424648397853785, 0.04214040524865861, 0.9988591247650819, 0.9982734107611357, 0.9906787821999931, 0.008283267409698938, 0.9965908812659661, 0.001302911153469749, 0.09354902081912798, 0.4898945937046256, 0.41510749349546205, 0.09294803021549665, 0.12647027062108562, 0.07110778267852202, 0.7090461758515483, 0.01902726927451042, 0.9799043676372867, 0.9972446417148811, 0.14347061910693454, 0.19129415880924605, 0.061200753605055995, 0.6036467773613446, 0.000334430347568612, 0.16399726785218252, 0.8358570426014463, 0.04904721354972963, 0.17727064325830852, 0.10510117189227777, 0.6684434532348866, 0.06945350216870294, 0.27101436510584787, 0.21078895063788167, 0.42424918982071347, 0.024527285730905585, 0.02290130096800133, 0.9755954212368567, 0.9975907366884441, 0.9944438172542824, 0.9946471038081981, 0.005501366724602865, 0.955499422370882, 0.04334969023988879, 0.997051461583444, 0.07969769303588244, 0.08633916745553931, 0.1815336341372878, 0.6519714055296494, 0.007629367616102087, 0.87737727585174, 0.02506792216719257, 0.06866430854491878, 0.021798193188863106, 0.05786241139255909, 0.9394132673144888, 0.1381219644531264, 0.8428702555210471, 0.019032554156926867, 0.024678403995847795, 0.9575220750388944, 0.017274882797093456, 0.989649279410634, 0.046760770836495574, 0.9525837030406099, 0.10555891901295965, 0.010348913628721534, 0.8837972238928191, 0.03696281697163608, 0.28184147940872506, 0.15863208950327148, 0.5197896136636323, 0.00308023474763634, 0.9898939100887016, 0.9980794809382871, 0.018212456575703476, 0.010118031430946375, 0.008094425144757101, 0.9328824979332558, 0.030354094292839126, 0.9987115937510951, 0.0866016161500722, 0.7044422890835873, 0.18136852753715121, 0.019052355553015883, 0.008412728426007014, 0.9956093694616358, 0.05961606325602105, 0.09261781255846127, 0.2320768176752248, 0.5887086246532078, 0.026614313953580826, 0.050708355084052976, 0.94897064514442, 0.9924378588025021, 0.025454478523878166, 0.9729267346904543, 0.9934522240116682, 0.07517302326614746, 0.6776012791629125, 0.2063777907260437, 0.029233953492390677, 0.011484767443439195, 0.9957835655913375, 0.9919055361585281, 0.07252389493658805, 0.01057640134491909, 0.09972035553780856, 0.0679911515030513, 0.7479026665335642, 0.13572295394254316, 0.3375893727811358, 0.1503260565819307, 0.08117607055424259, 0.29549807693819524, 0.9952767884303974, 0.16163496001403319, 0.06527565692874417, 0.6734790000584716, 0.055950563081780716, 0.04351710461916278, 0.9953886550171274, 0.012696597378251507, 0.025393194756503014, 0.05622778838939953, 0.905086013106786, 0.004170298468942209, 0.9925310356082458, 0.9947597191242058, 0.04333618530535433, 0.8832934240179574, 0.07392643375619269, 0.9988493015853067, 0.9977238938531404, 0.04279346728591868, 0.9557207693855171, 0.05835016357737794, 0.3874815550060254, 0.17026395387617704, 0.3241169242462165, 0.059717745536222736, 0.047873976744465044, 0.9503870938901209, 0.826105420434048, 0.019689738224855, 0.046288156528606496, 0.029189173333337676, 0.07875895289942, 0.9922707480523901, 0.04968428887817451, 0.8787908595327116, 0.04813165485073156, 0.0232895104116443, 0.9937391427143313, 0.29851999138496493, 0.30598754455566873, 0.1672003368464904, 0.06848292663864967, 0.15973278367578658, 0.016300531752526375, 0.9780319051515823, 0.23408124003115513, 0.36483192034448836, 0.19944529822629864, 0.19598170404581297, 0.005484024119102278, 0.006030097419734843, 0.5899769507759929, 0.25909966977699395, 0.026065582394982873, 0.11865675567865337, 0.09180323563060142, 0.27840329066236735, 0.10776901574027123, 0.4739840970058225, 0.047897340329009434, 0.9957265150082103, 0.03011727483962079, 0.3254463728938127, 0.22160920143183654, 0.4225408708842319, 0.0004495115647704595, 0.9836439394574199, 0.014514609776329693, 0.00167476266649958, 0.0005582542221665266, 0.9988966638058734, 0.030125148925534206, 0.9694820654217372, 0.9975754489532624, 0.5011576383730927, 0.4303345535424403, 0.055534291914829025, 0.012815605826499007, 0.2840932458073827, 0.4782198150617425, 0.1806201216293513, 0.01602459887712876, 0.040977188557229254, 0.9415685933368921, 0.057166664595454164, 0.9975980488739613, 0.5399675160548083, 0.13951399502709638, 0.08292038472085447, 0.03241596033363857, 0.20524138421187738, 0.02508047947695916, 0.9750036396667874, 0.028286407327675817, 0.969819679806028, 0.9969980840629293, 0.012100461465400466, 0.610429662435415, 0.008753525315396082, 0.17198102678484067, 0.19695431959641183, 0.995211978848513, 0.9964097524286213, 0.17770747714762086, 0.025386782449660125, 0.07482420090426142, 0.012025318002470585, 0.7108299085904835, 0.4045807718334412, 0.11159091817572246, 0.0529929474441787, 0.017834165005252447, 0.41273353297869947, 0.5296293600817625, 0.3235745543186091, 0.08537309087885127, 0.0021079775525642288, 0.05955036585993946, 0.2143239492345903, 0.06527632971611888, 0.04025373665827331, 0.6788738290476363, 0.05800672483592545, 0.8814950506316528, 0.06007839358006565, 0.9973812161383525, 0.06402913811829015, 0.268473052811778, 0.11233182126015817, 0.5436860148991656, 0.011794841232316607, 0.9957457314335741, 0.9968776970838464, 0.9883245692711545, 0.009605746353607333, 0.0021346103008016296, 0.9994200041942051, 0.717135066783425, 0.16706633093052847, 0.05530994175931329, 0.01856292565894761, 0.042050709145779276, 0.9440426228852553, 0.03939170656643511, 0.011545845028093051, 0.004075004127562253, 0.009712352191605515, 0.4510256702677082, 0.25518207539040244, 0.10124794544947668, 0.1828050946748764, 0.006806235439275241, 0.24719667861367736, 0.7053866558448872, 0.027224941757100964, 0.013467657358565902, 0.9004489012060825, 0.013493240277813423, 0.049625139243958255, 0.03463265004638778, 0.0017990987037084564, 0.9547384139063109, 0.0031048403704270274, 0.03337703398209054, 0.003881050463033784, 0.004657260555640541, 0.012742716089120504, 0.9843748178845588, 0.6914311361743263, 0.08030514446259195, 0.05091115617843748, 0.04322645335905069, 0.13429018176878413, 0.9940079828809301, 0.9974212454707724, 0.0014289702657174388, 0.007287894153968258, 0.582406855675692, 0.1713696253918822, 0.11827211084154202, 0.12056259186136062, 0.15943008970072733, 0.031466465072511975, 0.807639270194474, 0.002097764338167465, 0.8138671379814816, 0.05958485606043009, 0.01102147626551308, 0.0003444211332972838, 0.11538107965459006, 0.20077020570025916, 0.3262044993178695, 0.16159553141728175, 0.028250967030993314, 0.28326302943075965, 0.0012497063213237666, 0.8572985364281038, 0.1412168143095856, 0.9954665328159619, 0.004734680298767952, 0.5756934163123753, 0.05839542322812317, 0.15154324467005623, 0.1142271449486702, 0.09998435879546942, 0.0800493426463818, 0.09994861426469141, 0.1863295433350808, 0.6336108985739035, 0.008467928571099488, 0.9907476428186403, 0.07533694765402174, 0.2741105864642483, 0.11532348140884865, 0.5348923283435543, 0.9897409002352874, 0.01972422576793825, 0.9796365464742663, 0.9605139101573711, 0.038950952353232475, 0.9695486079354728, 0.026361740896543574, 0.004024693266647874, 0.0015783261319973411, 0.015783261319973412, 0.6928851719468327, 0.2872553560235161, 0.01662018470214466, 0.980590897426535, 0.9584387509974888, 0.033643826019603626, 0.007385230101864211, 0.9852186401155522, 0.013273903833892169, 0.9941715922100721, 0.0643815474083351, 0.8101344715548834, 0.006706411188368239, 0.11937411915295466, 0.3087233027548154, 0.05126812969935563, 0.014488819262861375, 0.626362801979084, 0.8205275057584751, 0.17222759810792082, 0.006849961288383215, 0.9988966638058734, 0.07223250400479028, 0.21704147631915557, 0.33123762550768115, 0.04161968087895059, 0.33777294729859075, 0.9967661881688331, 0.028136713669517997, 0.33709947338672525, 0.16990246331208944, 0.46425577554704694, 0.9978653061727079, 0.02031906021426694, 0.7104414267774048, 0.20730279290031867, 0.03700971681884336, 0.02491503811987494, 0.5195948941988064, 0.11127661280091466, 0.09212244174501952, 0.004864551379274958, 0.2718068083169883, 0.9829649170334764, 0.002956285464762335, 0.014781427323811675, 0.990863011870606, 0.006041847633357354, 0.9902182162630255, 0.055429470668082154, 0.944148650379666, 0.9976265021456601, 0.9910819218336627, 0.2956528614801272, 0.020092912916125152, 0.10142136995758409, 0.007654443015666724, 0.5750400315519627, 0.08656881053072557, 0.0066591392715942745, 0.9056429409368214, 0.9819022120768497, 0.017046913404111973, 0.961512421178, 0.017204976861569528, 0.008848273814521471, 0.00024578538373670755, 0.01204348380309867, 0.004249765291032927, 0.9958616665320492, 0.08422734174387882, 0.2681523533070428, 0.1524113802984474, 0.4950504984130021, 0.0776165546108733, 0.1532429411548011, 0.1101226330376493, 0.6361903920669016, 0.02321862744769714, 0.02838933476343462, 0.9713208108346559, 0.9943409626610823, 0.9974447647611, 0.9271919475215531, 0.0726809805016895, 0.9923977512645911, 0.02567679597228644, 0.9731505673496562, 0.008719691534381992, 0.9896849891523561, 0.0069608548793329865, 0.4594164220359771, 0.06902847755338544, 0.46521713443542123, 0.021997828154874326, 0.9752370481994285, 0.8930665431058635, 0.06194681223855701, 0.045169550590614484, 0.9948652987205167, 0.9867410257614485, 0.013274542947463433, 0.05899823000283308, 0.9402842906701522, 0.9856034402254252, 0.014307146712949722, 0.9991033934223797, 0.013130084974349312, 0.6601729489308867, 0.2720630842479144, 0.04827237122922541, 0.006178863517340852, 0.9982802744264325, 0.9978263512463481, 0.030062647212274522, 0.9651691999730242, 0.0031644891802394236, 0.9960477546574005, 0.46131478664502273, 0.24493572801509725, 0.1531327438842431, 0.017440650429869992, 0.12323448600446599, 0.9943875097048417, 0.0680386431548558, 0.20241496338569603, 0.19305964995190336, 0.5366547978839252, 0.9970327912050223, 0.9988966638058734, 0.9988966638058734, 0.02168068762940352, 0.05884758070838098, 0.009291723269744366, 0.9105888804349479, 0.998331759393868, 0.9991257916532148, 0.9977916861760973, 0.9988265065721861, 0.0008471810912401917, 0.9974406460346705, 0.9686174918489093, 0.008648370462936691, 0.02162092615734173, 0.999500258089821, 0.9954069153698819, 0.9989913796204859, 0.1276666739811308, 0.056881191377731545, 0.1289307004561915, 0.6863663759579607, 0.9939398540820912, 0.004229531293966345, 0.9967346343930598, 0.990656056571791, 0.1216754415370191, 0.004465153817872261, 0.013395461453616782, 0.8595421099404102, 0.5706150570160038, 0.24497453934489888, 0.09435835841109713, 0.0241104953668734, 0.06578295649480273, 0.17524128981646522, 0.21374972611371393, 0.12947764088350297, 0.3510406729126007, 0.13115192072251378, 0.3673131239878439, 0.4345045491075714, 0.1587397418453563, 0.014838106380606498, 0.02463685587723343, 0.5309040283243602, 0.3284950433639733, 0.13922002282062662, 0.0013133964417040248, 0.9971710645751083, 0.9983504386578026, 0.8051488959124313, 0.11104491686710752, 0.033108378907607254, 0.002050961525250007, 0.04863708759878588], \"Term\": [\"''\", \"''\", \"''\", \"''\", \"''\", \"'m\", \"'m\", \"'m\", \"'m\", \"'s\", \"'s\", \"'s\", \"'s\", \"'s\", \"--\", \"--\", \"--\", \"--\", \"--\", \"-0800\", \"-0800\", \"-0800\", \"-0800\", \"-0800\", \"-origin\", \"-origin\", \"-origin\", \"..\", \"..\", \"..\", \"..\", \".pst\", \".pst\", \".pst\", \".pst\", \".pst\", \"/b\", \"/font\", \"/o=enron/ou=na/cn=recipients/cn=jsteff\", \"/o=enron/ou=na/cn=recipients/cn=lkitchen\", \"/o=enron/ou=na/cn=recipients/cn=pdavis1\", \"/td\", \"10/20/2001\", \"11/17/2001\", \"12:00:00\", \"6-28-02.nsf\", \"6-28-02\\\\note\", \"713-646-3490\", \"=09\", \"=09\", \"=20\", \"=20\", \"=20\", \"\\\\eric_bass_dec2000\\\\not\", \"\\\\kay_mann_june2001_1\\\\not\", \"\\\\kay_mann_june2001_3\\\\not\", \"\\\\mark\", \"\\\\portland\\\\westdesk\\\\california\", \"\\\\vincent_kaminski_jun2001_1\\\\not\", \"``\", \"``\", \"``\", \"``\", \"``\", \"access\", \"access\", \"access\", \"access\", \"access\", \"addresse\", \"aep.com\", \"agreement\", \"agreement\", \"agreement\", \"agreement\", \"akllp.com\", \"alan.comn\", \"alia\", \"align=\", \"also\", \"also\", \"also\", \"also\", \"also\", \"aol.com\", \"aol.com\", \"aol.com\", \"aol.com\", \"attach\", \"attach\", \"attach\", \"attach\", \"attach\", \"attempt\", \"attempt\", \"attempt\", \"attempt\", \"avail\", \"avail\", \"avail\", \"avail\", \"avail\", \"backout\", \"beck/hou/ect\", \"belden\", \"bert.mey\", \"bert.mey\", \"bill.williams.iii\", \"billion\", \"blair\", \"br\", \"brackett\", \"broderick\", \"bush\", \"bush\", \"busi\", \"busi\", \"busi\", \"busi\", \"busi\", \"california\", \"california\", \"california\", \"call\", \"call\", \"call\", \"call\", \"call\", \"ccampbel\", \"chief\", \"chri\", \"chri\", \"chri\", \"chri\", \"click\", \"click\", \"click\", \"columbiaenergygroup.com\", \"commiss\", \"commiss\", \"commun\", \"commun\", \"commun\", \"commun\", \"commun\", \"comn\", \"compani\", \"compani\", \"compani\", \"compani\", \"compani\", \"compaq.com\", \"competit\", \"conserv\", \"consum\", \"cost\", \"cost\", \"cost\", \"cost\", \"cost\", \"craig.dean\", \"crawler\", \"crenshaw\", \"crisi\", \"crisi\", \"csa\", \"ct\", \"ct\", \"ct\", \"daren\", \"daren\", \"daren\", \"daren\", \"dasovich\", \"dasovich\", \"dasovich-j\", \"dasovich-j\", \"databas\", \"databas\", \"david\", \"david\", \"david\", \"david\", \"day\", \"day\", \"day\", \"day\", \"day\", \"dbcaps97data\", \"deal\", \"deal\", \"deal\", \"deal\", \"deal\", \"debt\", \"delainey/hou/ect\", \"deregul\", \"dernehl\", \"detect\", \"detect\", \"dfarmer.nsf\", \"dfarmer.nsf\", \"dfarmer.nsf\", \"document\", \"document\", \"document\", \"document\", \"document\", \"dow\", \"dporter3\", \"drew.fossum\", \"e-mail\", \"e-mail\", \"e-mail\", \"e-mail\", \"e-mail\", \"e-mail\\\\\", \"e-mail\\\\\", \"e=20\", \"ebass.nsf\", \"ect\", \"ect\", \"ect\", \"ee\", \"ee\", \"ee\", \"ee\", \"ee\", \"electr\", \"electr\", \"electr\", \"email\", \"email\", \"email\", \"email\", \"email\", \"employe\", \"employe\", \"employe\", \"employe\", \"employe\", \"energi\", \"energi\", \"energi\", \"energi\", \"energi\", \"enform.com\", \"engin\", \"engin\", \"engin\", \"engin\", \"enron\", \"enron\", \"enron\", \"enron\", \"enron\", \"enron.messaging.administr\", \"enron_develop\", \"enronxg\", \"enronxg\", \"enronxg\", \"eric.lind\", \"error\", \"error\", \"error\", \"error\", \"error\", \"farmer-d\", \"farmer-d\", \"farmer-d\", \"fax\", \"fax\", \"fax\", \"fax\", \"fax\", \"final\", \"final\", \"final\", \"final\", \"final\", \"folders\\\\al\", \"folders\\\\al\", \"folders\\\\al\", \"folders\\\\al\", \"folders\\\\al\", \"font\", \"fool\", \"former\", \"forward\", \"forward\", \"forward\", \"forward\", \"forward\", \"fossum\", \"fossum\", \"free\", \"free\", \"free\", \"free\", \"free\", \"fri\", \"fri\", \"fri\", \"fri\", \"fri\", \"fw\", \"fw\", \"fw\", \"fw\", \"fw\", \"ga\", \"ga\", \"ga\", \"ga\", \"ga\", \"geaccon\", \"geir.solberg\", \"geir.solberg\", \"gener\", \"gener\", \"gener\", \"gener\", \"gener\", \"gerald.nemec\", \"gerald.nemec\", \"germany/hou/ect\", \"get\", \"get\", \"get\", \"get\", \"get\", \"gfergu\", \"gilbert-smith\", \"ginger.dernehl\", \"gnemec.nsf\", \"go\", \"go\", \"go\", \"go\", \"go\", \"govenar\", \"greg.whalley\", \"greg.whalley\", \"gtc\", \"gtc\", \"haas.berkeley.edu\", \"harry.kingerski\", \"hartso\", \"hartso\", \"hayslett\", \"hilton\", \"hotel\", \"hotel\", \"hotel\", \"hotel\", \"hotmail.com\", \"hotmail.com\", \"hour\", \"hour\", \"hour\", \"hour\", \"hour\", \"hourahead\", \"href=\", \"http\", \"http\", \"http\", \"http\", \"ibj\", \"imag\", \"imag\", \"increas\", \"increas\", \"increas\", \"increas\", \"increas\", \"india\", \"inform\", \"inform\", \"inform\", \"inform\", \"inform\", \"initi\", \"initi\", \"initi\", \"initi\", \"internet\", \"internet\", \"internet\", \"invest\", \"invest\", \"invest\", \"investig\", \"investor\", \"isda\", \"isda\", \"isda.org\", \"j\", \"j\", \"j\", \"j\", \"jame\", \"jame\", \"jame\", \"jame\", \"james.steff\", \"james.steff\", \"jbryson\", \"jeff\", \"jeff\", \"jeff\", \"jeff\", \"jeff\", \"jeff.dasovich\", \"jeff.dasovich\", \"joe\", \"joe\", \"joe\", \"joe\", \"john\", \"john\", \"john\", \"john\", \"john\", \"john.lavorato\", \"john.lavorato\", \"jones/hou/ect\", \"jsteff\", \"kaminski\", \"kaminski\", \"kaminski-v\", \"kaminski-v\", \"kaminski/hou/ect\", \"karen\", \"karen\", \"karen\", \"karen\", \"kate\", \"kate\", \"kate\", \"kate\", \"kate\", \"kaufman\", \"kaufman\", \"kay\", \"kay\", \"kay\", \"kay.mann\", \"kay.mann\", \"kay.mann\", \"kayn\", \"kean\", \"kean\", \"kean-\", \"kean-\", \"kean-\", \"kevin\", \"kevin\", \"kevin\", \"kevin\", \"kevin\", \"kimberly.watson\", \"kingerski\", \"kitchen\", \"kitchen\", \"kitchen\", \"kitchen\", \"kitchen\", \"kmann.nsf\", \"know\", \"know\", \"know\", \"know\", \"know\", \"kslaw.com\", \"l\", \"l\", \"l\", \"l\", \"l\", \"lavorato\", \"lavorato\", \"lawner\", \"leaf.harasin\", \"leaf.harasin\", \"leff\", \"let\", \"let\", \"let\", \"let\", \"let\", \"linder\", \"lindi\", \"link\", \"link\", \"link\", \"link\", \"link\", \"list\", \"list\", \"list\", \"list\", \"list\", \"lokay\", \"london\", \"london\", \"london\", \"london\", \"london\", \"lorrain\", \"louis\", \"louis\", \"louis\", \"louis\", \"louise.kitchen\", \"louise.kitchen\", \"lynn.blair\", \"mann\", \"mann\", \"mann\", \"mann-k\", \"mann/corp/enron\", \"mara\", \"mara\", \"mark\", \"mark\", \"mark\", \"mark\", \"mark\", \"mark.guzman\", \"mark.guzman\", \"market\", \"market\", \"market\", \"market\", \"market\", \"mary.hain\", \"master\", \"master\", \"master\", \"master\", \"maureen.mcvick\", \"may\", \"may\", \"may\", \"may\", \"may\", \"mccubbin\", \"mccubbin\", \"meet\", \"meet\", \"meet\", \"meet\", \"meet\", \"messag\", \"messag\", \"messag\", \"messag\", \"messag\", \"michael\", \"michael\", \"michael\", \"michael\", \"michael\", \"michelle.lokay\", \"mike\", \"mike\", \"mike\", \"mike\", \"mike\", \"million\", \"million\", \"million\", \"million\", \"mkt_type\", \"monika.causholli\", \"monika.causholli\", \"mpalmer\", \"n't\", \"n't\", \"n't\", \"n't\", \"need\", \"need\", \"need\", \"need\", \"need\", \"nemec\", \"nemec\", \"nemec-g\", \"new\", \"new\", \"new\", \"new\", \"new\", \"newslett\", \"newslett\", \"nicolay\", \"nicolay\", \"nom\", \"non-privileg\", \"non-privileg\", \"non-privileg\", \"non-privileg\", \"non-privileg\", \"novosel\", \"nyiso.com\", \"occur\", \"occur\", \"occur\", \"occur\", \"occur\", \"offer\", \"offer\", \"offer\", \"offer\", \"offer\", \"one\", \"one\", \"one\", \"one\", \"one\", \"onlin\", \"onlin\", \"onlin\", \"onlin\", \"outag\", \"outag\", \"outag\", \"pars\", \"paul\", \"paul\", \"paul\", \"paul\", \"paul\", \"paul.kaufman\", \"pdq.net\", \"percent\", \"percent\", \"percent\", \"pete.davi\", \"plan\", \"plan\", \"plan\", \"plan\", \"plan\", \"plant\", \"plant\", \"plant\", \"plant\", \"pleas\", \"pleas\", \"pleas\", \"pleas\", \"pleas\", \"pm\", \"pm\", \"pm\", \"pm\", \"pm\", \"power\", \"power\", \"power\", \"power\", \"power\", \"presid\", \"presid\", \"presid\", \"presid\", \"presid\", \"presto\", \"presto\", \"price\", \"price\", \"price\", \"price\", \"price\", \"privaci\", \"profit\", \"profit\", \"pst\", \"pst\", \"pst\", \"pst\", \"pst\", \"pt\", \"pt\", \"pt\", \"pt\", \"rate\", \"rate\", \"rate\", \"rate\", \"rate\", \"receiv\", \"receiv\", \"receiv\", \"receiv\", \"receiv\", \"recipi\", \"recipi\", \"recipi\", \"regul\", \"regul\", \"report\", \"report\", \"report\", \"report\", \"report\", \"richard\", \"richard\", \"richard\", \"richard\", \"richard.shapiro\", \"richard.shapiro\", \"robert\", \"robert\", \"robert\", \"robert\", \"robert.bad\", \"ryan.sling\", \"ryan.sling\", \"s/enron\", \"s/enron\", \"said\", \"said\", \"said\", \"salli\", \"salli\", \"salli\", \"salli\", \"sandra.mccubbin\", \"sandra.mccubbin\", \"sara\", \"sara\", \"sara\", \"sara.shackleton\", \"sara.shackleton\", \"sarah.novosel\", \"sat\", \"sat\", \"sat\", \"sat\", \"save\", \"save\", \"save\", \"save\", \"say\", \"say\", \"say\", \"sc_id\", \"schedul\", \"schedul\", \"schedul\", \"schedul\", \"schedul\", \"scheduling\\\\iso\", \"scott\", \"scott\", \"scott\", \"scott\", \"seek\", \"sent\", \"sent\", \"sent\", \"sent\", \"sent\", \"servic\", \"servic\", \"servic\", \"servic\", \"servic\", \"shackleton\", \"shackleton\", \"shackleton\", \"shackleton-\", \"shackleton-\", \"shankman/hou/ect\", \"shapiro\", \"shapiro\", \"sheraton\", \"shirley.crenshaw\", \"site\", \"site\", \"site\", \"site\", \"site\", \"skean.nsf\", \"skean.nsf\", \"skean.nsf\", \"sshackle.nsf\", \"sshackle.nsf\", \"state\", \"state\", \"state\", \"state\", \"state\", \"steff\", \"steff\", \"steve\", \"steve\", \"steve\", \"steve\", \"steven\", \"steven\", \"steven\", \"steven\", \"steven\", \"steven.kean\", \"steven.kean\", \"steven.merri\", \"stinson\", \"stock\", \"stock\", \"sturm\", \"subscrib\", \"subscrib\", \"subscript\", \"subscript\", \"susan\", \"susan\", \"susan\", \"susan\", \"susan.mara\", \"susan.mara\", \"syme\", \"syme\", \"syme\", \"symes/pdx/ect\", \"t=\", \"t=\", \"taylor/hou/ect\", \"taylor/hou/ect\", \"td\", \"td\", \"th=\", \"thank\", \"thank\", \"thank\", \"thank\", \"thank\", \"the=\", \"the=20\", \"thru\", \"thru\", \"thru\", \"tim.belden\", \"time\", \"time\", \"time\", \"time\", \"time\", \"todaysheadlin\", \"tom\", \"tom\", \"tom\", \"tom\", \"tr\", \"trans_dat\", \"trans_typ\", \"travel\", \"travel\", \"travel\", \"travel\", \"tw\", \"txu.com\", \"unsubscrib\", \"util\", \"util\", \"varianc\", \"velaw.com\", \"velaw.com\", \"velaw.com\", \"vinc\", \"vince.j.kaminski\", \"vince.kaminski\", \"visit\", \"visit\", \"visit\", \"visit\", \"vkamins.nsf\", \"vkamins.nsf\", \"vkaminski\", \"wanda\", \"web\", \"web\", \"web\", \"web\", \"week\", \"week\", \"week\", \"week\", \"week\", \"william\", \"william\", \"william\", \"william\", \"william\", \"work\", \"work\", \"work\", \"work\", \"work\", \"would\", \"would\", \"would\", \"would\", \"wr\", \"yahoo.com\", \"year\", \"year\", \"year\", \"year\", \"year\"]}, \"R\": 30, \"lambda.step\": 0.01, \"plot.opts\": {\"xlab\": \"PC1\", \"ylab\": \"PC2\"}, \"topic.order\": [2, 5, 4, 3, 1]};\n",
              "\n",
              "function LDAvis_load_lib(url, callback){\n",
              "  var s = document.createElement('script');\n",
              "  s.src = url;\n",
              "  s.async = true;\n",
              "  s.onreadystatechange = s.onload = callback;\n",
              "  s.onerror = function(){console.warn(\"failed to load library \" + url);};\n",
              "  document.getElementsByTagName(\"head\")[0].appendChild(s);\n",
              "}\n",
              "\n",
              "if(typeof(LDAvis) !== \"undefined\"){\n",
              "   // already loaded: just create the visualization\n",
              "   !function(LDAvis){\n",
              "       new LDAvis(\"#\" + \"ldavis_el212601390914946255523278083831\", ldavis_el212601390914946255523278083831_data);\n",
              "   }(LDAvis);\n",
              "}else if(typeof define === \"function\" && define.amd){\n",
              "   // require.js is available: use it to load d3/LDAvis\n",
              "   require.config({paths: {d3: \"https://d3js.org/d3.v5\"}});\n",
              "   require([\"d3\"], function(d3){\n",
              "      window.d3 = d3;\n",
              "      LDAvis_load_lib(\"https://cdn.jsdelivr.net/gh/bmabey/pyLDAvis@3.4.0/pyLDAvis/js/ldavis.v3.0.0.js\", function(){\n",
              "        new LDAvis(\"#\" + \"ldavis_el212601390914946255523278083831\", ldavis_el212601390914946255523278083831_data);\n",
              "      });\n",
              "    });\n",
              "}else{\n",
              "    // require.js not available: dynamically load d3 & LDAvis\n",
              "    LDAvis_load_lib(\"https://d3js.org/d3.v5.js\", function(){\n",
              "         LDAvis_load_lib(\"https://cdn.jsdelivr.net/gh/bmabey/pyLDAvis@3.4.0/pyLDAvis/js/ldavis.v3.0.0.js\", function(){\n",
              "                 new LDAvis(\"#\" + \"ldavis_el212601390914946255523278083831\", ldavis_el212601390914946255523278083831_data);\n",
              "            })\n",
              "         });\n",
              "}\n",
              "</script>"
            ]
          },
          "metadata": {},
          "execution_count": 20
        }
      ]
    },
    {
      "cell_type": "code",
      "source": [
        "import os\n",
        "\n",
        "for filename in os.listdir('/content'):\n",
        "    if filename.endswith('.ipynb'):\n",
        "        print(filename)"
      ],
      "metadata": {
        "colab": {
          "base_uri": "https://localhost:8080/"
        },
        "id": "jbWDVuT6djUF",
        "outputId": "21c1fb4a-b50e-45ca-a892-a18e1fadeb84"
      },
      "execution_count": 30,
      "outputs": [
        {
          "output_type": "stream",
          "name": "stdout",
          "text": [
            "Enron_Fraud_Topic_Modeling_LDA.ipynb\n"
          ]
        }
      ]
    },
    {
      "cell_type": "code",
      "source": [
        "import nbformat\n",
        "\n",
        "notebook_path = '/content/Enron_Fraud_Topic_Modeling_LDA.ipynb'\n",
        "\n",
        "with open(notebook_path) as f:\n",
        "    nb = nbformat.read(f, as_version=4)\n",
        "\n",
        "# Remove widget metadata if it exists\n",
        "if 'widgets' in nb['metadata']:\n",
        "    del nb['metadata']['widgets']\n",
        "\n",
        "# Save cleaned version\n",
        "with open(notebook_path, 'w') as f:\n",
        "    nbformat.write(nb, f)\n",
        "\n",
        "print(\"✅ Notebook cleaned and saved. Ready to upload to GitHub.\")\n"
      ],
      "metadata": {
        "colab": {
          "base_uri": "https://localhost:8080/"
        },
        "id": "flFV6v9CaVWv",
        "outputId": "0858d02f-bf93-42a0-81a7-071507095b6b"
      },
      "execution_count": 31,
      "outputs": [
        {
          "output_type": "stream",
          "name": "stdout",
          "text": [
            "✅ Notebook cleaned and saved. Ready to upload to GitHub.\n"
          ]
        }
      ]
    }
  ]
}